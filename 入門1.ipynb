{
  "nbformat": 4,
  "nbformat_minor": 0,
  "metadata": {
    "colab": {
      "provenance": [],
      "collapsed_sections": [
        "CuOEuGPzkXJu"
      ],
      "authorship_tag": "ABX9TyPTyeUUJjqLa3ddKb4WRX3M",
      "include_colab_link": true
    },
    "kernelspec": {
      "name": "python3",
      "display_name": "Python 3"
    },
    "language_info": {
      "name": "python"
    }
  },
  "cells": [
    {
      "cell_type": "markdown",
      "metadata": {
        "id": "view-in-github",
        "colab_type": "text"
      },
      "source": [
        "<a href=\"https://colab.research.google.com/github/4kang/python/blob/main/%E5%85%A5%E9%96%801.ipynb\" target=\"_parent\"><img src=\"https://colab.research.google.com/assets/colab-badge.svg\" alt=\"Open In Colab\"/></a>"
      ]
    },
    {
      "cell_type": "code",
      "source": [
        "s = \"apple\"\n",
        "print(s.upper())"
      ],
      "metadata": {
        "id": "qBHOaG-MIYEj",
        "outputId": "aefa56cf-7ccd-4259-efab-932aa2e83945",
        "colab": {
          "base_uri": "https://localhost:8080/"
        }
      },
      "execution_count": 2,
      "outputs": [
        {
          "output_type": "stream",
          "name": "stdout",
          "text": [
            "APPLE\n"
          ]
        }
      ]
    },
    {
      "cell_type": "code",
      "source": [
        "[s.upper() for s in ['apple', 'banana', 'cherry'] if s[0] == 'a']"
      ],
      "metadata": {
        "id": "06c8n_OYJPfn",
        "outputId": "ae1b2780-ecdc-41d8-ccc6-e1c192d0afeb",
        "colab": {
          "base_uri": "https://localhost:8080/"
        }
      },
      "execution_count": 4,
      "outputs": [
        {
          "output_type": "execute_result",
          "data": {
            "text/plain": [
              "['APPLE']"
            ]
          },
          "metadata": {},
          "execution_count": 4
        }
      ]
    },
    {
      "cell_type": "code",
      "source": [
        "[s.upper() for s in ['apple', 'banana', 'cherry'] if s[:] == 'a']"
      ],
      "metadata": {
        "id": "bF7Lyu8yJjVD",
        "outputId": "354010b3-ea29-4700-8f4c-06a8dbab9669",
        "colab": {
          "base_uri": "https://localhost:8080/"
        }
      },
      "execution_count": 5,
      "outputs": [
        {
          "output_type": "execute_result",
          "data": {
            "text/plain": [
              "[]"
            ]
          },
          "metadata": {},
          "execution_count": 5
        }
      ]
    },
    {
      "cell_type": "code",
      "source": [
        "[s.upper() for s in ['apple', 'banana', 'cherry'] if s[1] == 'a']"
      ],
      "metadata": {
        "id": "LEu1yJzHJlDG",
        "outputId": "7c3684d9-5d6d-496a-e758-176399c8ac4d",
        "colab": {
          "base_uri": "https://localhost:8080/"
        }
      },
      "execution_count": 6,
      "outputs": [
        {
          "output_type": "execute_result",
          "data": {
            "text/plain": [
              "['BANANA']"
            ]
          },
          "metadata": {},
          "execution_count": 6
        }
      ]
    },
    {
      "cell_type": "code",
      "source": [
        "[s.upper() for s in ['apple', 'banana', 'cherry'] if s[-1] == 'y']"
      ],
      "metadata": {
        "id": "JIv8IzRoJtR9",
        "outputId": "bdc9cd9b-5085-4dc2-cd86-19995f859f98",
        "colab": {
          "base_uri": "https://localhost:8080/"
        }
      },
      "execution_count": 9,
      "outputs": [
        {
          "output_type": "execute_result",
          "data": {
            "text/plain": [
              "['CHERRY']"
            ]
          },
          "metadata": {},
          "execution_count": 9
        }
      ]
    },
    {
      "cell_type": "markdown",
      "source": [
        "#join()"
      ],
      "metadata": {
        "id": "VtoJMxSMyrTO"
      }
    },
    {
      "cell_type": "code",
      "source": [],
      "metadata": {
        "id": "0mA2qdNi1Nud"
      },
      "execution_count": null,
      "outputs": []
    },
    {
      "cell_type": "code",
      "source": [
        "x = \"Hello\", \"World\"\n",
        "y = \"New\".join(x)\n",
        "print(y)"
      ],
      "metadata": {
        "colab": {
          "base_uri": "https://localhost:8080/"
        },
        "id": "7O3up0GCyuNn",
        "outputId": "0f6cbbbd-6d11-4306-c3c2-278caf4b196c"
      },
      "execution_count": null,
      "outputs": [
        {
          "output_type": "stream",
          "name": "stdout",
          "text": [
            "HelloNewWorld\n"
          ]
        }
      ]
    },
    {
      "cell_type": "code",
      "source": [
        "print(\"Dive to World\".split(\"to\"))\n",
        "x = ['Dive ', ' World']\n",
        "y = \"To\".join(x)\n",
        "print(y)"
      ],
      "metadata": {
        "colab": {
          "base_uri": "https://localhost:8080/"
        },
        "id": "NEhQESPvz6Q7",
        "outputId": "67cfdd9b-936e-4c62-e36e-0bb123569e7d"
      },
      "execution_count": null,
      "outputs": [
        {
          "output_type": "stream",
          "name": "stdout",
          "text": [
            "['Dive ', ' World']\n",
            "Dive To World\n"
          ]
        }
      ]
    },
    {
      "cell_type": "markdown",
      "source": [
        "#文字列とメソッド"
      ],
      "metadata": {
        "id": "-_M6t9c0miLs"
      }
    },
    {
      "cell_type": "code",
      "source": [
        "x = \"Hello real World\""
      ],
      "metadata": {
        "id": "323xb1tbmlZL"
      },
      "execution_count": null,
      "outputs": []
    },
    {
      "cell_type": "code",
      "source": [
        "y = x.find(\"real\")\n",
        "#xを対象に、findメソッドを使って、realという文字列を探す"
      ],
      "metadata": {
        "id": "onMUXMUTmw7m"
      },
      "execution_count": null,
      "outputs": []
    },
    {
      "cell_type": "code",
      "source": [
        "print(\"real starts on\", y)"
      ],
      "metadata": {
        "colab": {
          "base_uri": "https://localhost:8080/"
        },
        "id": "9rNbKnvcnMWR",
        "outputId": "d43cb112-305e-408b-83c6-1286025edbb6"
      },
      "execution_count": null,
      "outputs": [
        {
          "output_type": "stream",
          "name": "stdout",
          "text": [
            "real starts on 6\n"
          ]
        }
      ]
    },
    {
      "cell_type": "code",
      "source": [
        "print(x[y:])"
      ],
      "metadata": {
        "colab": {
          "base_uri": "https://localhost:8080/"
        },
        "id": "KN3rBufqndWi",
        "outputId": "e0ef425e-9b93-4613-ae0d-d66d37fe588d"
      },
      "execution_count": null,
      "outputs": [
        {
          "output_type": "stream",
          "name": "stdout",
          "text": [
            "real World\n"
          ]
        }
      ]
    },
    {
      "cell_type": "code",
      "source": [
        "x = \"Its a small world\""
      ],
      "metadata": {
        "id": "_7yuEmJ9oByE"
      },
      "execution_count": null,
      "outputs": []
    },
    {
      "cell_type": "code",
      "source": [
        "y = x.find(\"small\")"
      ],
      "metadata": {
        "id": "hZd2ZQB2oHbz"
      },
      "execution_count": null,
      "outputs": []
    },
    {
      "cell_type": "code",
      "source": [
        "print(y)"
      ],
      "metadata": {
        "colab": {
          "base_uri": "https://localhost:8080/"
        },
        "id": "u2hmHJbdoRAN",
        "outputId": "1143fd46-d152-48be-f4c8-efdd701a8997"
      },
      "execution_count": null,
      "outputs": [
        {
          "output_type": "stream",
          "name": "stdout",
          "text": [
            "6\n"
          ]
        }
      ]
    },
    {
      "cell_type": "code",
      "source": [
        "print(x[y:])"
      ],
      "metadata": {
        "colab": {
          "base_uri": "https://localhost:8080/"
        },
        "id": "KuPhILOtoT9R",
        "outputId": "50f0941b-e8fe-430a-ac9d-f06638fd1b44"
      },
      "execution_count": null,
      "outputs": [
        {
          "output_type": "stream",
          "name": "stdout",
          "text": [
            "small world\n"
          ]
        }
      ]
    },
    {
      "cell_type": "markdown",
      "source": [
        "#分割(split)メソッド"
      ],
      "metadata": {
        "id": "soXHe5Dfkf3D"
      }
    },
    {
      "cell_type": "code",
      "source": [
        "print(\"Hello Wolrd\".split(\" \"))"
      ],
      "metadata": {
        "colab": {
          "base_uri": "https://localhost:8080/"
        },
        "id": "jW_rsM_Mkrxs",
        "outputId": "1a02a17f-19d8-48c9-b3a7-145720c3125c"
      },
      "execution_count": null,
      "outputs": [
        {
          "output_type": "stream",
          "name": "stdout",
          "text": [
            "['Hello', 'Wolrd']\n"
          ]
        }
      ]
    },
    {
      "cell_type": "code",
      "source": [
        "print(\"Hello World\".split(\"e\")) #eが消えて「，」がつく"
      ],
      "metadata": {
        "colab": {
          "base_uri": "https://localhost:8080/"
        },
        "id": "KQ9jkf8MkyWS",
        "outputId": "cd26c2ed-6ddb-4b59-aa40-c79c27534776"
      },
      "execution_count": null,
      "outputs": [
        {
          "output_type": "stream",
          "name": "stdout",
          "text": [
            "['H', 'llo World']\n"
          ]
        }
      ]
    },
    {
      "cell_type": "code",
      "source": [
        "print(\"Hello Wolrd\".split())"
      ],
      "metadata": {
        "colab": {
          "base_uri": "https://localhost:8080/"
        },
        "id": "aDtpfZIyk1sk",
        "outputId": "f667e1b5-234b-4370-bebd-2b69f2ab01cc"
      },
      "execution_count": null,
      "outputs": [
        {
          "output_type": "stream",
          "name": "stdout",
          "text": [
            "['Hello', 'Wolrd']\n"
          ]
        }
      ]
    },
    {
      "cell_type": "code",
      "source": [
        "print(\"Java Script\".split())"
      ],
      "metadata": {
        "colab": {
          "base_uri": "https://localhost:8080/"
        },
        "id": "I2UyHjEOk3rJ",
        "outputId": "0760d037-5426-4d09-93f9-03f7bc667dbf"
      },
      "execution_count": null,
      "outputs": [
        {
          "output_type": "stream",
          "name": "stdout",
          "text": [
            "['Java', 'Script']\n"
          ]
        }
      ]
    },
    {
      "cell_type": "code",
      "source": [
        "print(\"ABCDEFGHI\".split(\"F\"))"
      ],
      "metadata": {
        "colab": {
          "base_uri": "https://localhost:8080/"
        },
        "id": "eKeQZ-spk6hv",
        "outputId": "93c45e93-5b3d-4884-c8c4-93362c8870c6"
      },
      "execution_count": null,
      "outputs": [
        {
          "output_type": "stream",
          "name": "stdout",
          "text": [
            "['ABCDE', 'GHI']\n"
          ]
        }
      ]
    },
    {
      "cell_type": "markdown",
      "source": [
        "#スライシング"
      ],
      "metadata": {
        "id": "CuOEuGPzkXJu"
      }
    },
    {
      "cell_type": "code",
      "execution_count": null,
      "metadata": {
        "colab": {
          "base_uri": "https://localhost:8080/"
        },
        "id": "ZL-cdlX_gcuh",
        "outputId": "e707e564-6d06-47f6-a8b8-3b8ff6cb02d5"
      },
      "outputs": [
        {
          "output_type": "stream",
          "name": "stdout",
          "text": [
            "ell\n"
          ]
        }
      ],
      "source": [
        "x = \"Hello Wolrd\"[1:4]\n",
        "print(x)"
      ]
    },
    {
      "cell_type": "code",
      "source": [
        "print(\"Hello World\"[1:4])"
      ],
      "metadata": {
        "colab": {
          "base_uri": "https://localhost:8080/"
        },
        "id": "AivdtzS3g0-e",
        "outputId": "c3824336-8317-44b3-c364-7fc848916196"
      },
      "execution_count": null,
      "outputs": [
        {
          "output_type": "stream",
          "name": "stdout",
          "text": [
            "ell\n"
          ]
        }
      ]
    },
    {
      "cell_type": "code",
      "source": [
        "print(\"Hello World\"[4:7])"
      ],
      "metadata": {
        "colab": {
          "base_uri": "https://localhost:8080/"
        },
        "id": "DWh_HM7Gg74F",
        "outputId": "8d47c4d6-bff9-4721-c971-af621e8c1ce3"
      },
      "execution_count": null,
      "outputs": [
        {
          "output_type": "stream",
          "name": "stdout",
          "text": [
            "o W\n"
          ]
        }
      ]
    },
    {
      "cell_type": "code",
      "source": [
        "print(\"Hello World\"[7:10])"
      ],
      "metadata": {
        "colab": {
          "base_uri": "https://localhost:8080/"
        },
        "id": "Pjeh2R88hBI6",
        "outputId": "f22e7f52-fd53-466b-eca3-32734b0e620f"
      },
      "execution_count": null,
      "outputs": [
        {
          "output_type": "stream",
          "name": "stdout",
          "text": [
            "orl\n"
          ]
        }
      ]
    },
    {
      "cell_type": "code",
      "source": [
        "print(\"Hello World\"[3:])"
      ],
      "metadata": {
        "colab": {
          "base_uri": "https://localhost:8080/"
        },
        "id": "n4lIojPxhsI2",
        "outputId": "a311bf5a-7fc4-4059-9fa6-f8cd3f6c1755"
      },
      "execution_count": null,
      "outputs": [
        {
          "output_type": "stream",
          "name": "stdout",
          "text": [
            "lo World\n"
          ]
        }
      ]
    },
    {
      "cell_type": "code",
      "source": [
        "print(\"Hello World\"[:3])"
      ],
      "metadata": {
        "colab": {
          "base_uri": "https://localhost:8080/"
        },
        "id": "mEqot1_Qh1_h",
        "outputId": "86e1de51-f383-49ce-f7ab-f3b2d187515e"
      },
      "execution_count": null,
      "outputs": [
        {
          "output_type": "stream",
          "name": "stdout",
          "text": [
            "Hel\n"
          ]
        }
      ]
    },
    {
      "cell_type": "code",
      "source": [
        "print(\"Hello World\"[-1:])"
      ],
      "metadata": {
        "colab": {
          "base_uri": "https://localhost:8080/"
        },
        "id": "Yja7sSQOiCX6",
        "outputId": "ddc5f4b3-195b-47b5-c9c1-d624b2d4016d"
      },
      "execution_count": null,
      "outputs": [
        {
          "output_type": "stream",
          "name": "stdout",
          "text": [
            "d\n"
          ]
        }
      ]
    },
    {
      "cell_type": "code",
      "source": [
        "x = \"Hello World\"[1:5]\n",
        "y = \"Hello World\"[6:8]\n",
        "\n",
        "z = \"\".join(x).join(y)\n",
        "print(z)"
      ],
      "metadata": {
        "colab": {
          "base_uri": "https://localhost:8080/"
        },
        "id": "tC6HxA5qiMiR",
        "outputId": "09e92612-6a0d-403a-94cd-dc6d4710af03"
      },
      "execution_count": null,
      "outputs": [
        {
          "output_type": "stream",
          "name": "stdout",
          "text": [
            "Welloo\n"
          ]
        }
      ]
    },
    {
      "cell_type": "code",
      "source": [
        "print(\"Hello World\"[:])"
      ],
      "metadata": {
        "colab": {
          "base_uri": "https://localhost:8080/"
        },
        "id": "STKNMFFIigI1",
        "outputId": "4fbb0b6a-b128-4f84-cf8c-17d9b33dd299"
      },
      "execution_count": null,
      "outputs": [
        {
          "output_type": "stream",
          "name": "stdout",
          "text": [
            "Hello World\n"
          ]
        }
      ]
    },
    {
      "cell_type": "markdown",
      "source": [
        "#クォーテーション"
      ],
      "metadata": {
        "id": "2Tr5iWAemauV"
      }
    },
    {
      "cell_type": "code",
      "source": [
        "print('Hello\"real\"World')"
      ],
      "metadata": {
        "colab": {
          "base_uri": "https://localhost:8080/"
        },
        "id": "EPRFtrLhlVEk",
        "outputId": "44adfd5e-b3bd-46fd-e65d-bdd375dff15d"
      },
      "execution_count": null,
      "outputs": [
        {
          "output_type": "stream",
          "name": "stdout",
          "text": [
            "Hello\"real\"World\n"
          ]
        }
      ]
    },
    {
      "cell_type": "code",
      "source": [
        "print(\"ようこそ'こちら側の'世界へ\")"
      ],
      "metadata": {
        "colab": {
          "base_uri": "https://localhost:8080/"
        },
        "id": "juotqnSzlrKM",
        "outputId": "7ee4622b-4ff0-4051-9f2b-ed133dc50cf9"
      },
      "execution_count": null,
      "outputs": [
        {
          "output_type": "stream",
          "name": "stdout",
          "text": [
            "ようこそ'こちら側の'世界へ\n"
          ]
        }
      ]
    },
    {
      "cell_type": "code",
      "source": [
        "print(\"It's a pen.\")"
      ],
      "metadata": {
        "colab": {
          "base_uri": "https://localhost:8080/"
        },
        "id": "fHVJ8Z3ql-_W",
        "outputId": "8207f2e0-c321-430c-a27d-7fc449bfd123"
      },
      "execution_count": null,
      "outputs": [
        {
          "output_type": "stream",
          "name": "stdout",
          "text": [
            "It's a pen.\n"
          ]
        }
      ]
    }
  ]
}