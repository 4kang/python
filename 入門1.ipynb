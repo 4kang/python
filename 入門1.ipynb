{
  "nbformat": 4,
  "nbformat_minor": 0,
  "metadata": {
    "colab": {
      "provenance": [],
      "collapsed_sections": [
        "CuOEuGPzkXJu"
      ],
      "authorship_tag": "ABX9TyPdHIjLCzNWmtSb1FWDOJhZ",
      "include_colab_link": true
    },
    "kernelspec": {
      "name": "python3",
      "display_name": "Python 3"
    },
    "language_info": {
      "name": "python"
    }
  },
  "cells": [
    {
      "cell_type": "markdown",
      "metadata": {
        "id": "view-in-github",
        "colab_type": "text"
      },
      "source": [
        "<a href=\"https://colab.research.google.com/github/4kang/python/blob/main/%E5%85%A5%E9%96%801.ipynb\" target=\"_parent\"><img src=\"https://colab.research.google.com/assets/colab-badge.svg\" alt=\"Open In Colab\"/></a>"
      ]
    },
    {
      "cell_type": "markdown",
      "source": [
        "#format()"
      ],
      "metadata": {
        "id": "CP9kwE71y3af"
      }
    },
    {
      "cell_type": "code",
      "source": [
        "x = \"ドコモショップ\"\n",
        "y = \"PIMAN:ID-\"\n",
        "z = 32\n",
        "\n",
        "print(\"{}おおたかの森店、{}12238。お客様は正田利一({})である\".format(x,y,z))"
      ],
      "metadata": {
        "colab": {
          "base_uri": "https://localhost:8080/"
        },
        "id": "H4HwlSKEzAnz",
        "outputId": "52e940f2-a275-4fbe-b537-0751533fd39f"
      },
      "execution_count": 6,
      "outputs": [
        {
          "output_type": "stream",
          "name": "stdout",
          "text": [
            "ドコモショップおおたかの森店、PIMAN:ID-12238。お客様は正田利一(32)である\n"
          ]
        }
      ]
    },
    {
      "cell_type": "markdown",
      "source": [
        "#upper()"
      ],
      "metadata": {
        "id": "xbfy0kDdyJpw"
      }
    },
    {
      "cell_type": "code",
      "source": [
        "x = \"Genshin Inpact\"\n",
        "print(x.upper())"
      ],
      "metadata": {
        "colab": {
          "base_uri": "https://localhost:8080/"
        },
        "id": "Rze9HJSWygsW",
        "outputId": "934783a9-02c1-420c-a6db-cc356467eb5b"
      },
      "execution_count": 3,
      "outputs": [
        {
          "output_type": "stream",
          "name": "stdout",
          "text": [
            "GENSHIN INPACT\n"
          ]
        }
      ]
    },
    {
      "cell_type": "code",
      "source": [
        "print(\"apple\".upper())"
      ],
      "metadata": {
        "colab": {
          "base_uri": "https://localhost:8080/"
        },
        "id": "7VF6ND8RyMCu",
        "outputId": "9acccf16-b444-4bad-ad14-b09f703d69d6"
      },
      "execution_count": 1,
      "outputs": [
        {
          "output_type": "stream",
          "name": "stdout",
          "text": [
            "APPLE\n"
          ]
        }
      ]
    },
    {
      "cell_type": "markdown",
      "source": [
        "#lower()"
      ],
      "metadata": {
        "id": "vt5YQMqWyb8_"
      }
    },
    {
      "cell_type": "code",
      "source": [
        "y = \"HELLO WORLD\"\n",
        "print(y.lower())"
      ],
      "metadata": {
        "colab": {
          "base_uri": "https://localhost:8080/"
        },
        "id": "V2hZDmgwynvk",
        "outputId": "c0f0ba95-ef50-429d-f938-9b09cd9fbc00"
      },
      "execution_count": 5,
      "outputs": [
        {
          "output_type": "stream",
          "name": "stdout",
          "text": [
            "hello world\n"
          ]
        }
      ]
    },
    {
      "cell_type": "code",
      "source": [
        "print(\"APPLE\".lower())"
      ],
      "metadata": {
        "colab": {
          "base_uri": "https://localhost:8080/"
        },
        "id": "PIWwxjJTyXFz",
        "outputId": "45f749ed-ff31-45f7-8685-96ab46687c59"
      },
      "execution_count": 2,
      "outputs": [
        {
          "output_type": "stream",
          "name": "stdout",
          "text": [
            "apple\n"
          ]
        }
      ]
    },
    {
      "cell_type": "markdown",
      "source": [
        "#文字列とメソッド"
      ],
      "metadata": {
        "id": "-_M6t9c0miLs"
      }
    },
    {
      "cell_type": "code",
      "source": [
        "x = \"Hello real World\""
      ],
      "metadata": {
        "id": "323xb1tbmlZL"
      },
      "execution_count": null,
      "outputs": []
    },
    {
      "cell_type": "code",
      "source": [
        "y = x.find(\"real\")\n",
        "#xを対象に、findメソッドを使って、realという文字列を探す"
      ],
      "metadata": {
        "id": "onMUXMUTmw7m"
      },
      "execution_count": null,
      "outputs": []
    },
    {
      "cell_type": "code",
      "source": [
        "print(\"real starts on\", y)"
      ],
      "metadata": {
        "colab": {
          "base_uri": "https://localhost:8080/"
        },
        "id": "9rNbKnvcnMWR",
        "outputId": "d43cb112-305e-408b-83c6-1286025edbb6"
      },
      "execution_count": null,
      "outputs": [
        {
          "output_type": "stream",
          "name": "stdout",
          "text": [
            "real starts on 6\n"
          ]
        }
      ]
    },
    {
      "cell_type": "code",
      "source": [
        "print(x[y:])"
      ],
      "metadata": {
        "colab": {
          "base_uri": "https://localhost:8080/"
        },
        "id": "KN3rBufqndWi",
        "outputId": "e0ef425e-9b93-4613-ae0d-d66d37fe588d"
      },
      "execution_count": null,
      "outputs": [
        {
          "output_type": "stream",
          "name": "stdout",
          "text": [
            "real World\n"
          ]
        }
      ]
    },
    {
      "cell_type": "code",
      "source": [
        "x = \"Its a small world\""
      ],
      "metadata": {
        "id": "_7yuEmJ9oByE"
      },
      "execution_count": null,
      "outputs": []
    },
    {
      "cell_type": "code",
      "source": [
        "y = x.find(\"small\")"
      ],
      "metadata": {
        "id": "hZd2ZQB2oHbz"
      },
      "execution_count": null,
      "outputs": []
    },
    {
      "cell_type": "code",
      "source": [
        "print(y)"
      ],
      "metadata": {
        "colab": {
          "base_uri": "https://localhost:8080/"
        },
        "id": "u2hmHJbdoRAN",
        "outputId": "1143fd46-d152-48be-f4c8-efdd701a8997"
      },
      "execution_count": null,
      "outputs": [
        {
          "output_type": "stream",
          "name": "stdout",
          "text": [
            "6\n"
          ]
        }
      ]
    },
    {
      "cell_type": "code",
      "source": [
        "print(x[y:])"
      ],
      "metadata": {
        "colab": {
          "base_uri": "https://localhost:8080/"
        },
        "id": "KuPhILOtoT9R",
        "outputId": "50f0941b-e8fe-430a-ac9d-f06638fd1b44"
      },
      "execution_count": null,
      "outputs": [
        {
          "output_type": "stream",
          "name": "stdout",
          "text": [
            "small world\n"
          ]
        }
      ]
    },
    {
      "cell_type": "markdown",
      "source": [
        "#分割(split)メソッド"
      ],
      "metadata": {
        "id": "soXHe5Dfkf3D"
      }
    },
    {
      "cell_type": "code",
      "source": [
        "print(\"Hello Wolrd\".split(\" \"))"
      ],
      "metadata": {
        "colab": {
          "base_uri": "https://localhost:8080/"
        },
        "id": "jW_rsM_Mkrxs",
        "outputId": "1a02a17f-19d8-48c9-b3a7-145720c3125c"
      },
      "execution_count": null,
      "outputs": [
        {
          "output_type": "stream",
          "name": "stdout",
          "text": [
            "['Hello', 'Wolrd']\n"
          ]
        }
      ]
    },
    {
      "cell_type": "code",
      "source": [
        "print(\"Hello World\".split(\"e\")) #eが消えて「，」がつく"
      ],
      "metadata": {
        "colab": {
          "base_uri": "https://localhost:8080/"
        },
        "id": "KQ9jkf8MkyWS",
        "outputId": "cd26c2ed-6ddb-4b59-aa40-c79c27534776"
      },
      "execution_count": null,
      "outputs": [
        {
          "output_type": "stream",
          "name": "stdout",
          "text": [
            "['H', 'llo World']\n"
          ]
        }
      ]
    },
    {
      "cell_type": "code",
      "source": [
        "print(\"Hello Wolrd\".split())"
      ],
      "metadata": {
        "colab": {
          "base_uri": "https://localhost:8080/"
        },
        "id": "aDtpfZIyk1sk",
        "outputId": "f667e1b5-234b-4370-bebd-2b69f2ab01cc"
      },
      "execution_count": null,
      "outputs": [
        {
          "output_type": "stream",
          "name": "stdout",
          "text": [
            "['Hello', 'Wolrd']\n"
          ]
        }
      ]
    },
    {
      "cell_type": "code",
      "source": [
        "print(\"Java Script\".split())"
      ],
      "metadata": {
        "colab": {
          "base_uri": "https://localhost:8080/"
        },
        "id": "I2UyHjEOk3rJ",
        "outputId": "0760d037-5426-4d09-93f9-03f7bc667dbf"
      },
      "execution_count": null,
      "outputs": [
        {
          "output_type": "stream",
          "name": "stdout",
          "text": [
            "['Java', 'Script']\n"
          ]
        }
      ]
    },
    {
      "cell_type": "code",
      "source": [
        "print(\"ABCDEFGHI\".split(\"F\"))"
      ],
      "metadata": {
        "colab": {
          "base_uri": "https://localhost:8080/"
        },
        "id": "eKeQZ-spk6hv",
        "outputId": "93c45e93-5b3d-4884-c8c4-93362c8870c6"
      },
      "execution_count": null,
      "outputs": [
        {
          "output_type": "stream",
          "name": "stdout",
          "text": [
            "['ABCDE', 'GHI']\n"
          ]
        }
      ]
    },
    {
      "cell_type": "markdown",
      "source": [
        "#スライシング"
      ],
      "metadata": {
        "id": "CuOEuGPzkXJu"
      }
    },
    {
      "cell_type": "code",
      "execution_count": null,
      "metadata": {
        "colab": {
          "base_uri": "https://localhost:8080/"
        },
        "id": "ZL-cdlX_gcuh",
        "outputId": "e707e564-6d06-47f6-a8b8-3b8ff6cb02d5"
      },
      "outputs": [
        {
          "output_type": "stream",
          "name": "stdout",
          "text": [
            "ell\n"
          ]
        }
      ],
      "source": [
        "x = \"Hello Wolrd\"[1:4]\n",
        "print(x)"
      ]
    },
    {
      "cell_type": "code",
      "source": [
        "print(\"Hello World\"[1:4])"
      ],
      "metadata": {
        "colab": {
          "base_uri": "https://localhost:8080/"
        },
        "id": "AivdtzS3g0-e",
        "outputId": "c3824336-8317-44b3-c364-7fc848916196"
      },
      "execution_count": null,
      "outputs": [
        {
          "output_type": "stream",
          "name": "stdout",
          "text": [
            "ell\n"
          ]
        }
      ]
    },
    {
      "cell_type": "code",
      "source": [
        "print(\"Hello World\"[4:7])"
      ],
      "metadata": {
        "colab": {
          "base_uri": "https://localhost:8080/"
        },
        "id": "DWh_HM7Gg74F",
        "outputId": "8d47c4d6-bff9-4721-c971-af621e8c1ce3"
      },
      "execution_count": null,
      "outputs": [
        {
          "output_type": "stream",
          "name": "stdout",
          "text": [
            "o W\n"
          ]
        }
      ]
    },
    {
      "cell_type": "code",
      "source": [
        "print(\"Hello World\"[7:10])"
      ],
      "metadata": {
        "colab": {
          "base_uri": "https://localhost:8080/"
        },
        "id": "Pjeh2R88hBI6",
        "outputId": "f22e7f52-fd53-466b-eca3-32734b0e620f"
      },
      "execution_count": null,
      "outputs": [
        {
          "output_type": "stream",
          "name": "stdout",
          "text": [
            "orl\n"
          ]
        }
      ]
    },
    {
      "cell_type": "code",
      "source": [
        "print(\"Hello World\"[3:])"
      ],
      "metadata": {
        "colab": {
          "base_uri": "https://localhost:8080/"
        },
        "id": "n4lIojPxhsI2",
        "outputId": "a311bf5a-7fc4-4059-9fa6-f8cd3f6c1755"
      },
      "execution_count": null,
      "outputs": [
        {
          "output_type": "stream",
          "name": "stdout",
          "text": [
            "lo World\n"
          ]
        }
      ]
    },
    {
      "cell_type": "code",
      "source": [
        "print(\"Hello World\"[:3])"
      ],
      "metadata": {
        "colab": {
          "base_uri": "https://localhost:8080/"
        },
        "id": "mEqot1_Qh1_h",
        "outputId": "86e1de51-f383-49ce-f7ab-f3b2d187515e"
      },
      "execution_count": null,
      "outputs": [
        {
          "output_type": "stream",
          "name": "stdout",
          "text": [
            "Hel\n"
          ]
        }
      ]
    },
    {
      "cell_type": "code",
      "source": [
        "print(\"Hello World\"[-1:])"
      ],
      "metadata": {
        "colab": {
          "base_uri": "https://localhost:8080/"
        },
        "id": "Yja7sSQOiCX6",
        "outputId": "ddc5f4b3-195b-47b5-c9c1-d624b2d4016d"
      },
      "execution_count": null,
      "outputs": [
        {
          "output_type": "stream",
          "name": "stdout",
          "text": [
            "d\n"
          ]
        }
      ]
    },
    {
      "cell_type": "code",
      "source": [
        "x = \"Hello World\"[1:5]\n",
        "y = \"Hello World\"[6:8]\n",
        "\n",
        "z = \"\".join(x).join(y)\n",
        "print(z)"
      ],
      "metadata": {
        "colab": {
          "base_uri": "https://localhost:8080/"
        },
        "id": "tC6HxA5qiMiR",
        "outputId": "09e92612-6a0d-403a-94cd-dc6d4710af03"
      },
      "execution_count": null,
      "outputs": [
        {
          "output_type": "stream",
          "name": "stdout",
          "text": [
            "Welloo\n"
          ]
        }
      ]
    },
    {
      "cell_type": "code",
      "source": [
        "print(\"Hello World\"[:])"
      ],
      "metadata": {
        "colab": {
          "base_uri": "https://localhost:8080/"
        },
        "id": "STKNMFFIigI1",
        "outputId": "4fbb0b6a-b128-4f84-cf8c-17d9b33dd299"
      },
      "execution_count": null,
      "outputs": [
        {
          "output_type": "stream",
          "name": "stdout",
          "text": [
            "Hello World\n"
          ]
        }
      ]
    },
    {
      "cell_type": "markdown",
      "source": [
        "#クォーテーション"
      ],
      "metadata": {
        "id": "2Tr5iWAemauV"
      }
    },
    {
      "cell_type": "code",
      "source": [
        "print('Hello\"real\"World')"
      ],
      "metadata": {
        "colab": {
          "base_uri": "https://localhost:8080/"
        },
        "id": "EPRFtrLhlVEk",
        "outputId": "44adfd5e-b3bd-46fd-e65d-bdd375dff15d"
      },
      "execution_count": null,
      "outputs": [
        {
          "output_type": "stream",
          "name": "stdout",
          "text": [
            "Hello\"real\"World\n"
          ]
        }
      ]
    },
    {
      "cell_type": "code",
      "source": [
        "print(\"ようこそ'こちら側の'世界へ\")"
      ],
      "metadata": {
        "colab": {
          "base_uri": "https://localhost:8080/"
        },
        "id": "juotqnSzlrKM",
        "outputId": "7ee4622b-4ff0-4051-9f2b-ed133dc50cf9"
      },
      "execution_count": null,
      "outputs": [
        {
          "output_type": "stream",
          "name": "stdout",
          "text": [
            "ようこそ'こちら側の'世界へ\n"
          ]
        }
      ]
    },
    {
      "cell_type": "code",
      "source": [
        "print(\"It's a pen.\")"
      ],
      "metadata": {
        "colab": {
          "base_uri": "https://localhost:8080/"
        },
        "id": "fHVJ8Z3ql-_W",
        "outputId": "8207f2e0-c321-430c-a27d-7fc449bfd123"
      },
      "execution_count": null,
      "outputs": [
        {
          "output_type": "stream",
          "name": "stdout",
          "text": [
            "It's a pen.\n"
          ]
        }
      ]
    }
  ]
}