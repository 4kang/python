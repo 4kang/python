{
  "nbformat": 4,
  "nbformat_minor": 0,
  "metadata": {
    "colab": {
      "provenance": [],
      "authorship_tag": "ABX9TyPwBV93nHzKgqBKO/NvGcfo",
      "include_colab_link": true
    },
    "kernelspec": {
      "name": "python3",
      "display_name": "Python 3"
    },
    "language_info": {
      "name": "python"
    }
  },
  "cells": [
    {
      "cell_type": "markdown",
      "metadata": {
        "id": "view-in-github",
        "colab_type": "text"
      },
      "source": [
        "<a href=\"https://colab.research.google.com/github/4kang/python/blob/main/%E6%A8%A1%E6%93%AC%E8%A9%A6%E9%A8%93.ipynb\" target=\"_parent\"><img src=\"https://colab.research.google.com/assets/colab-badge.svg\" alt=\"Open In Colab\"/></a>"
      ]
    },
    {
      "cell_type": "code",
      "execution_count": 2,
      "metadata": {
        "colab": {
          "base_uri": "https://localhost:8080/",
          "height": 232
        },
        "id": "pw2wgD4PnYsf",
        "outputId": "7fe8b5d6-dd52-43eb-8eee-21cf8d9aab6b"
      },
      "outputs": [
        {
          "output_type": "error",
          "ename": "ValueError",
          "evalue": "ignored",
          "traceback": [
            "\u001b[0;31m---------------------------------------------------------------------------\u001b[0m",
            "\u001b[0;31mValueError\u001b[0m                                Traceback (most recent call last)",
            "\u001b[0;32m<ipython-input-2-b50ef55c0b22>\u001b[0m in \u001b[0;36m<cell line: 6>\u001b[0;34m()\u001b[0m\n\u001b[1;32m      4\u001b[0m \u001b[0ms\u001b[0m\u001b[0;34m.\u001b[0m\u001b[0mclose\u001b[0m\u001b[0;34m(\u001b[0m\u001b[0;34m)\u001b[0m\u001b[0;34m\u001b[0m\u001b[0;34m\u001b[0m\u001b[0m\n\u001b[1;32m      5\u001b[0m \u001b[0;34m\u001b[0m\u001b[0m\n\u001b[0;32m----> 6\u001b[0;31m \u001b[0mresult\u001b[0m \u001b[0;34m=\u001b[0m \u001b[0ms\u001b[0m\u001b[0;34m.\u001b[0m\u001b[0mgetvalue\u001b[0m\u001b[0;34m(\u001b[0m\u001b[0;34m)\u001b[0m\u001b[0;34m\u001b[0m\u001b[0;34m\u001b[0m\u001b[0m\n\u001b[0m\u001b[1;32m      7\u001b[0m \u001b[0mprint\u001b[0m\u001b[0;34m(\u001b[0m\u001b[0mresult\u001b[0m\u001b[0;34m)\u001b[0m\u001b[0;34m\u001b[0m\u001b[0;34m\u001b[0m\u001b[0m\n",
            "\u001b[0;31mValueError\u001b[0m: I/O operation on closed file"
          ]
        }
      ],
      "source": [
        "import io\n",
        "\n",
        "s = io.StringIO('Hello, world!') #オブジェクト\n",
        "s.close() #closeメソッドで↑オブジェクトが閉じられる\n",
        "\n",
        "#関数の引数に間違った型を渡した場合に起きるエラー\n",
        "result = s.getvalue() #閉じられたオブジェクトのメソッドを呼び出すと\n",
        "print(result) #ValueErrorが発生する"
      ]
    },
    {
      "cell_type": "code",
      "source": [
        "#2つのアカウントを辞書型に作成しリストにまとめる\n",
        "account = [\n",
        "    {\n",
        "        'name': 'taro',\n",
        "        'cardNumber': '1111-1111-1111-1111',\n",
        "    },\n",
        "    {\n",
        "        'name': 'jiro',\n",
        "        'cardNumber': '2222-2222-2222-2222',\n",
        "    }\n",
        "]\n",
        "#100万の貯金\n",
        "bank_money = 1000000\n",
        "\n",
        "\n",
        "class BankValidationError(Exception):\n",
        "    name = None\n",
        "    detail = None\n",
        "\n",
        "    def __str__(self):\n",
        "        return f'{self.name}: {self.detail}'\n",
        "\n",
        "\n",
        "class BankMoneyError(BankValidationError):\n",
        "    name = 'BankMoneyError'\n",
        "    detail = 'bank money is not enough'\n",
        "\n",
        "\n",
        "class BankAccountError(BankValidationError):\n",
        "    name = 'BankAccountError'\n",
        "    detail = 'bank account is not found'\n",
        "\n",
        "\n",
        "def validate_account(account_name, account):\n",
        "    for a in account:\n",
        "        if a['name'] == account_name:\n",
        "            return a\n",
        "    raise BankAccountError\n",
        "\n",
        "\n",
        "def validate_money(money):\n",
        "    if bank_money < money:\n",
        "        print(f'{bank_money - money}円足りません')\n",
        "        raise BankMoneyError\n",
        "\n",
        "\n",
        "try:\n",
        "    account_name = 'taro'\n",
        "    account = validate_account(account_name, account)\n",
        "    validate_money(100000000)\n",
        "    print('検証完了')\n",
        "except BankValidationError as e:\n",
        "    print(e)"
      ],
      "metadata": {
        "colab": {
          "base_uri": "https://localhost:8080/"
        },
        "id": "PWkH3EGZqVoc",
        "outputId": "bed3dd88-843c-4163-f8f5-c170959c4d74"
      },
      "execution_count": 3,
      "outputs": [
        {
          "output_type": "stream",
          "name": "stdout",
          "text": [
            "-99000000円足りません\n",
            "BankMoneyError: bank money is not enough\n"
          ]
        }
      ]
    },
    {
      "cell_type": "code",
      "source": [
        "result = (x ** 2 for x in range(5))\n",
        "print(type(result))"
      ],
      "metadata": {
        "colab": {
          "base_uri": "https://localhost:8080/"
        },
        "id": "ZbLFsYYexkoW",
        "outputId": "4c30f027-17ad-403f-a596-fff65dd16e19"
      },
      "execution_count": 4,
      "outputs": [
        {
          "output_type": "stream",
          "name": "stdout",
          "text": [
            "<class 'generator'>\n"
          ]
        }
      ]
    },
    {
      "cell_type": "code",
      "source": [
        "def my_generator():\n",
        "    yield 'a'\n",
        "    yield 'b'\n",
        "\n",
        "g = my_generator()\n",
        "print(next(g))\n",
        "print(next(g))\n",
        "\n",
        "try:\n",
        "    next(g)\n",
        "except StopIteration:\n",
        "    print('No more elements')"
      ],
      "metadata": {
        "colab": {
          "base_uri": "https://localhost:8080/"
        },
        "id": "_sFc3hzC2E-n",
        "outputId": "b324f79a-7a53-4a29-8f47-46a6050a6a67"
      },
      "execution_count": 5,
      "outputs": [
        {
          "output_type": "stream",
          "name": "stdout",
          "text": [
            "a\n",
            "b\n",
            "No more elements\n"
          ]
        }
      ]
    },
    {
      "cell_type": "code",
      "source": [
        "class MyObject:\n",
        "    def __init__(self, name):\n",
        "        self.name = name\n",
        "\n",
        "    def __str__(self):\n",
        "        return f'MyObject: {self.name}'\n",
        "\n",
        "obj = MyObject('test')\n",
        "print(obj)"
      ],
      "metadata": {
        "colab": {
          "base_uri": "https://localhost:8080/"
        },
        "id": "ahHndNtw2ixQ",
        "outputId": "6211c311-be97-48ba-f5ab-0739c32287e6"
      },
      "execution_count": 6,
      "outputs": [
        {
          "output_type": "stream",
          "name": "stdout",
          "text": [
            "MyObject: test\n"
          ]
        }
      ]
    }
  ]
}