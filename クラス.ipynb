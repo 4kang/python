{
  "nbformat": 4,
  "nbformat_minor": 0,
  "metadata": {
    "colab": {
      "provenance": [],
      "authorship_tag": "ABX9TyP5yBLNf+mwQxDFIIv/qhy/",
      "include_colab_link": true
    },
    "kernelspec": {
      "name": "python3",
      "display_name": "Python 3"
    },
    "language_info": {
      "name": "python"
    }
  },
  "cells": [
    {
      "cell_type": "markdown",
      "metadata": {
        "id": "view-in-github",
        "colab_type": "text"
      },
      "source": [
        "<a href=\"https://colab.research.google.com/github/4kang/python/blob/main/%E3%82%AF%E3%83%A9%E3%82%B9.ipynb\" target=\"_parent\"><img src=\"https://colab.research.google.com/assets/colab-badge.svg\" alt=\"Open In Colab\"/></a>"
      ]
    },
    {
      "cell_type": "markdown",
      "source": [
        "新規クラスを作成することで新しいオブジェクトのデータ型が作成される。"
      ],
      "metadata": {
        "id": "QQeND3WPnEiU"
      }
    },
    {
      "cell_type": "code",
      "execution_count": null,
      "metadata": {
        "id": "FMejBdsrhzGj"
      },
      "outputs": [],
      "source": [
        "#クラス作成\n",
        "class Car:\n",
        "  pass"
      ]
    },
    {
      "cell_type": "code",
      "source": [
        "my_car = Car()\n",
        "\n",
        "#インスタンスを作成\n",
        "type(my_car)"
      ],
      "metadata": {
        "colab": {
          "base_uri": "https://localhost:8080/"
        },
        "id": "r0B6fHsNrk0n",
        "outputId": "1601b4b0-8e63-4d42-f81e-90f19d0b1761"
      },
      "execution_count": null,
      "outputs": [
        {
          "output_type": "execute_result",
          "data": {
            "text/plain": [
              "__main__.Car"
            ]
          },
          "metadata": {},
          "execution_count": 4
        }
      ]
    },
    {
      "cell_type": "markdown",
      "source": [
        "#データ属性"
      ],
      "metadata": {
        "id": "Y7p8bBUGsA8N"
      }
    },
    {
      "cell_type": "code",
      "source": [
        "class Car:\n",
        "  num_wheels = 4 #クラスの中の変数(num_wheels)、データ属性\n",
        "\n",
        "my_car = Car()\n",
        "my_car.num_wheels"
      ],
      "metadata": {
        "colab": {
          "base_uri": "https://localhost:8080/"
        },
        "id": "_nAlxAhpsDKr",
        "outputId": "3c8156bd-d682-422d-c362-6f6d8c243a15"
      },
      "execution_count": null,
      "outputs": [
        {
          "output_type": "execute_result",
          "data": {
            "text/plain": [
              "4"
            ]
          },
          "metadata": {},
          "execution_count": 5
        }
      ]
    },
    {
      "cell_type": "code",
      "source": [
        "class Cat:\n",
        "  legs = 4\n",
        "  cry = \"ニャー\"\n",
        "  is_animal = True\n",
        "\n",
        "tama = Cat()\n",
        "\"鳴き声：{}, 足の数：{}, 動物：{}\".format(tama.cry, tama.legs, tama.is_animal)"
      ],
      "metadata": {
        "colab": {
          "base_uri": "https://localhost:8080/",
          "height": 35
        },
        "id": "fjIkkqmRDB6g",
        "outputId": "b3c79b5d-bc40-4577-fb7e-93fd8b41f362"
      },
      "execution_count": null,
      "outputs": [
        {
          "output_type": "execute_result",
          "data": {
            "text/plain": [
              "'鳴き声：ニャー, 足の数：4, 動物：True'"
            ],
            "application/vnd.google.colaboratory.intrinsic+json": {
              "type": "string"
            }
          },
          "metadata": {},
          "execution_count": 11
        }
      ]
    },
    {
      "cell_type": "code",
      "source": [
        "class Serif:\n",
        "  serif1 = \"非常食\"\n",
        "  serif2 = \"平気だが\"\n",
        "\n",
        "paimon = Serif()\n",
        "\"おいらは{}じゃない！！\".format(paimon.serif1)"
      ],
      "metadata": {
        "colab": {
          "base_uri": "https://localhost:8080/",
          "height": 36
        },
        "id": "wzOi2t2UbaVb",
        "outputId": "f0324aec-0db7-4c8a-d7d4-4855766b654f"
      },
      "execution_count": null,
      "outputs": [
        {
          "output_type": "execute_result",
          "data": {
            "text/plain": [
              "'寒いのか？俺は平気だが'"
            ],
            "application/vnd.google.colaboratory.intrinsic+json": {
              "type": "string"
            }
          },
          "metadata": {},
          "execution_count": 2
        }
      ]
    },
    {
      "cell_type": "code",
      "source": [
        "alhizen = Serif()\n",
        "\"寒いのか？俺は{}\".format(alhizen.serif2)"
      ],
      "metadata": {
        "colab": {
          "base_uri": "https://localhost:8080/",
          "height": 36
        },
        "id": "-0aqlxlKcrZw",
        "outputId": "6936fd71-7e29-44ca-f413-adb188d52da4"
      },
      "execution_count": null,
      "outputs": [
        {
          "output_type": "execute_result",
          "data": {
            "text/plain": [
              "'寒いのか？俺は平気だが'"
            ],
            "application/vnd.google.colaboratory.intrinsic+json": {
              "type": "string"
            }
          },
          "metadata": {},
          "execution_count": 3
        }
      ]
    },
    {
      "cell_type": "markdown",
      "source": [
        "#メソッド"
      ],
      "metadata": {
        "id": "fHqX2P9tsh8E"
      }
    },
    {
      "cell_type": "code",
      "source": [
        "class Car:\n",
        "  weight = 4000 #データ属性(材料)その1\n",
        "  num_wheels = 4 #その2\n",
        "\n",
        "  def calc_weight_per_wheel(self): #selfはメソッド(道具)\n",
        "    return 1000.0\n",
        "\n",
        "my_car = Car()\n",
        "my_car.calc_weight_per_wheel()"
      ],
      "metadata": {
        "colab": {
          "base_uri": "https://localhost:8080/"
        },
        "id": "AI2cJ31Msjp1",
        "outputId": "614b03ab-69fe-4f0d-ed91-060199a3597d"
      },
      "execution_count": null,
      "outputs": [
        {
          "output_type": "execute_result",
          "data": {
            "text/plain": [
              "1000.0"
            ]
          },
          "metadata": {},
          "execution_count": 6
        }
      ]
    },
    {
      "cell_type": "code",
      "source": [
        "#初期化メソッド__init__()\n",
        "\n",
        "class Car:\n",
        "  weight = 4000\n",
        "  num_wheels = 4\n",
        "\n",
        "  def __init__(self, car_name=\"NoName\"):\n",
        "   self.name = car_name\n",
        "\n",
        "  def calc_weight_per_wheel(self):\n",
        "    return self.weight / self.num_wheels\n",
        "\n",
        "default_car = Car()\n",
        "default_car.name"
      ],
      "metadata": {
        "colab": {
          "base_uri": "https://localhost:8080/",
          "height": 35
        },
        "id": "o4e8XHW4-oEk",
        "outputId": "0d2a94b8-5ca7-4ff5-c82a-b66b67f02606"
      },
      "execution_count": null,
      "outputs": [
        {
          "output_type": "execute_result",
          "data": {
            "text/plain": [
              "'NoName'"
            ],
            "application/vnd.google.colaboratory.intrinsic+json": {
              "type": "string"
            }
          },
          "metadata": {},
          "execution_count": 8
        }
      ]
    },
    {
      "cell_type": "code",
      "source": [
        "my_car = Car(\"で見狩る\")\n",
        "my_car.name"
      ],
      "metadata": {
        "colab": {
          "base_uri": "https://localhost:8080/",
          "height": 35
        },
        "id": "0UujJxPpC4WE",
        "outputId": "32df502c-c555-4989-bf3d-5aecaf2d8a76"
      },
      "execution_count": null,
      "outputs": [
        {
          "output_type": "execute_result",
          "data": {
            "text/plain": [
              "'で見狩る'"
            ],
            "application/vnd.google.colaboratory.intrinsic+json": {
              "type": "string"
            }
          },
          "metadata": {},
          "execution_count": 9
        }
      ]
    },
    {
      "cell_type": "markdown",
      "source": [
        "#インスタンス変数"
      ],
      "metadata": {
        "id": "oy5fdzYvvQ8-"
      }
    },
    {
      "cell_type": "code",
      "source": [
        "class MyClass1: #MyClass1クラスを定義\n",
        "  #__init__初期化メソッドを定義\n",
        "  def __init__(self, text=\"abc\"):\n",
        "    #インスタンス変数を宣言\n",
        "    self.text = text\n",
        "\n",
        "a = MyClass1()\n",
        "b = MyClass1(text=\"ggg\")\n",
        "c = MyClass1(text=\"uds\")\n",
        "\n",
        "print(a.text)"
      ],
      "metadata": {
        "id": "lux9GIzwvUCk",
        "colab": {
          "base_uri": "https://localhost:8080/"
        },
        "outputId": "f7b0015e-cb56-4cf4-9139-01165d25df4a"
      },
      "execution_count": 1,
      "outputs": [
        {
          "output_type": "stream",
          "name": "stdout",
          "text": [
            "abc\n"
          ]
        }
      ]
    },
    {
      "cell_type": "code",
      "source": [
        "print(b.text)"
      ],
      "metadata": {
        "id": "04xpy2Dswfw9",
        "colab": {
          "base_uri": "https://localhost:8080/"
        },
        "outputId": "f8ad8812-001b-478e-acf3-019dea96d2ec"
      },
      "execution_count": 2,
      "outputs": [
        {
          "output_type": "stream",
          "name": "stdout",
          "text": [
            "ggg\n"
          ]
        }
      ]
    },
    {
      "cell_type": "code",
      "source": [
        "print(c.text)"
      ],
      "metadata": {
        "colab": {
          "base_uri": "https://localhost:8080/"
        },
        "id": "RSUJxBr4x4r4",
        "outputId": "5ac915a4-e824-48c4-d1c2-954981a5ce22"
      },
      "execution_count": 3,
      "outputs": [
        {
          "output_type": "stream",
          "name": "stdout",
          "text": [
            "uds\n"
          ]
        }
      ]
    },
    {
      "cell_type": "code",
      "source": [
        "#インスタンス変数は「インスタンス名・変数」で参照\n",
        "#値を変更する\n",
        "a.text = \"xyz\"\n",
        "a.text"
      ],
      "metadata": {
        "colab": {
          "base_uri": "https://localhost:8080/",
          "height": 36
        },
        "id": "kqz4kEmGyD7a",
        "outputId": "7fda3c14-3f69-45d7-c11a-543b95fcf215"
      },
      "execution_count": 4,
      "outputs": [
        {
          "output_type": "execute_result",
          "data": {
            "text/plain": [
              "'xyz'"
            ],
            "application/vnd.google.colaboratory.intrinsic+json": {
              "type": "string"
            }
          },
          "metadata": {},
          "execution_count": 4
        }
      ]
    },
    {
      "cell_type": "code",
      "source": [
        "#新しいインスタンス変数を追加\n",
        "a.new_text = \"another text\"\n",
        "a.new_text"
      ],
      "metadata": {
        "colab": {
          "base_uri": "https://localhost:8080/",
          "height": 36
        },
        "id": "4wd3juR0yZ7X",
        "outputId": "d65cfff1-7f97-4bdb-c77d-db683bd47f7b"
      },
      "execution_count": 5,
      "outputs": [
        {
          "output_type": "execute_result",
          "data": {
            "text/plain": [
              "'another text'"
            ],
            "application/vnd.google.colaboratory.intrinsic+json": {
              "type": "string"
            }
          },
          "metadata": {},
          "execution_count": 5
        }
      ]
    },
    {
      "cell_type": "markdown",
      "source": [
        "#クラス変数"
      ],
      "metadata": {
        "id": "sh85AUOb0cl2"
      }
    },
    {
      "cell_type": "code",
      "source": [
        "class MyClass2:\n",
        "  #クラス変数を宣言\n",
        "  common_text = \"class value\"\n",
        "\n",
        "#クラス名.変数を定義\n",
        "print(MyClass2.common_text)"
      ],
      "metadata": {
        "colab": {
          "base_uri": "https://localhost:8080/"
        },
        "id": "obtNKZcO0fKB",
        "outputId": "c4e027b8-cf20-4120-cf5a-21f15173949c"
      },
      "execution_count": 6,
      "outputs": [
        {
          "output_type": "stream",
          "name": "stdout",
          "text": [
            "class value\n"
          ]
        }
      ]
    },
    {
      "cell_type": "code",
      "source": [
        "#クラス変数の値を変更\n",
        "MyClass2.common_text = \"New class value\"\n",
        "print(MyClass2.common_text)"
      ],
      "metadata": {
        "colab": {
          "base_uri": "https://localhost:8080/"
        },
        "id": "f4wQpv4C1P2-",
        "outputId": "88f2b6e8-e1ea-44d9-a026-baf55dab3a99"
      },
      "execution_count": 7,
      "outputs": [
        {
          "output_type": "stream",
          "name": "stdout",
          "text": [
            "New class value\n"
          ]
        }
      ]
    },
    {
      "cell_type": "code",
      "source": [
        "class Triangle:\n",
        "  num_tri = 0 #クラス変数\n",
        "\n",
        "  def __init__(self, base = 0, height = 0): #インスタンス変数\n",
        "    self.base = base\n",
        "    self.height = height\n",
        "    Triangle.num_tri += 1\n",
        "\n",
        "  def find_area(self): #メソッド\n",
        "    b = self.base\n",
        "    h = self.height\n",
        "    return b * h / 2.0"
      ],
      "metadata": {
        "id": "VpjqZt8SWFfF"
      },
      "execution_count": 3,
      "outputs": []
    },
    {
      "cell_type": "code",
      "source": [
        "t1 = Triangle(1, 1)\n",
        "t1.find_area() #find_areaメソッドの呼び出し"
      ],
      "metadata": {
        "colab": {
          "base_uri": "https://localhost:8080/"
        },
        "id": "yUZItx0fW7Kw",
        "outputId": "ad4c7dbc-8626-403e-9606-25c1027e26dc"
      },
      "execution_count": 4,
      "outputs": [
        {
          "output_type": "execute_result",
          "data": {
            "text/plain": [
              "0.5"
            ]
          },
          "metadata": {},
          "execution_count": 4
        }
      ]
    },
    {
      "cell_type": "code",
      "source": [
        "Triangle.num_tri"
      ],
      "metadata": {
        "colab": {
          "base_uri": "https://localhost:8080/"
        },
        "id": "z8ErdH_8XRhu",
        "outputId": "369196f1-efc1-4f47-d021-7319ad0a4dc6"
      },
      "execution_count": 5,
      "outputs": [
        {
          "output_type": "execute_result",
          "data": {
            "text/plain": [
              "1"
            ]
          },
          "metadata": {},
          "execution_count": 5
        }
      ]
    },
    {
      "cell_type": "code",
      "source": [
        "t2 = Triangle(2, 2)\n",
        "Triangle.num_tri"
      ],
      "metadata": {
        "colab": {
          "base_uri": "https://localhost:8080/"
        },
        "id": "8bwtXtlPX9D0",
        "outputId": "66163c0e-8234-401e-91ed-a255f9233f16"
      },
      "execution_count": 6,
      "outputs": [
        {
          "output_type": "execute_result",
          "data": {
            "text/plain": [
              "2"
            ]
          },
          "metadata": {},
          "execution_count": 6
        }
      ]
    },
    {
      "cell_type": "code",
      "source": [
        "t3 = Triangle(3, 5)\n",
        "Triangle.num_tri"
      ],
      "metadata": {
        "colab": {
          "base_uri": "https://localhost:8080/"
        },
        "id": "_0mT-J_-YUUl",
        "outputId": "7de744cf-b88a-40b4-e22a-ff5d209dae88"
      },
      "execution_count": 7,
      "outputs": [
        {
          "output_type": "execute_result",
          "data": {
            "text/plain": [
              "3"
            ]
          },
          "metadata": {},
          "execution_count": 7
        }
      ]
    },
    {
      "cell_type": "code",
      "source": [
        "#インスタンス.クラス変数　self.クラス変数\n",
        "t1.num_tri, t2.num_tri, t3.num_tri, Triangle.num_tri"
      ],
      "metadata": {
        "colab": {
          "base_uri": "https://localhost:8080/"
        },
        "id": "7WGxuZaEYbM9",
        "outputId": "3ebcd8be-d7da-44fb-8678-503a96b8db7c"
      },
      "execution_count": 8,
      "outputs": [
        {
          "output_type": "execute_result",
          "data": {
            "text/plain": [
              "(3, 3, 3, 3)"
            ]
          },
          "metadata": {},
          "execution_count": 8
        }
      ]
    },
    {
      "cell_type": "code",
      "source": [
        "t1.num_tri = 5 #インスタンス.クラス変数\n",
        "t1.num_tri, t2.num_tri, t3.num_tri, Triangle.num_tri"
      ],
      "metadata": {
        "colab": {
          "base_uri": "https://localhost:8080/"
        },
        "id": "eC75ZJyZck9a",
        "outputId": "ebe1fba1-8b2f-40ff-8446-f89fddfe7490"
      },
      "execution_count": 9,
      "outputs": [
        {
          "output_type": "execute_result",
          "data": {
            "text/plain": [
              "(5, 3, 3, 3)"
            ]
          },
          "metadata": {},
          "execution_count": 9
        }
      ]
    },
    {
      "cell_type": "code",
      "source": [
        "Triangle.num_tri = 6\n",
        "t1.num_tri, t2.num_tri, t3.num_tri, Triangle.num_tri"
      ],
      "metadata": {
        "colab": {
          "base_uri": "https://localhost:8080/"
        },
        "id": "1atVjAXkd-WS",
        "outputId": "9eee4cbd-8407-4830-bc4a-8f9eeef98ab7"
      },
      "execution_count": 10,
      "outputs": [
        {
          "output_type": "execute_result",
          "data": {
            "text/plain": [
              "(5, 6, 6, 6)"
            ]
          },
          "metadata": {},
          "execution_count": 10
        }
      ]
    },
    {
      "cell_type": "markdown",
      "source": [
        "#継承"
      ],
      "metadata": {
        "id": "l44mLQaBxhK6"
      }
    },
    {
      "cell_type": "code",
      "source": [
        "class Nigiri:\n",
        "  category = \"にぎり\"\n",
        "  top = \"ねた\"\n",
        "  base = \"しゃり\"\n",
        "\n",
        "  def show_attachment(self):\n",
        "    print(\"top: {}, base: {}, category: {}\".format(self.top, self.base, self.category))"
      ],
      "metadata": {
        "id": "Eu1IDtC1xoGu"
      },
      "execution_count": 11,
      "outputs": []
    },
    {
      "cell_type": "code",
      "source": [
        "n1 = Nigiri()\n",
        "n1.show_attachment()"
      ],
      "metadata": {
        "id": "_IWDN7TLyP8X",
        "outputId": "29e69cd1-d0fa-40b0-ab4d-11639965b234",
        "colab": {
          "base_uri": "https://localhost:8080/"
        }
      },
      "execution_count": 12,
      "outputs": [
        {
          "output_type": "stream",
          "name": "stdout",
          "text": [
            "top: ねた, base: しゃり, category: にぎり\n"
          ]
        }
      ]
    },
    {
      "cell_type": "code",
      "source": [
        "#サブクラス(子クラス)を定義\n",
        "class Maguro(Nigiri):\n",
        "  pass"
      ],
      "metadata": {
        "id": "3QIq-PHMy28S"
      },
      "execution_count": 13,
      "outputs": []
    },
    {
      "cell_type": "code",
      "source": [
        "m1 = Maguro()\n",
        "m1.show_attachment()"
      ],
      "metadata": {
        "id": "aq0Fn6fRy-j5",
        "outputId": "cd1fade8-2a69-4b4e-8c4d-048e45bf2109",
        "colab": {
          "base_uri": "https://localhost:8080/"
        }
      },
      "execution_count": 14,
      "outputs": [
        {
          "output_type": "stream",
          "name": "stdout",
          "text": [
            "top: ねた, base: しゃり, category: にぎり\n"
          ]
        }
      ]
    },
    {
      "cell_type": "code",
      "source": [
        "class Maguro(Nigiri):\n",
        "  top = \"まぐろ\" #クラス変数の上書き\n",
        "  price = 100 #クラス変数の追加\n",
        "\n",
        "  def show_attachment(self):\n",
        "    print(\"top: {}, base: {}\".format(self.top, self.base))\n",
        "    print(\"price: {}円\".format(self.price))\n",
        "\n",
        "m3 = Maguro()\n",
        "m3.show_attachment()"
      ],
      "metadata": {
        "id": "ZVslNORKzbVJ",
        "outputId": "e3ceaf69-75a5-4126-a629-aee4e68404b3",
        "colab": {
          "base_uri": "https://localhost:8080/"
        }
      },
      "execution_count": 20,
      "outputs": [
        {
          "output_type": "stream",
          "name": "stdout",
          "text": [
            "top: まぐろ, base: しゃり\n",
            "price: 100円\n"
          ]
        }
      ]
    }
  ]
}