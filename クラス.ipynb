{
  "nbformat": 4,
  "nbformat_minor": 0,
  "metadata": {
    "colab": {
      "provenance": [],
      "authorship_tag": "ABX9TyPMiP7/dE9iaEqWH/IGsjl9",
      "include_colab_link": true
    },
    "kernelspec": {
      "name": "python3",
      "display_name": "Python 3"
    },
    "language_info": {
      "name": "python"
    }
  },
  "cells": [
    {
      "cell_type": "markdown",
      "metadata": {
        "id": "view-in-github",
        "colab_type": "text"
      },
      "source": [
        "<a href=\"https://colab.research.google.com/github/4kang/python/blob/main/%E3%82%AF%E3%83%A9%E3%82%B9.ipynb\" target=\"_parent\"><img src=\"https://colab.research.google.com/assets/colab-badge.svg\" alt=\"Open In Colab\"/></a>"
      ]
    },
    {
      "cell_type": "markdown",
      "source": [
        "新規クラスを作成することで新しいオブジェクトのデータ型が作成される。"
      ],
      "metadata": {
        "id": "QQeND3WPnEiU"
      }
    },
    {
      "cell_type": "code",
      "execution_count": 2,
      "metadata": {
        "id": "FMejBdsrhzGj"
      },
      "outputs": [],
      "source": [
        "#クラス作成\n",
        "class Car:\n",
        "  pass"
      ]
    },
    {
      "cell_type": "code",
      "source": [
        "my_car = Car()\n",
        "\n",
        "#インスタンスを作成\n",
        "type(my_car)"
      ],
      "metadata": {
        "colab": {
          "base_uri": "https://localhost:8080/"
        },
        "id": "r0B6fHsNrk0n",
        "outputId": "1601b4b0-8e63-4d42-f81e-90f19d0b1761"
      },
      "execution_count": 4,
      "outputs": [
        {
          "output_type": "execute_result",
          "data": {
            "text/plain": [
              "__main__.Car"
            ]
          },
          "metadata": {},
          "execution_count": 4
        }
      ]
    },
    {
      "cell_type": "markdown",
      "source": [
        "#データ属性"
      ],
      "metadata": {
        "id": "Y7p8bBUGsA8N"
      }
    },
    {
      "cell_type": "code",
      "source": [
        "class Car:\n",
        "  num_wheels = 4\n",
        "\n",
        "my_car = Car()\n",
        "my_car.num_wheels"
      ],
      "metadata": {
        "colab": {
          "base_uri": "https://localhost:8080/"
        },
        "id": "_nAlxAhpsDKr",
        "outputId": "3c8156bd-d682-422d-c362-6f6d8c243a15"
      },
      "execution_count": 5,
      "outputs": [
        {
          "output_type": "execute_result",
          "data": {
            "text/plain": [
              "4"
            ]
          },
          "metadata": {},
          "execution_count": 5
        }
      ]
    },
    {
      "cell_type": "markdown",
      "source": [
        "#メソッド"
      ],
      "metadata": {
        "id": "fHqX2P9tsh8E"
      }
    },
    {
      "cell_type": "code",
      "source": [
        "class Car:\n",
        "  weight = 4000 #データ属性(材料)\n",
        "  num_wheels = 4\n",
        "\n",
        "  def calc_weight_per_wheel(self): #selfはメソッド(道具)\n",
        "    return 1000.0\n",
        "\n",
        "my_car = Car()\n",
        "my_car.calc_weight_per_wheel()"
      ],
      "metadata": {
        "colab": {
          "base_uri": "https://localhost:8080/"
        },
        "id": "AI2cJ31Msjp1",
        "outputId": "614b03ab-69fe-4f0d-ed91-060199a3597d"
      },
      "execution_count": 6,
      "outputs": [
        {
          "output_type": "execute_result",
          "data": {
            "text/plain": [
              "1000.0"
            ]
          },
          "metadata": {},
          "execution_count": 6
        }
      ]
    }
  ]
}