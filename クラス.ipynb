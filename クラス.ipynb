{
  "nbformat": 4,
  "nbformat_minor": 0,
  "metadata": {
    "colab": {
      "provenance": [],
      "authorship_tag": "ABX9TyNBjk4qs+jGxnEuaS9/FRph",
      "include_colab_link": true
    },
    "kernelspec": {
      "name": "python3",
      "display_name": "Python 3"
    },
    "language_info": {
      "name": "python"
    }
  },
  "cells": [
    {
      "cell_type": "markdown",
      "metadata": {
        "id": "view-in-github",
        "colab_type": "text"
      },
      "source": [
        "<a href=\"https://colab.research.google.com/github/4kang/python/blob/main/%E3%82%AF%E3%83%A9%E3%82%B9.ipynb\" target=\"_parent\"><img src=\"https://colab.research.google.com/assets/colab-badge.svg\" alt=\"Open In Colab\"/></a>"
      ]
    },
    {
      "cell_type": "markdown",
      "source": [
        "新規クラスを作成することで新しいオブジェクトのデータ型が作成される。"
      ],
      "metadata": {
        "id": "QQeND3WPnEiU"
      }
    },
    {
      "cell_type": "code",
      "execution_count": 2,
      "metadata": {
        "id": "FMejBdsrhzGj"
      },
      "outputs": [],
      "source": [
        "#クラス作成\n",
        "class Car:\n",
        "  pass"
      ]
    },
    {
      "cell_type": "code",
      "source": [
        "my_car = Car()\n",
        "\n",
        "#インスタンスを作成\n",
        "type(my_car)"
      ],
      "metadata": {
        "colab": {
          "base_uri": "https://localhost:8080/",
          "height": 0
        },
        "id": "r0B6fHsNrk0n",
        "outputId": "1601b4b0-8e63-4d42-f81e-90f19d0b1761"
      },
      "execution_count": 4,
      "outputs": [
        {
          "output_type": "execute_result",
          "data": {
            "text/plain": [
              "__main__.Car"
            ]
          },
          "metadata": {},
          "execution_count": 4
        }
      ]
    },
    {
      "cell_type": "markdown",
      "source": [
        "#データ属性"
      ],
      "metadata": {
        "id": "Y7p8bBUGsA8N"
      }
    },
    {
      "cell_type": "code",
      "source": [
        "class Car:\n",
        "  num_wheels = 4 #クラスの中の変数(num_wheels)、データ属性\n",
        "\n",
        "my_car = Car()\n",
        "my_car.num_wheels"
      ],
      "metadata": {
        "colab": {
          "base_uri": "https://localhost:8080/",
          "height": 0
        },
        "id": "_nAlxAhpsDKr",
        "outputId": "3c8156bd-d682-422d-c362-6f6d8c243a15"
      },
      "execution_count": 5,
      "outputs": [
        {
          "output_type": "execute_result",
          "data": {
            "text/plain": [
              "4"
            ]
          },
          "metadata": {},
          "execution_count": 5
        }
      ]
    },
    {
      "cell_type": "markdown",
      "source": [
        "#メソッド"
      ],
      "metadata": {
        "id": "fHqX2P9tsh8E"
      }
    },
    {
      "cell_type": "code",
      "source": [
        "class Car:\n",
        "  weight = 4000 #データ属性(材料)その1\n",
        "  num_wheels = 4 #その2\n",
        "\n",
        "  def calc_weight_per_wheel(self): #selfはメソッド(道具)\n",
        "    return 1000.0\n",
        "\n",
        "my_car = Car()\n",
        "my_car.calc_weight_per_wheel()"
      ],
      "metadata": {
        "colab": {
          "base_uri": "https://localhost:8080/",
          "height": 0
        },
        "id": "AI2cJ31Msjp1",
        "outputId": "614b03ab-69fe-4f0d-ed91-060199a3597d"
      },
      "execution_count": 6,
      "outputs": [
        {
          "output_type": "execute_result",
          "data": {
            "text/plain": [
              "1000.0"
            ]
          },
          "metadata": {},
          "execution_count": 6
        }
      ]
    },
    {
      "cell_type": "code",
      "source": [
        "#初期化メソッド__init__()\n",
        "\n",
        "class Car:\n",
        "  weight = 4000\n",
        "  num_wheels = 4\n",
        "\n",
        "  def __init__(self, car_name=\"NoName\"):\n",
        "   self.name = car_name\n",
        "\n",
        "  def calc_weight_per_wheel(self):\n",
        "    return self.weight / self.num_wheels\n",
        "\n",
        "default_car = Car()\n",
        "default_car.name"
      ],
      "metadata": {
        "colab": {
          "base_uri": "https://localhost:8080/",
          "height": 35
        },
        "id": "o4e8XHW4-oEk",
        "outputId": "0d2a94b8-5ca7-4ff5-c82a-b66b67f02606"
      },
      "execution_count": 8,
      "outputs": [
        {
          "output_type": "execute_result",
          "data": {
            "text/plain": [
              "'NoName'"
            ],
            "application/vnd.google.colaboratory.intrinsic+json": {
              "type": "string"
            }
          },
          "metadata": {},
          "execution_count": 8
        }
      ]
    },
    {
      "cell_type": "code",
      "source": [
        "my_car = Car(\"で見狩る\")\n",
        "my_car.name"
      ],
      "metadata": {
        "colab": {
          "base_uri": "https://localhost:8080/",
          "height": 35
        },
        "id": "0UujJxPpC4WE",
        "outputId": "32df502c-c555-4989-bf3d-5aecaf2d8a76"
      },
      "execution_count": 9,
      "outputs": [
        {
          "output_type": "execute_result",
          "data": {
            "text/plain": [
              "'で見狩る'"
            ],
            "application/vnd.google.colaboratory.intrinsic+json": {
              "type": "string"
            }
          },
          "metadata": {},
          "execution_count": 9
        }
      ]
    },
    {
      "cell_type": "code",
      "source": [
        "class Cat:\n",
        "  legs = 4\n",
        "  cry = \"ニャー\"\n",
        "  is_animal = True\n",
        "\n",
        "tama = Cat()\n",
        "\"鳴き声：{}, 足の数：{}, 動物：{}\".format(tama.cry, tama.legs, tama.is_animal)"
      ],
      "metadata": {
        "colab": {
          "base_uri": "https://localhost:8080/",
          "height": 35
        },
        "id": "fjIkkqmRDB6g",
        "outputId": "b3c79b5d-bc40-4577-fb7e-93fd8b41f362"
      },
      "execution_count": 11,
      "outputs": [
        {
          "output_type": "execute_result",
          "data": {
            "text/plain": [
              "'鳴き声：ニャー, 足の数：4, 動物：True'"
            ],
            "application/vnd.google.colaboratory.intrinsic+json": {
              "type": "string"
            }
          },
          "metadata": {},
          "execution_count": 11
        }
      ]
    }
  ]
}