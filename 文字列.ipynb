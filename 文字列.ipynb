{
  "nbformat": 4,
  "nbformat_minor": 0,
  "metadata": {
    "colab": {
      "provenance": [],
      "authorship_tag": "ABX9TyPi49tSxssfDofJoEivzRX/",
      "include_colab_link": true
    },
    "kernelspec": {
      "name": "python3",
      "display_name": "Python 3"
    },
    "language_info": {
      "name": "python"
    }
  },
  "cells": [
    {
      "cell_type": "markdown",
      "metadata": {
        "id": "view-in-github",
        "colab_type": "text"
      },
      "source": [
        "<a href=\"https://colab.research.google.com/github/4kang/python/blob/main/%E6%96%87%E5%AD%97%E5%88%97.ipynb\" target=\"_parent\"><img src=\"https://colab.research.google.com/assets/colab-badge.svg\" alt=\"Open In Colab\"/></a>"
      ]
    },
    {
      "cell_type": "code",
      "execution_count": 5,
      "metadata": {
        "colab": {
          "base_uri": "https://localhost:8080/"
        },
        "id": "migRXpbV6-PZ",
        "outputId": "c4e485d6-3414-49d6-ae22-87c2582cd968"
      },
      "outputs": [
        {
          "output_type": "stream",
          "name": "stdout",
          "text": [
            "こんにちは\n"
          ]
        }
      ],
      "source": [
        "print(\"こんにちは\")"
      ]
    },
    {
      "cell_type": "code",
      "source": [
        "print(\"文字列の引用符は出力されない\")"
      ],
      "metadata": {
        "colab": {
          "base_uri": "https://localhost:8080/"
        },
        "id": "I3Zuwm21AU1P",
        "outputId": "ab266b81-9af2-48ea-fdfc-0bda989d56f7"
      },
      "execution_count": 8,
      "outputs": [
        {
          "output_type": "stream",
          "name": "stdout",
          "text": [
            "文字列の引用符は出力されない\n"
          ]
        }
      ]
    },
    {
      "cell_type": "code",
      "source": [
        "print('引用符に使っている方は\\nバックスラッシュでエスケープ')"
      ],
      "metadata": {
        "colab": {
          "base_uri": "https://localhost:8080/"
        },
        "id": "7Hkq7uAh-08L",
        "outputId": "551d00b4-1da5-4a83-e503-dd4c88ac00a2"
      },
      "execution_count": 10,
      "outputs": [
        {
          "output_type": "stream",
          "name": "stdout",
          "text": [
            "引用符に使っている方は\n",
            "バックスラッシュでエスケープ\n"
          ]
        }
      ]
    },
    {
      "cell_type": "code",
      "source": [
        "print('\"はい\"と彼女はそう返事した')"
      ],
      "metadata": {
        "colab": {
          "base_uri": "https://localhost:8080/"
        },
        "id": "8-Y2A3uDB5pT",
        "outputId": "936d3da9-cf2a-4426-d63e-a7e441e3d7b0"
      },
      "execution_count": 11,
      "outputs": [
        {
          "output_type": "stream",
          "name": "stdout",
          "text": [
            "\"はい\"と彼女はそう返事した\n"
          ]
        }
      ]
    },
    {
      "cell_type": "code",
      "source": [
        "a = \"彼女はうさぎを追いかけた\"\n",
        "print(a)"
      ],
      "metadata": {
        "colab": {
          "base_uri": "https://localhost:8080/"
        },
        "id": "sPJYNh_XCOSH",
        "outputId": "81b09925-b269-40e4-df39-7ded60d3a890"
      },
      "execution_count": 13,
      "outputs": [
        {
          "output_type": "stream",
          "name": "stdout",
          "text": [
            "彼女はうさぎを追いかけた\n"
          ]
        }
      ]
    },
    {
      "cell_type": "markdown",
      "source": [
        "# r(raw文字列)"
      ],
      "metadata": {
        "id": "a4MoJc2cDRDD"
      }
    },
    {
      "cell_type": "code",
      "source": [
        "print('C:\\some\\name') #nameのnが改行として出力される"
      ],
      "metadata": {
        "colab": {
          "base_uri": "https://localhost:8080/"
        },
        "id": "Ej2Qn2ukDVXC",
        "outputId": "a315d216-c672-464c-981a-842602757c6b"
      },
      "execution_count": 14,
      "outputs": [
        {
          "output_type": "stream",
          "name": "stdout",
          "text": [
            "C:\\some\n",
            "ame\n"
          ]
        }
      ]
    },
    {
      "cell_type": "code",
      "source": [
        "print(r'C:\\some\\name') #rをつけることでnがnとして出力される"
      ],
      "metadata": {
        "colab": {
          "base_uri": "https://localhost:8080/"
        },
        "id": "YSifH8vCDt_S",
        "outputId": "dc280572-bd79-4992-9df5-0bc682fa10dc"
      },
      "execution_count": 15,
      "outputs": [
        {
          "output_type": "stream",
          "name": "stdout",
          "text": [
            "C:\\some\\name\n"
          ]
        }
      ]
    },
    {
      "cell_type": "markdown",
      "source": [
        "#複数行"
      ],
      "metadata": {
        "id": "JHDnEne6FGUT"
      }
    },
    {
      "cell_type": "code",
      "source": [
        "print('''トリプルクォートを使うことで\n",
        "改行することができる。''')"
      ],
      "metadata": {
        "id": "AOQ0QhTFFm9g"
      },
      "execution_count": null,
      "outputs": []
    },
    {
      "cell_type": "code",
      "source": [
        "print('''ただし改行を無効にしたい場合は\\行末にバックスラッシュを記述''')"
      ],
      "metadata": {
        "colab": {
          "base_uri": "https://localhost:8080/"
        },
        "id": "qik9nAiPFnsC",
        "outputId": "1fbe86f9-572e-4efb-a727-f7a49b962217"
      },
      "execution_count": 21,
      "outputs": [
        {
          "output_type": "stream",
          "name": "stdout",
          "text": [
            "ただし改行を無効にしたい場合は\\行末にバックスラッシュを記述\n"
          ]
        }
      ]
    },
    {
      "cell_type": "markdown",
      "source": [
        "#連結"
      ],
      "metadata": {
        "id": "YnLw8oErHCNy"
      }
    },
    {
      "cell_type": "code",
      "source": [
        "# +で文字列連結\n",
        "\"タル\" + \"💙\" + \"蛍\""
      ],
      "metadata": {
        "colab": {
          "base_uri": "https://localhost:8080/",
          "height": 35
        },
        "id": "25Lgt4rvHGZq",
        "outputId": "22ec52f0-9353-4903-de7a-d2280ebd9b35"
      },
      "execution_count": 30,
      "outputs": [
        {
          "output_type": "execute_result",
          "data": {
            "text/plain": [
              "'タル💙蛍'"
            ],
            "application/vnd.google.colaboratory.intrinsic+json": {
              "type": "string"
            }
          },
          "metadata": {},
          "execution_count": 30
        }
      ]
    },
    {
      "cell_type": "code",
      "source": [
        "# *で繰り返し可能\n",
        "\"すいみん\" * 5 + \"不足\""
      ],
      "metadata": {
        "colab": {
          "base_uri": "https://localhost:8080/",
          "height": 35
        },
        "id": "5vIiGYVdHSna",
        "outputId": "798842a2-3b6e-4ad0-8795-ecc044d97967"
      },
      "execution_count": 24,
      "outputs": [
        {
          "output_type": "execute_result",
          "data": {
            "text/plain": [
              "'すいみんすいみんすいみんすいみんすいみん不足'"
            ],
            "application/vnd.google.colaboratory.intrinsic+json": {
              "type": "string"
            }
          },
          "metadata": {},
          "execution_count": 24
        }
      ]
    },
    {
      "cell_type": "code",
      "source": [
        "# 自動連結\n",
        "\"鍾\" \"💛\" \"魈\""
      ],
      "metadata": {
        "colab": {
          "base_uri": "https://localhost:8080/",
          "height": 35
        },
        "id": "cBsGc-E4I0eb",
        "outputId": "e636c3c7-0324-4233-d39d-4efa3dca8b02"
      },
      "execution_count": 29,
      "outputs": [
        {
          "output_type": "execute_result",
          "data": {
            "text/plain": [
              "'鍾💛魈'"
            ],
            "application/vnd.google.colaboratory.intrinsic+json": {
              "type": "string"
            }
          },
          "metadata": {},
          "execution_count": 29
        }
      ]
    },
    {
      "cell_type": "code",
      "source": [
        "#変数や式での文字列連結\n",
        "p = \"リオセスリ\"\n",
        "p + \"とシグウィン\""
      ],
      "metadata": {
        "colab": {
          "base_uri": "https://localhost:8080/",
          "height": 35
        },
        "id": "ZaR5r8kfKhBr",
        "outputId": "39eaa0c6-18fa-474a-8c3a-54cc9d4cc141"
      },
      "execution_count": 31,
      "outputs": [
        {
          "output_type": "execute_result",
          "data": {
            "text/plain": [
              "'リオセスリとシグウィン'"
            ],
            "application/vnd.google.colaboratory.intrinsic+json": {
              "type": "string"
            }
          },
          "metadata": {},
          "execution_count": 31
        }
      ]
    },
    {
      "cell_type": "markdown",
      "source": [
        "#インデックスを指定"
      ],
      "metadata": {
        "id": "H9Mh7941KH_6"
      }
    },
    {
      "cell_type": "code",
      "source": [
        "word = \"Python\"\n",
        "\n",
        "word[0] #インデックス0を指定、文字列PythonのPを抽出させる"
      ],
      "metadata": {
        "colab": {
          "base_uri": "https://localhost:8080/",
          "height": 35
        },
        "id": "FT2ZKeMyKOL3",
        "outputId": "8ab29d73-2440-4203-a675-daeb3f99aad7"
      },
      "execution_count": 32,
      "outputs": [
        {
          "output_type": "execute_result",
          "data": {
            "text/plain": [
              "'P'"
            ],
            "application/vnd.google.colaboratory.intrinsic+json": {
              "type": "string"
            }
          },
          "metadata": {},
          "execution_count": 32
        }
      ]
    },
    {
      "cell_type": "code",
      "source": [
        "word[-1] #インデックス-1を指定、文字列Pythonのnを抽出させる"
      ],
      "metadata": {
        "colab": {
          "base_uri": "https://localhost:8080/",
          "height": 35
        },
        "id": "5H6ZXy1zLHte",
        "outputId": "5f577df2-d09d-4220-8084-2e8b518efe3b"
      },
      "execution_count": 33,
      "outputs": [
        {
          "output_type": "execute_result",
          "data": {
            "text/plain": [
              "'n'"
            ],
            "application/vnd.google.colaboratory.intrinsic+json": {
              "type": "string"
            }
          },
          "metadata": {},
          "execution_count": 33
        }
      ]
    }
  ]
}