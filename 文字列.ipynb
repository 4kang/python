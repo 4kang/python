{
  "nbformat": 4,
  "nbformat_minor": 0,
  "metadata": {
    "colab": {
      "provenance": [],
      "authorship_tag": "ABX9TyPJB6bqCPuWtnTPd+OgzBX5",
      "include_colab_link": true
    },
    "kernelspec": {
      "name": "python3",
      "display_name": "Python 3"
    },
    "language_info": {
      "name": "python"
    }
  },
  "cells": [
    {
      "cell_type": "markdown",
      "metadata": {
        "id": "view-in-github",
        "colab_type": "text"
      },
      "source": [
        "<a href=\"https://colab.research.google.com/github/4kang/python/blob/main/%E6%96%87%E5%AD%97%E5%88%97.ipynb\" target=\"_parent\"><img src=\"https://colab.research.google.com/assets/colab-badge.svg\" alt=\"Open In Colab\"/></a>"
      ]
    },
    {
      "cell_type": "code",
      "execution_count": 5,
      "metadata": {
        "colab": {
          "base_uri": "https://localhost:8080/"
        },
        "id": "migRXpbV6-PZ",
        "outputId": "c4e485d6-3414-49d6-ae22-87c2582cd968"
      },
      "outputs": [
        {
          "output_type": "stream",
          "name": "stdout",
          "text": [
            "こんにちは\n"
          ]
        }
      ],
      "source": [
        "print(\"こんにちは\")"
      ]
    },
    {
      "cell_type": "code",
      "source": [
        "print(\"文字列の引用符は出力されない\")"
      ],
      "metadata": {
        "colab": {
          "base_uri": "https://localhost:8080/"
        },
        "id": "I3Zuwm21AU1P",
        "outputId": "ab266b81-9af2-48ea-fdfc-0bda989d56f7"
      },
      "execution_count": 8,
      "outputs": [
        {
          "output_type": "stream",
          "name": "stdout",
          "text": [
            "文字列の引用符は出力されない\n"
          ]
        }
      ]
    },
    {
      "cell_type": "code",
      "source": [
        "print('引用符に使っている方は\\nバックスラッシュでエスケープ')"
      ],
      "metadata": {
        "colab": {
          "base_uri": "https://localhost:8080/"
        },
        "id": "7Hkq7uAh-08L",
        "outputId": "551d00b4-1da5-4a83-e503-dd4c88ac00a2"
      },
      "execution_count": 10,
      "outputs": [
        {
          "output_type": "stream",
          "name": "stdout",
          "text": [
            "引用符に使っている方は\n",
            "バックスラッシュでエスケープ\n"
          ]
        }
      ]
    },
    {
      "cell_type": "code",
      "source": [
        "print('\"はい\"と彼女はそう返事した')"
      ],
      "metadata": {
        "colab": {
          "base_uri": "https://localhost:8080/"
        },
        "id": "8-Y2A3uDB5pT",
        "outputId": "936d3da9-cf2a-4426-d63e-a7e441e3d7b0"
      },
      "execution_count": 11,
      "outputs": [
        {
          "output_type": "stream",
          "name": "stdout",
          "text": [
            "\"はい\"と彼女はそう返事した\n"
          ]
        }
      ]
    },
    {
      "cell_type": "code",
      "source": [
        "a = \"彼女はうさぎを追いかけた\"\n",
        "print(a)"
      ],
      "metadata": {
        "colab": {
          "base_uri": "https://localhost:8080/"
        },
        "id": "sPJYNh_XCOSH",
        "outputId": "81b09925-b269-40e4-df39-7ded60d3a890"
      },
      "execution_count": 13,
      "outputs": [
        {
          "output_type": "stream",
          "name": "stdout",
          "text": [
            "彼女はうさぎを追いかけた\n"
          ]
        }
      ]
    },
    {
      "cell_type": "markdown",
      "source": [
        "# r(raw String)"
      ],
      "metadata": {
        "id": "a4MoJc2cDRDD"
      }
    },
    {
      "cell_type": "code",
      "source": [
        "print('C:\\some\\name') #nameのnが改行として出力される"
      ],
      "metadata": {
        "colab": {
          "base_uri": "https://localhost:8080/"
        },
        "id": "Ej2Qn2ukDVXC",
        "outputId": "a315d216-c672-464c-981a-842602757c6b"
      },
      "execution_count": 14,
      "outputs": [
        {
          "output_type": "stream",
          "name": "stdout",
          "text": [
            "C:\\some\n",
            "ame\n"
          ]
        }
      ]
    },
    {
      "cell_type": "code",
      "source": [
        "print(r'C:\\some\\name') #rをつけることでnがnとして出力される"
      ],
      "metadata": {
        "colab": {
          "base_uri": "https://localhost:8080/"
        },
        "id": "YSifH8vCDt_S",
        "outputId": "dc280572-bd79-4992-9df5-0bc682fa10dc"
      },
      "execution_count": 15,
      "outputs": [
        {
          "output_type": "stream",
          "name": "stdout",
          "text": [
            "C:\\some\\name\n"
          ]
        }
      ]
    }
  ]
}