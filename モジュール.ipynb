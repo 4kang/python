{
  "nbformat": 4,
  "nbformat_minor": 0,
  "metadata": {
    "colab": {
      "provenance": [],
      "gpuType": "T4",
      "authorship_tag": "ABX9TyMN2KSeYD7HpW5ApLHKi8TR",
      "include_colab_link": true
    },
    "kernelspec": {
      "name": "python3",
      "display_name": "Python 3"
    },
    "language_info": {
      "name": "python"
    },
    "accelerator": "GPU"
  },
  "cells": [
    {
      "cell_type": "markdown",
      "metadata": {
        "id": "view-in-github",
        "colab_type": "text"
      },
      "source": [
        "<a href=\"https://colab.research.google.com/github/4kang/python/blob/main/%E3%83%A2%E3%82%B8%E3%83%A5%E3%83%BC%E3%83%AB.ipynb\" target=\"_parent\"><img src=\"https://colab.research.google.com/assets/colab-badge.svg\" alt=\"Open In Colab\"/></a>"
      ]
    },
    {
      "cell_type": "markdown",
      "source": [
        "#標準ライブラリ"
      ],
      "metadata": {
        "id": "nX2sJV2BTQMz"
      }
    },
    {
      "cell_type": "code",
      "source": [
        "#datetime\n",
        "from datetime import date\n",
        "#現在年月日の取得\n",
        "day_now = date.today()\n",
        "day_now"
      ],
      "metadata": {
        "colab": {
          "base_uri": "https://localhost:8080/"
        },
        "id": "sI0H2lQ3pJGJ",
        "outputId": "1a94e62a-399d-4f84-a220-6dc0f064a23a"
      },
      "execution_count": 34,
      "outputs": [
        {
          "output_type": "execute_result",
          "data": {
            "text/plain": [
              "datetime.date(2023, 9, 29)"
            ]
          },
          "metadata": {},
          "execution_count": 34
        }
      ]
    },
    {
      "cell_type": "code",
      "source": [
        "#年月日の差分の取得\n",
        "xday = date(1994, 8, 27)\n",
        "td = day_now - xday\n",
        "td"
      ],
      "metadata": {
        "colab": {
          "base_uri": "https://localhost:8080/"
        },
        "id": "cPqRnZdJpjMe",
        "outputId": "f10ced31-b702-41f6-f350-f6bc507cc1be"
      },
      "execution_count": 41,
      "outputs": [
        {
          "output_type": "execute_result",
          "data": {
            "text/plain": [
              "datetime.timedelta(days=10625)"
            ]
          },
          "metadata": {},
          "execution_count": 41
        }
      ]
    },
    {
      "cell_type": "code",
      "source": [
        "#現在日時の取得\n",
        "from datetime import datetime\n",
        "\n",
        "now = datetime.today()\n",
        "\n",
        "print(now) #現在年月日時分秒マイクロ秒\n",
        "print(now.year) #現在年\n",
        "print(now.month) #現在月\n",
        "print(now.day) #現在日\n",
        "print(now.hour) #現在時\n",
        "print(now.minute) #現在分\n",
        "print(now.second) #現在秒\n",
        "print(now.microsecond) #現在マイクロ秒"
      ],
      "metadata": {
        "colab": {
          "base_uri": "https://localhost:8080/"
        },
        "id": "5mVuA4WmqS1F",
        "outputId": "72a320f1-72db-40f1-bd2a-fc16100560b4"
      },
      "execution_count": 50,
      "outputs": [
        {
          "output_type": "stream",
          "name": "stdout",
          "text": [
            "2023-09-29 06:45:03.308895\n",
            "2023\n",
            "9\n",
            "29\n",
            "6\n",
            "45\n",
            "3\n",
            "308895\n"
          ]
        }
      ]
    },
    {
      "cell_type": "code",
      "source": [
        "#日時の生成\n",
        "datetime(2023, 9, 29, hour=15, minute=45, second=35, microsecond=0)"
      ],
      "metadata": {
        "colab": {
          "base_uri": "https://localhost:8080/"
        },
        "id": "-8r5h4dvryvK",
        "outputId": "bea9bf57-214d-42a3-a031-96acf6594fea"
      },
      "execution_count": 51,
      "outputs": [
        {
          "output_type": "execute_result",
          "data": {
            "text/plain": [
              "datetime.datetime(2023, 9, 29, 15, 45, 35)"
            ]
          },
          "metadata": {},
          "execution_count": 51
        }
      ]
    },
    {
      "cell_type": "code",
      "source": [
        "data = 'すもももももももものうち'\n",
        "count_dic = {}\n",
        "\n",
        "for v in data:\n",
        "  if v in count_dic:\n",
        "    count_dic[v] += 1\n",
        "  else:\n",
        "    count_dic[v] = 1\n",
        "\n",
        "count_dic"
      ],
      "metadata": {
        "colab": {
          "base_uri": "https://localhost:8080/"
        },
        "id": "N-YVI2dahVy9",
        "outputId": "4bed3571-7f94-4e28-da0a-f42d596378d2"
      },
      "execution_count": 29,
      "outputs": [
        {
          "output_type": "execute_result",
          "data": {
            "text/plain": [
              "{'す': 1, 'も': 8, 'の': 1, 'う': 1, 'ち': 1}"
            ]
          },
          "metadata": {},
          "execution_count": 29
        }
      ]
    },
    {
      "cell_type": "code",
      "source": [
        "import collections\n",
        "count_dic = collections.defaultdict(int)\n",
        "\n",
        "for v in data:\n",
        "  count_dic[v] += 1\n",
        "\n",
        "count_dic"
      ],
      "metadata": {
        "colab": {
          "base_uri": "https://localhost:8080/"
        },
        "id": "EXYd1WMGitc9",
        "outputId": "bd423de9-3286-4b71-e354-f6bc129f6ac2"
      },
      "execution_count": 30,
      "outputs": [
        {
          "output_type": "execute_result",
          "data": {
            "text/plain": [
              "defaultdict(int, {'す': 1, 'も': 8, 'の': 1, 'う': 1, 'ち': 1})"
            ]
          },
          "metadata": {},
          "execution_count": 30
        }
      ]
    },
    {
      "cell_type": "code",
      "source": [
        "count_dic = collections.defaultdict(list)\n",
        "for v in data:\n",
        "  count_dic[v].append(v)\n",
        "\n",
        "count_dic"
      ],
      "metadata": {
        "colab": {
          "base_uri": "https://localhost:8080/"
        },
        "id": "Zza1Stommoln",
        "outputId": "bbfb655b-975c-4878-a178-51233f722058"
      },
      "execution_count": 31,
      "outputs": [
        {
          "output_type": "execute_result",
          "data": {
            "text/plain": [
              "defaultdict(list,\n",
              "            {'す': ['す'],\n",
              "             'も': ['も', 'も', 'も', 'も', 'も', 'も', 'も', 'も'],\n",
              "             'の': ['の'],\n",
              "             'う': ['う'],\n",
              "             'ち': ['ち']})"
            ]
          },
          "metadata": {},
          "execution_count": 31
        }
      ]
    },
    {
      "cell_type": "code",
      "source": [
        "counter = collections.Counter(data)\n",
        "counter"
      ],
      "metadata": {
        "colab": {
          "base_uri": "https://localhost:8080/"
        },
        "id": "Hacbf2b_nNE_",
        "outputId": "58508215-12a0-4776-a435-4a5be4377b6a"
      },
      "execution_count": 32,
      "outputs": [
        {
          "output_type": "execute_result",
          "data": {
            "text/plain": [
              "Counter({'す': 1, 'も': 8, 'の': 1, 'う': 1, 'ち': 1})"
            ]
          },
          "metadata": {},
          "execution_count": 32
        }
      ]
    },
    {
      "cell_type": "code",
      "source": [
        "import pathlib\n",
        "p = pathlib.Path(\",\")"
      ],
      "metadata": {
        "id": "_PlJ1dOmcZnr"
      },
      "execution_count": 28,
      "outputs": []
    },
    {
      "cell_type": "code",
      "source": [
        "import random\n",
        "path_to_random = random.__file__\n",
        "path_to_random"
      ],
      "metadata": {
        "colab": {
          "base_uri": "https://localhost:8080/",
          "height": 36
        },
        "id": "3dZZdwV3TUI4",
        "outputId": "eb543548-91aa-492a-b94b-879ebf28f84e"
      },
      "execution_count": 19,
      "outputs": [
        {
          "output_type": "execute_result",
          "data": {
            "text/plain": [
              "'/usr/lib/python3.10/random.py'"
            ],
            "application/vnd.google.colaboratory.intrinsic+json": {
              "type": "string"
            }
          },
          "metadata": {},
          "execution_count": 19
        }
      ]
    },
    {
      "cell_type": "code",
      "source": [
        "import os\n",
        "os.path.exists(path_to_random)"
      ],
      "metadata": {
        "colab": {
          "base_uri": "https://localhost:8080/"
        },
        "id": "o-CLaCEiVmA5",
        "outputId": "71593a96-ffa4-4078-c9d7-5804e39a6bc4"
      },
      "execution_count": 21,
      "outputs": [
        {
          "output_type": "execute_result",
          "data": {
            "text/plain": [
              "True"
            ]
          },
          "metadata": {},
          "execution_count": 21
        }
      ]
    },
    {
      "cell_type": "code",
      "source": [
        "os.path.isdir(path_to_random)"
      ],
      "metadata": {
        "colab": {
          "base_uri": "https://localhost:8080/"
        },
        "id": "QeaOxFZiYc_w",
        "outputId": "6a7176c1-a2d8-4c81-b577-9d05205a6d73"
      },
      "execution_count": 23,
      "outputs": [
        {
          "output_type": "execute_result",
          "data": {
            "text/plain": [
              "False"
            ]
          },
          "metadata": {},
          "execution_count": 23
        }
      ]
    },
    {
      "cell_type": "code",
      "source": [
        "os.path.isfile(path_to_random)"
      ],
      "metadata": {
        "colab": {
          "base_uri": "https://localhost:8080/"
        },
        "id": "iCbbHD2jYxse",
        "outputId": "6435c467-61a9-471d-91a7-da41c420c898"
      },
      "execution_count": 24,
      "outputs": [
        {
          "output_type": "execute_result",
          "data": {
            "text/plain": [
              "True"
            ]
          },
          "metadata": {},
          "execution_count": 24
        }
      ]
    },
    {
      "cell_type": "code",
      "source": [
        "my_dir = \"os_practis\"\n",
        "os.mkdir(my_dir)"
      ],
      "metadata": {
        "id": "OTKUrPLtaVyf"
      },
      "execution_count": 27,
      "outputs": []
    },
    {
      "cell_type": "markdown",
      "source": [
        "#モジュール"
      ],
      "metadata": {
        "id": "OBD5UEGrHzxc"
      }
    },
    {
      "cell_type": "code",
      "source": [
        "import random\n",
        "#0～10までの数字をランダムに出力\n",
        "print(random.randint(0, 10))"
      ],
      "metadata": {
        "colab": {
          "base_uri": "https://localhost:8080/"
        },
        "id": "5hv2Y1URH2ll",
        "outputId": "9b972010-99c2-40c4-ebbf-e072ee87f46d"
      },
      "execution_count": 2,
      "outputs": [
        {
          "output_type": "stream",
          "name": "stdout",
          "text": [
            "8\n"
          ]
        }
      ]
    },
    {
      "cell_type": "code",
      "source": [
        "#リストからランダムに1つの要素を選択する\n",
        "alphabet = [\"a\",\"b\",\"c\",\"d\",\"e\",\"f\",\"g\",\"h\",\"i\",\"j\",\"k\"]\n",
        "print(random.choice(alphabet))"
      ],
      "metadata": {
        "colab": {
          "base_uri": "https://localhost:8080/"
        },
        "id": "iZtkZ0UOIPOd",
        "outputId": "c52a749e-3349-4b69-8325-70d8f8f0cbbe"
      },
      "execution_count": 4,
      "outputs": [
        {
          "output_type": "stream",
          "name": "stdout",
          "text": [
            "f\n"
          ]
        }
      ]
    },
    {
      "cell_type": "code",
      "source": [
        "#リストから複数の要素を取り出す\n",
        "print(random.sample(alphabet, 5))"
      ],
      "metadata": {
        "colab": {
          "base_uri": "https://localhost:8080/"
        },
        "id": "zwKTEAXJI1X8",
        "outputId": "f35897b6-3eb0-466c-fff0-7e403958f4d1"
      },
      "execution_count": 8,
      "outputs": [
        {
          "output_type": "stream",
          "name": "stdout",
          "text": [
            "['f', 'i', 'e', 'k', 'h']\n"
          ]
        }
      ]
    },
    {
      "cell_type": "code",
      "source": [
        "from random import randint #from モジュール import 関数名\n",
        "print(randint(0, 10))"
      ],
      "metadata": {
        "colab": {
          "base_uri": "https://localhost:8080/"
        },
        "id": "vWBv6eqbKFk-",
        "outputId": "7b61e6e2-31c6-4180-cd42-6548b7dcaabd"
      },
      "execution_count": 11,
      "outputs": [
        {
          "output_type": "stream",
          "name": "stdout",
          "text": [
            "3\n"
          ]
        }
      ]
    },
    {
      "cell_type": "code",
      "source": [
        "from random import randint, choice\n",
        "print(randint(0, 10))\n",
        "print(choice([\"a\", \"b\", \"c\"]))"
      ],
      "metadata": {
        "colab": {
          "base_uri": "https://localhost:8080/"
        },
        "id": "lJ6o-cUzLaXo",
        "outputId": "8293430e-30c0-4d15-9e9f-814e03b1ce8a"
      },
      "execution_count": 12,
      "outputs": [
        {
          "output_type": "stream",
          "name": "stdout",
          "text": [
            "7\n",
            "b\n"
          ]
        }
      ]
    },
    {
      "cell_type": "code",
      "source": [
        "#モジュールに別名をつける\n",
        "import random as rd\n",
        "print(rd.randint(1,10))\n",
        "\n",
        "from random import randint as rint\n",
        "rint(1, 10)"
      ],
      "metadata": {
        "colab": {
          "base_uri": "https://localhost:8080/"
        },
        "id": "r7zU1pxhO5Ps",
        "outputId": "d8993f0d-3ca0-435c-c68d-ae0da5695a82"
      },
      "execution_count": 15,
      "outputs": [
        {
          "output_type": "stream",
          "name": "stdout",
          "text": [
            "6\n"
          ]
        },
        {
          "output_type": "execute_result",
          "data": {
            "text/plain": [
              "7"
            ]
          },
          "metadata": {},
          "execution_count": 15
        }
      ]
    },
    {
      "cell_type": "code",
      "source": [
        "import random\n",
        "from random import randint\n",
        "\n",
        "print(random.randint(0,10))\n",
        "print(randint(0,10))"
      ],
      "metadata": {
        "colab": {
          "base_uri": "https://localhost:8080/"
        },
        "id": "PjMmzKNkShOp",
        "outputId": "4bb71b05-6e4f-4dc0-d0f4-3e7729b8609f"
      },
      "execution_count": 18,
      "outputs": [
        {
          "output_type": "stream",
          "name": "stdout",
          "text": [
            "3\n",
            "4\n"
          ]
        }
      ]
    },
    {
      "cell_type": "code",
      "source": [
        "#モジュールの検索(sys.path)\n",
        "import sys\n",
        "print(sys.path)"
      ],
      "metadata": {
        "colab": {
          "base_uri": "https://localhost:8080/"
        },
        "id": "ucd74AVZPszq",
        "outputId": "6c18f0dd-7d69-451a-8861-60d76ad9961e"
      },
      "execution_count": 16,
      "outputs": [
        {
          "output_type": "stream",
          "name": "stdout",
          "text": [
            "['/content', '/env/python', '/usr/lib/python310.zip', '/usr/lib/python3.10', '/usr/lib/python3.10/lib-dynload', '', '/usr/local/lib/python3.10/dist-packages', '/usr/lib/python3/dist-packages', '/usr/local/lib/python3.10/dist-packages/IPython/extensions', '/root/.ipython']\n"
          ]
        }
      ]
    },
    {
      "cell_type": "code",
      "source": [
        "import random, math\n",
        "print(math.pow(2, 3))"
      ],
      "metadata": {
        "colab": {
          "base_uri": "https://localhost:8080/"
        },
        "id": "Bha7PmLtJdSu",
        "outputId": "1626f0d1-f6cc-4b3d-c78d-7e4bd40eab1d"
      },
      "execution_count": 9,
      "outputs": [
        {
          "output_type": "stream",
          "name": "stdout",
          "text": [
            "8.0\n"
          ]
        }
      ]
    },
    {
      "cell_type": "code",
      "source": [
        "from math import pow\n",
        "pow(2, 4)"
      ],
      "metadata": {
        "colab": {
          "base_uri": "https://localhost:8080/"
        },
        "id": "KXPfDdTWQobi",
        "outputId": "4c9ede2a-5cd4-4ffc-d851-9d13d5bae260"
      },
      "execution_count": 17,
      "outputs": [
        {
          "output_type": "execute_result",
          "data": {
            "text/plain": [
              "16.0"
            ]
          },
          "metadata": {},
          "execution_count": 17
        }
      ]
    }
  ]
}