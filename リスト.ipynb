{
  "nbformat": 4,
  "nbformat_minor": 0,
  "metadata": {
    "colab": {
      "provenance": [],
      "authorship_tag": "ABX9TyNGW7GZZqeBzA3WJJ22Wud4",
      "include_colab_link": true
    },
    "kernelspec": {
      "name": "python3",
      "display_name": "Python 3"
    },
    "language_info": {
      "name": "python"
    }
  },
  "cells": [
    {
      "cell_type": "markdown",
      "metadata": {
        "id": "view-in-github",
        "colab_type": "text"
      },
      "source": [
        "<a href=\"https://colab.research.google.com/github/4kang/python/blob/main/%E3%83%AA%E3%82%B9%E3%83%88.ipynb\" target=\"_parent\"><img src=\"https://colab.research.google.com/assets/colab-badge.svg\" alt=\"Open In Colab\"/></a>"
      ]
    },
    {
      "cell_type": "code",
      "execution_count": null,
      "metadata": {
        "colab": {
          "base_uri": "https://localhost:8080/"
        },
        "id": "9Gx3wyeW1ME6",
        "outputId": "d4f75aba-59be-40fc-fc53-02b3d8c505ea"
      },
      "outputs": [
        {
          "output_type": "execute_result",
          "data": {
            "text/plain": [
              "[1, 4, 9, 16, 25]"
            ]
          },
          "metadata": {},
          "execution_count": 1
        }
      ],
      "source": [
        "lis = [1,4,9,16,25] #リストを代入\n",
        "lis"
      ]
    },
    {
      "cell_type": "markdown",
      "source": [
        "#インデックス"
      ],
      "metadata": {
        "id": "-yldYoZJiLYa"
      }
    },
    {
      "cell_type": "code",
      "source": [
        "lis[0] #インデックス指定"
      ],
      "metadata": {
        "colab": {
          "base_uri": "https://localhost:8080/"
        },
        "id": "KTDXGApo4VUK",
        "outputId": "ce707e80-d243-4252-bd81-44a7cd985aaa"
      },
      "execution_count": null,
      "outputs": [
        {
          "output_type": "execute_result",
          "data": {
            "text/plain": [
              "1"
            ]
          },
          "metadata": {},
          "execution_count": 2
        }
      ]
    },
    {
      "cell_type": "code",
      "source": [
        "lis[-1]"
      ],
      "metadata": {
        "colab": {
          "base_uri": "https://localhost:8080/"
        },
        "id": "KLVLI9Qd4Xy5",
        "outputId": "4a9e18da-82d8-4448-c00a-8756601fb2ac"
      },
      "execution_count": null,
      "outputs": [
        {
          "output_type": "execute_result",
          "data": {
            "text/plain": [
              "25"
            ]
          },
          "metadata": {},
          "execution_count": 3
        }
      ]
    },
    {
      "cell_type": "code",
      "source": [
        "lis[-3:]"
      ],
      "metadata": {
        "colab": {
          "base_uri": "https://localhost:8080/"
        },
        "id": "FpixLJNz4dOf",
        "outputId": "1889847a-754d-458f-8db4-dc9cf6c5bffb"
      },
      "execution_count": null,
      "outputs": [
        {
          "output_type": "execute_result",
          "data": {
            "text/plain": [
              "[9, 16, 25]"
            ]
          },
          "metadata": {},
          "execution_count": 4
        }
      ]
    },
    {
      "cell_type": "code",
      "source": [
        "chara = [\"アリス\", \"クロ\", \"ミネ\",\"イデア\",\"ライザ\",\"クララ\"]\n",
        "chara"
      ],
      "metadata": {
        "colab": {
          "base_uri": "https://localhost:8080/"
        },
        "id": "zsjRQ4Er4kAX",
        "outputId": "79655381-40fe-4953-8083-32357ce02f0d"
      },
      "execution_count": 2,
      "outputs": [
        {
          "output_type": "execute_result",
          "data": {
            "text/plain": [
              "['アリス', 'クロ', 'ミネ', 'イデア', 'ライザ', 'クララ']"
            ]
          },
          "metadata": {},
          "execution_count": 2
        }
      ]
    },
    {
      "cell_type": "code",
      "source": [
        "chara[1]"
      ],
      "metadata": {
        "colab": {
          "base_uri": "https://localhost:8080/",
          "height": 35
        },
        "id": "a561vJ1X5v-a",
        "outputId": "cdef42da-c51d-45a7-8d70-1365473a5eae"
      },
      "execution_count": null,
      "outputs": [
        {
          "output_type": "execute_result",
          "data": {
            "text/plain": [
              "'クロ'"
            ],
            "application/vnd.google.colaboratory.intrinsic+json": {
              "type": "string"
            }
          },
          "metadata": {},
          "execution_count": 7
        }
      ]
    },
    {
      "cell_type": "markdown",
      "source": [
        "#スライス"
      ],
      "metadata": {
        "id": "w_52AXvfiGl8"
      }
    },
    {
      "cell_type": "code",
      "source": [
        "#スライスでクロ以降のキャラを表示させる\n",
        "chara[2:]"
      ],
      "metadata": {
        "colab": {
          "base_uri": "https://localhost:8080/"
        },
        "id": "F0dtM1a5PqcA",
        "outputId": "2b45a1fe-6e33-4977-bfaa-6b1b8815d5c6"
      },
      "execution_count": 4,
      "outputs": [
        {
          "output_type": "execute_result",
          "data": {
            "text/plain": [
              "['ミネ', 'イデア', 'ライザ', 'クララ']"
            ]
          },
          "metadata": {},
          "execution_count": 4
        }
      ]
    },
    {
      "cell_type": "code",
      "source": [
        "#スライスの代入で、リストのサイズを変更したり削除が可能\n",
        "letters = ['a', 'b', 'c', 'd', 'e', 'f', 'g']\n",
        "letters"
      ],
      "metadata": {
        "colab": {
          "base_uri": "https://localhost:8080/"
        },
        "id": "t6xHwRbdiXjb",
        "outputId": "27ab726f-e98f-4722-b126-590c6ea1d1ff"
      },
      "execution_count": 14,
      "outputs": [
        {
          "output_type": "execute_result",
          "data": {
            "text/plain": [
              "['a', 'b', 'c', 'd', 'e', 'f', 'g']"
            ]
          },
          "metadata": {},
          "execution_count": 14
        }
      ]
    },
    {
      "cell_type": "code",
      "source": [
        "letters[2:5] = ['C','D','E']\n",
        "#2～4(c,d,e)をC,D,Eに変更する\n",
        "letters"
      ],
      "metadata": {
        "colab": {
          "base_uri": "https://localhost:8080/"
        },
        "id": "uulBlCRuizBw",
        "outputId": "d46d9635-9249-451a-e009-1d3f1d7d130b"
      },
      "execution_count": 15,
      "outputs": [
        {
          "output_type": "execute_result",
          "data": {
            "text/plain": [
              "['a', 'b', 'C', 'D', 'E', 'f', 'g']"
            ]
          },
          "metadata": {},
          "execution_count": 15
        }
      ]
    },
    {
      "cell_type": "code",
      "source": [
        "letters[2:5] = []\n",
        "#2～4のインデントを削除\n",
        "letters"
      ],
      "metadata": {
        "colab": {
          "base_uri": "https://localhost:8080/"
        },
        "id": "FJKLcluHjbke",
        "outputId": "27d909c3-1bdb-4fe7-e29c-309f5b276770"
      },
      "execution_count": 16,
      "outputs": [
        {
          "output_type": "execute_result",
          "data": {
            "text/plain": [
              "['a', 'b', 'f', 'g']"
            ]
          },
          "metadata": {},
          "execution_count": 16
        }
      ]
    },
    {
      "cell_type": "code",
      "source": [
        "letters[:] = []\n",
        "#リストの要素を全削除\n",
        "letters"
      ],
      "metadata": {
        "colab": {
          "base_uri": "https://localhost:8080/"
        },
        "id": "G65q3W4bkKDk",
        "outputId": "223b9644-a794-4928-a91b-0183fa47cfdd"
      },
      "execution_count": 17,
      "outputs": [
        {
          "output_type": "execute_result",
          "data": {
            "text/plain": [
              "[]"
            ]
          },
          "metadata": {},
          "execution_count": 17
        }
      ]
    },
    {
      "cell_type": "markdown",
      "source": [
        "#コピー"
      ],
      "metadata": {
        "id": "jaefG2YIiEi6"
      }
    },
    {
      "cell_type": "code",
      "source": [
        "lis[:] #コピー"
      ],
      "metadata": {
        "colab": {
          "base_uri": "https://localhost:8080/"
        },
        "id": "mHS1HzUg50Lk",
        "outputId": "c492ff7a-07da-48a5-8844-4c02a4638ffe"
      },
      "execution_count": null,
      "outputs": [
        {
          "output_type": "execute_result",
          "data": {
            "text/plain": [
              "[1, 4, 9, 16, 25]"
            ]
          },
          "metadata": {},
          "execution_count": 8
        }
      ]
    },
    {
      "cell_type": "markdown",
      "source": [
        "#リストの連結"
      ],
      "metadata": {
        "id": "SOvfe5pfh8Y6"
      }
    },
    {
      "cell_type": "code",
      "source": [
        "# リストの連結\n",
        "lis + [36,49,64,81,100]"
      ],
      "metadata": {
        "colab": {
          "base_uri": "https://localhost:8080/"
        },
        "id": "Y3zR7o7855aN",
        "outputId": "7953884a-a33b-4f3e-8b87-11bb669f0708"
      },
      "execution_count": null,
      "outputs": [
        {
          "output_type": "execute_result",
          "data": {
            "text/plain": [
              "[1, 4, 9, 16, 25, 36, 49, 64, 81, 100]"
            ]
          },
          "metadata": {},
          "execution_count": 9
        }
      ]
    },
    {
      "cell_type": "markdown",
      "source": [
        "#append()"
      ],
      "metadata": {
        "id": "dKR5YVgih_pz"
      }
    },
    {
      "cell_type": "code",
      "source": [
        "#append()メソッド\n",
        "app = [1,4,9,8,12,16]\n",
        "\n",
        "app.append(20)\n",
        "app"
      ],
      "metadata": {
        "colab": {
          "base_uri": "https://localhost:8080/"
        },
        "id": "iF0e6SZG9Ved",
        "outputId": "efcc041e-6046-42b2-a821-ddb0d1622969"
      },
      "execution_count": 6,
      "outputs": [
        {
          "output_type": "execute_result",
          "data": {
            "text/plain": [
              "[1, 4, 9, 8, 12, 16, 20]"
            ]
          },
          "metadata": {},
          "execution_count": 6
        }
      ]
    },
    {
      "cell_type": "code",
      "source": [
        "app.append(3 ** 3)\n",
        "app"
      ],
      "metadata": {
        "colab": {
          "base_uri": "https://localhost:8080/"
        },
        "id": "CSkXi76lhnC8",
        "outputId": "9e01a9a3-b443-4746-efc8-1c3db7331938"
      },
      "execution_count": 7,
      "outputs": [
        {
          "output_type": "execute_result",
          "data": {
            "text/plain": [
              "[1, 4, 9, 8, 12, 16, 20, 27]"
            ]
          },
          "metadata": {},
          "execution_count": 7
        }
      ]
    },
    {
      "cell_type": "code",
      "source": [
        "app[:] = []\n",
        "app"
      ],
      "metadata": {
        "colab": {
          "base_uri": "https://localhost:8080/"
        },
        "id": "rmbjFVAzkPed",
        "outputId": "4d60930f-916f-4baf-efaf-3c1b26a24645"
      },
      "execution_count": 18,
      "outputs": [
        {
          "output_type": "execute_result",
          "data": {
            "text/plain": [
              "[]"
            ]
          },
          "metadata": {},
          "execution_count": 18
        }
      ]
    },
    {
      "cell_type": "markdown",
      "source": [
        "#フィボナッチ数列"
      ],
      "metadata": {
        "id": "-2aJ_RJ10Wgz"
      }
    },
    {
      "cell_type": "code",
      "source": [
        "a,b = 0,1 #a,bはそれぞれ同時に新しい値0，1を代入\n",
        "\n",
        "while a < 100:\n",
        "  print(a, end = \",\")\n",
        "  a,b = b, a+b"
      ],
      "metadata": {
        "colab": {
          "base_uri": "https://localhost:8080/"
        },
        "id": "_zrpDmG00YNL",
        "outputId": "81c9abdd-7213-42e4-8e64-795e0283b933"
      },
      "execution_count": 21,
      "outputs": [
        {
          "output_type": "stream",
          "name": "stdout",
          "text": [
            "0,1,1,2,3,5,8,13,21,34,55,89,"
          ]
        }
      ]
    }
  ]
}