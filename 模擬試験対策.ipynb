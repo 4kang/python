{
  "nbformat": 4,
  "nbformat_minor": 0,
  "metadata": {
    "colab": {
      "provenance": [],
      "authorship_tag": "ABX9TyO/SRSJKFJWE+diPsFE+Lxs",
      "include_colab_link": true
    },
    "kernelspec": {
      "name": "python3",
      "display_name": "Python 3"
    },
    "language_info": {
      "name": "python"
    }
  },
  "cells": [
    {
      "cell_type": "markdown",
      "metadata": {
        "id": "view-in-github",
        "colab_type": "text"
      },
      "source": [
        "<a href=\"https://colab.research.google.com/github/4kang/python/blob/main/%E6%A8%A1%E6%93%AC%E8%A9%A6%E9%A8%93%E5%AF%BE%E7%AD%96.ipynb\" target=\"_parent\"><img src=\"https://colab.research.google.com/assets/colab-badge.svg\" alt=\"Open In Colab\"/></a>"
      ]
    },
    {
      "cell_type": "code",
      "source": [
        "from urllib import parse\n",
        "\n",
        "query = \"key1=value1&key1=value2&key2=value3\"\n",
        "print(parse.parse_qsl(query)) #クエリ文字列をリスト化(qsl)"
      ],
      "metadata": {
        "id": "bAwRU-T9hJX_",
        "outputId": "fed1f337-7b86-4b14-e31c-859525b5689d",
        "colab": {
          "base_uri": "https://localhost:8080/"
        }
      },
      "execution_count": 29,
      "outputs": [
        {
          "output_type": "stream",
          "name": "stdout",
          "text": [
            "[('key1', 'value1'), ('key1', 'value2'), ('key2', 'value3')]\n"
          ]
        }
      ]
    },
    {
      "cell_type": "code",
      "source": [
        "import copy\n",
        "lst1 = [1,[2,3],4]\n",
        "lst2 = list(lst1)\n",
        "print(lst2)"
      ],
      "metadata": {
        "colab": {
          "base_uri": "https://localhost:8080/"
        },
        "id": "uyUWJj2ZKRBw",
        "outputId": "d2a12882-140f-499e-b528-797bf5d3a9e6"
      },
      "execution_count": 20,
      "outputs": [
        {
          "output_type": "stream",
          "name": "stdout",
          "text": [
            "[1, [2, 3], 4]\n"
          ]
        }
      ]
    },
    {
      "cell_type": "code",
      "source": [
        "lst3 = copy.deepcopy(lst1)\n",
        "print(lst3)"
      ],
      "metadata": {
        "colab": {
          "base_uri": "https://localhost:8080/"
        },
        "id": "UtZ3UQ1gKjTj",
        "outputId": "519ac7f9-d167-4f74-bbd5-509f34e562a3"
      },
      "execution_count": 22,
      "outputs": [
        {
          "output_type": "stream",
          "name": "stdout",
          "text": [
            "[1, [2, 3], 4]\n"
          ]
        }
      ]
    },
    {
      "cell_type": "code",
      "source": [
        "lst1[1][0] = \"X\"\n",
        "print(lst1)"
      ],
      "metadata": {
        "colab": {
          "base_uri": "https://localhost:8080/"
        },
        "id": "McL8C0XpK1XE",
        "outputId": "09da15f9-19a3-4787-a006-e2be63c92b11"
      },
      "execution_count": 27,
      "outputs": [
        {
          "output_type": "stream",
          "name": "stdout",
          "text": [
            "[1, ['X', 3], 4]\n"
          ]
        }
      ]
    },
    {
      "cell_type": "code",
      "source": [
        "print(lst2[1][0], lst3[1][0])"
      ],
      "metadata": {
        "colab": {
          "base_uri": "https://localhost:8080/"
        },
        "id": "KJ9seH3NLz0V",
        "outputId": "542fa400-3b7d-43b9-f552-256b4c1e7c4e"
      },
      "execution_count": 25,
      "outputs": [
        {
          "output_type": "stream",
          "name": "stdout",
          "text": [
            "X 2\n"
          ]
        }
      ]
    },
    {
      "cell_type": "code",
      "source": [
        "def unpacked_dict():\n",
        "    a, b = {'a': 1, 'b': 2}\n",
        "\n",
        "    return a, b\n",
        "print(unpacked_dict())"
      ],
      "metadata": {
        "colab": {
          "base_uri": "https://localhost:8080/"
        },
        "id": "yvieJNtX117e",
        "outputId": "8384d8de-0f26-4894-f9f6-2d1d04e116a4"
      },
      "execution_count": 17,
      "outputs": [
        {
          "output_type": "stream",
          "name": "stdout",
          "text": [
            "('a', 'b')\n"
          ]
        }
      ]
    },
    {
      "cell_type": "markdown",
      "source": [
        "#logging"
      ],
      "metadata": {
        "id": "phRqsKb2Y6Oj"
      }
    },
    {
      "cell_type": "code",
      "source": [
        "import logging\n",
        "\n"
      ],
      "metadata": {
        "id": "_Tu3BjDaY81H"
      },
      "execution_count": 14,
      "outputs": []
    },
    {
      "cell_type": "code",
      "source": [
        "logging.info(\"I am info log\")\n",
        "logging.warning(\"I am warning log\")"
      ],
      "metadata": {
        "colab": {
          "base_uri": "https://localhost:8080/"
        },
        "id": "NcMCQir6Z4JI",
        "outputId": "7cccc0d6-2786-4b21-d06d-c4643bb39558"
      },
      "execution_count": 16,
      "outputs": [
        {
          "output_type": "stream",
          "name": "stderr",
          "text": [
            "WARNING:root:I am warning log\n"
          ]
        }
      ]
    },
    {
      "cell_type": "markdown",
      "source": [
        "#要素のカウント"
      ],
      "metadata": {
        "id": "mX_5R_b4QQwS"
      }
    },
    {
      "cell_type": "code",
      "source": [
        "from collections import Counter #各要素を数えるメソッド\n",
        "\n",
        "data = ['apple', 'banana', 'apple', 'orange', 'banana', 'banana']\n",
        "c = Counter(data)\n",
        "print(c.most_common(2))"
      ],
      "metadata": {
        "colab": {
          "base_uri": "https://localhost:8080/"
        },
        "id": "nDHex2mtQSdy",
        "outputId": "5abb8589-a1bd-4ccf-b280-63b81999cce8"
      },
      "execution_count": 2,
      "outputs": [
        {
          "output_type": "stream",
          "name": "stdout",
          "text": [
            "[('banana', 3), ('apple', 2)]\n"
          ]
        }
      ]
    },
    {
      "cell_type": "code",
      "source": [
        "#出現回数順に要素を取得(most_common()メソッド)\n",
        "l = [\"a\", \"a\", \"a\", \"a\", \"b\", \"b\", \"c\"]\n",
        "c = collections.Counter(l)\n",
        "\n",
        "print(c.most_common(2))"
      ],
      "metadata": {
        "colab": {
          "base_uri": "https://localhost:8080/"
        },
        "id": "YgPQz6DwVZav",
        "outputId": "41d88187-f9df-4c79-81a4-1afb62e99b14"
      },
      "execution_count": 12,
      "outputs": [
        {
          "output_type": "stream",
          "name": "stdout",
          "text": [
            "[('a', 4), ('b', 2)]\n"
          ]
        }
      ]
    },
    {
      "cell_type": "code",
      "source": [
        "import collections\n",
        "#変数lにリストを代入\n",
        "l = ['a', 'a', 'a', 'a', 'b', 'c', 'c']\n",
        "#さらに変数cにcollections.Counter()と変数lを代入\n",
        "c = collections.Counter(l)\n",
        "print(c)"
      ],
      "metadata": {
        "colab": {
          "base_uri": "https://localhost:8080/"
        },
        "id": "zSaKD_Z4TuvK",
        "outputId": "eff65ac7-fe01-4833-f8d7-34b814f1f8ec"
      },
      "execution_count": 7,
      "outputs": [
        {
          "output_type": "stream",
          "name": "stdout",
          "text": [
            "Counter({'a': 4, 'c': 2, 'b': 1})\n"
          ]
        }
      ]
    },
    {
      "cell_type": "code",
      "source": [
        "#キーとして要素を指定\n",
        "print(c[\"a\"]) #4"
      ],
      "metadata": {
        "colab": {
          "base_uri": "https://localhost:8080/"
        },
        "id": "QA7vzt8FUpjK",
        "outputId": "64978577-0fd0-40a4-cbf5-99655c65299c"
      },
      "execution_count": 9,
      "outputs": [
        {
          "output_type": "stream",
          "name": "stdout",
          "text": [
            "4\n"
          ]
        }
      ]
    },
    {
      "cell_type": "code",
      "source": [
        "print(c[\"d\"]) #0"
      ],
      "metadata": {
        "colab": {
          "base_uri": "https://localhost:8080/"
        },
        "id": "XqOHjXggUztC",
        "outputId": "702cf663-992a-4438-94a2-9e30c87e8431"
      },
      "execution_count": 10,
      "outputs": [
        {
          "output_type": "stream",
          "name": "stdout",
          "text": [
            "0\n"
          ]
        }
      ]
    },
    {
      "cell_type": "code",
      "source": [
        "print(type(c))"
      ],
      "metadata": {
        "colab": {
          "base_uri": "https://localhost:8080/"
        },
        "id": "XOSNJXNjUhtk",
        "outputId": "351b060f-3fae-478a-a9ad-7cf35eea0b5b"
      },
      "execution_count": 8,
      "outputs": [
        {
          "output_type": "stream",
          "name": "stdout",
          "text": [
            "<class 'collections.Counter'>\n"
          ]
        }
      ]
    },
    {
      "cell_type": "code",
      "source": [
        "#文字列の数をカウント(空白も含む)\n",
        "print(len(\"Hello World\"))"
      ],
      "metadata": {
        "colab": {
          "base_uri": "https://localhost:8080/"
        },
        "id": "oYzJMyUuRZ8I",
        "outputId": "d8829720-32e7-448b-da2e-b14f2ca10751"
      },
      "execution_count": 3,
      "outputs": [
        {
          "output_type": "stream",
          "name": "stdout",
          "text": [
            "11\n"
          ]
        }
      ]
    },
    {
      "cell_type": "code",
      "source": [
        "l = [\"a\", \"b\", \"c\", \"d\", \"e\", \"f\", \"g\"]\n",
        "#リスト内の要素の数をカウント\n",
        "print(len(l))"
      ],
      "metadata": {
        "colab": {
          "base_uri": "https://localhost:8080/"
        },
        "id": "HvK-gcTmRm1A",
        "outputId": "9ef63e5f-1baa-4c2d-a216-0e928d223606"
      },
      "execution_count": 5,
      "outputs": [
        {
          "output_type": "stream",
          "name": "stdout",
          "text": [
            "7\n"
          ]
        }
      ]
    },
    {
      "cell_type": "code",
      "source": [
        "print(len([\"alfa\", \"beta\", \"omega\", \"delta\"])) #4"
      ],
      "metadata": {
        "colab": {
          "base_uri": "https://localhost:8080/"
        },
        "id": "HSElIsmUS3N0",
        "outputId": "50162569-a9c6-4678-b9d4-ee72c049428f"
      },
      "execution_count": 6,
      "outputs": [
        {
          "output_type": "stream",
          "name": "stdout",
          "text": [
            "4\n"
          ]
        }
      ]
    },
    {
      "cell_type": "markdown",
      "source": [
        "#イテレーター"
      ],
      "metadata": {
        "id": "RQVNFNh0WKeS"
      }
    },
    {
      "cell_type": "code",
      "source": [
        "#イテレーター\n",
        "\n",
        "def my_generator():\n",
        "  yield 1\n",
        "  yield 2\n",
        "  yield 3\n",
        "\n",
        "g = my_generator()\n",
        "next(g)\n",
        "next(g)\n",
        "next(g)"
      ],
      "metadata": {
        "colab": {
          "base_uri": "https://localhost:8080/"
        },
        "id": "Z2s8l6bef82D",
        "outputId": "ed0189e2-4b58-4fe5-f179-1ff90b4814ce"
      },
      "execution_count": null,
      "outputs": [
        {
          "output_type": "execute_result",
          "data": {
            "text/plain": [
              "3"
            ]
          },
          "metadata": {},
          "execution_count": 3
        }
      ]
    },
    {
      "cell_type": "code",
      "source": [
        "from datetime import datetime, timedelta\n",
        "specific_date = datetime.now()\n",
        "\n",
        "specific_date - timedelta(weeks=1)"
      ],
      "metadata": {
        "colab": {
          "base_uri": "https://localhost:8080/"
        },
        "id": "ylDm3cVkmYH3",
        "outputId": "b8847e09-c9fe-48f3-9097-39bb349f755a"
      },
      "execution_count": null,
      "outputs": [
        {
          "output_type": "execute_result",
          "data": {
            "text/plain": [
              "datetime.datetime(2023, 10, 8, 4, 37, 20, 162846)"
            ]
          },
          "metadata": {},
          "execution_count": 10
        }
      ]
    },
    {
      "cell_type": "code",
      "source": [
        "specific_date - timedelta(days=7)"
      ],
      "metadata": {
        "colab": {
          "base_uri": "https://localhost:8080/"
        },
        "id": "5dD_jF03n_gJ",
        "outputId": "9ad3bef6-bfd5-4ce5-e002-6095581887b8"
      },
      "execution_count": null,
      "outputs": [
        {
          "output_type": "execute_result",
          "data": {
            "text/plain": [
              "datetime.datetime(2023, 10, 8, 4, 37, 20, 162846)"
            ]
          },
          "metadata": {},
          "execution_count": 11
        }
      ]
    },
    {
      "cell_type": "code",
      "source": [
        "specific_date - timedelta(seconds=604800)"
      ],
      "metadata": {
        "colab": {
          "base_uri": "https://localhost:8080/"
        },
        "id": "-3mEYjzeoBo_",
        "outputId": "2abd9d22-e6e1-4e5b-f5a0-696b5c4374b3"
      },
      "execution_count": null,
      "outputs": [
        {
          "output_type": "execute_result",
          "data": {
            "text/plain": [
              "datetime.datetime(2023, 10, 8, 4, 37, 20, 162846)"
            ]
          },
          "metadata": {},
          "execution_count": 12
        }
      ]
    },
    {
      "cell_type": "code",
      "source": [
        "#1週間前の日付を計算できないもの\n",
        "specific_date - timedelta(months=0.25)"
      ],
      "metadata": {
        "id": "HAF8Y6lQoHJj"
      },
      "execution_count": null,
      "outputs": []
    },
    {
      "cell_type": "code",
      "source": [
        "import io\n",
        "\n",
        "with io. StringIO(\"Hello World\")as stream:\n",
        "  data = stream.read()\n",
        "result = stream.getvalue()\n",
        "\n",
        "print(result)"
      ],
      "metadata": {
        "colab": {
          "base_uri": "https://localhost:8080/",
          "height": 255
        },
        "id": "WOaDF3aBon-z",
        "outputId": "68773c91-0536-431b-942f-f2c9d36195e9"
      },
      "execution_count": null,
      "outputs": [
        {
          "output_type": "error",
          "ename": "ValueError",
          "evalue": "ignored",
          "traceback": [
            "\u001b[0;31m---------------------------------------------------------------------------\u001b[0m",
            "\u001b[0;31mValueError\u001b[0m                                Traceback (most recent call last)",
            "\u001b[0;32m<ipython-input-17-2865fb995586>\u001b[0m in \u001b[0;36m<cell line: 5>\u001b[0;34m()\u001b[0m\n\u001b[1;32m      3\u001b[0m \u001b[0;32mwith\u001b[0m \u001b[0mio\u001b[0m\u001b[0;34m.\u001b[0m \u001b[0mStringIO\u001b[0m\u001b[0;34m(\u001b[0m\u001b[0;34m\"Hello World\"\u001b[0m\u001b[0;34m)\u001b[0m\u001b[0;32mas\u001b[0m \u001b[0mstream\u001b[0m\u001b[0;34m:\u001b[0m\u001b[0;34m\u001b[0m\u001b[0;34m\u001b[0m\u001b[0m\n\u001b[1;32m      4\u001b[0m   \u001b[0mdata\u001b[0m \u001b[0;34m=\u001b[0m \u001b[0mstream\u001b[0m\u001b[0;34m.\u001b[0m\u001b[0mread\u001b[0m\u001b[0;34m(\u001b[0m\u001b[0;34m)\u001b[0m\u001b[0;34m\u001b[0m\u001b[0;34m\u001b[0m\u001b[0m\n\u001b[0;32m----> 5\u001b[0;31m \u001b[0mresult\u001b[0m \u001b[0;34m=\u001b[0m \u001b[0mstream\u001b[0m\u001b[0;34m.\u001b[0m\u001b[0mgetvalue\u001b[0m\u001b[0;34m(\u001b[0m\u001b[0;34m)\u001b[0m\u001b[0;34m\u001b[0m\u001b[0;34m\u001b[0m\u001b[0m\n\u001b[0m\u001b[1;32m      6\u001b[0m \u001b[0;34m\u001b[0m\u001b[0m\n\u001b[1;32m      7\u001b[0m \u001b[0mprint\u001b[0m\u001b[0;34m(\u001b[0m\u001b[0mresult\u001b[0m\u001b[0;34m)\u001b[0m\u001b[0;34m\u001b[0m\u001b[0;34m\u001b[0m\u001b[0m\n",
            "\u001b[0;31mValueError\u001b[0m: I/O operation on closed file"
          ]
        }
      ]
    }
  ]
}