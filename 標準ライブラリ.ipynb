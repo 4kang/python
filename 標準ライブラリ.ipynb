{
  "nbformat": 4,
  "nbformat_minor": 0,
  "metadata": {
    "colab": {
      "provenance": [],
      "authorship_tag": "ABX9TyN/d4eI5k1gXj1Gu6Dseh9O",
      "include_colab_link": true
    },
    "kernelspec": {
      "name": "python3",
      "display_name": "Python 3"
    },
    "language_info": {
      "name": "python"
    }
  },
  "cells": [
    {
      "cell_type": "markdown",
      "metadata": {
        "id": "view-in-github",
        "colab_type": "text"
      },
      "source": [
        "<a href=\"https://colab.research.google.com/github/4kang/python/blob/main/%E6%A8%99%E6%BA%96%E3%83%A9%E3%82%A4%E3%83%96%E3%83%A9%E3%83%AA.ipynb\" target=\"_parent\"><img src=\"https://colab.research.google.com/assets/colab-badge.svg\" alt=\"Open In Colab\"/></a>"
      ]
    },
    {
      "cell_type": "markdown",
      "source": [
        "#ファイルやディレクトリの操作"
      ],
      "metadata": {
        "id": "8qwDcrziB5ZX"
      }
    },
    {
      "cell_type": "code",
      "source": [
        "#getcwd\n",
        "#カレントディレクトリのパスを返す\n",
        "initial_dir = os.getcwd()\n",
        "print(\"os.getcwd():\", initial_dir)"
      ],
      "metadata": {
        "id": "kgXi5mw_B9C9",
        "outputId": "2baf4a7a-8a3d-473e-bb71-8a56e8657095",
        "colab": {
          "base_uri": "https://localhost:8080/"
        }
      },
      "execution_count": 11,
      "outputs": [
        {
          "output_type": "stream",
          "name": "stdout",
          "text": [
            "os.getcwd(): /content\n"
          ]
        }
      ]
    },
    {
      "cell_type": "code",
      "source": [
        "#mkdir\n",
        "#ディレクトリを作成\n",
        "my_dir = \"os_pracice\"\n",
        "os.mkdir(my_dir)"
      ],
      "metadata": {
        "id": "JgMFAGQpQxkc"
      },
      "execution_count": 12,
      "outputs": []
    },
    {
      "cell_type": "markdown",
      "source": [
        "#os"
      ],
      "metadata": {
        "id": "Law8qFZOZQ-g"
      }
    },
    {
      "cell_type": "code",
      "source": [
        "import random\n",
        "path_random = random.__file__\n",
        "path_random"
      ],
      "metadata": {
        "colab": {
          "base_uri": "https://localhost:8080/",
          "height": 36
        },
        "id": "hnb16EfUaMXx",
        "outputId": "5f4773b9-7ac6-4e8d-aac2-440ff534d649"
      },
      "execution_count": 4,
      "outputs": [
        {
          "output_type": "execute_result",
          "data": {
            "text/plain": [
              "'/usr/lib/python3.10/random.py'"
            ],
            "application/vnd.google.colaboratory.intrinsic+json": {
              "type": "string"
            }
          },
          "metadata": {},
          "execution_count": 4
        }
      ]
    },
    {
      "cell_type": "code",
      "source": [
        "import os\n",
        "\n",
        "#exists\n",
        "#ファイルやディレクトリが存在するか\n",
        "os.path.exists(path_random)"
      ],
      "metadata": {
        "colab": {
          "base_uri": "https://localhost:8080/"
        },
        "id": "d7B31bP_ZQeZ",
        "outputId": "084baf69-b5ad-4276-f2df-e372e44c0257"
      },
      "execution_count": 5,
      "outputs": [
        {
          "output_type": "execute_result",
          "data": {
            "text/plain": [
              "True"
            ]
          },
          "metadata": {},
          "execution_count": 5
        }
      ]
    },
    {
      "cell_type": "code",
      "source": [
        "#isdir\n",
        "#対象のパスがディレクトリかどうか\n",
        "os.path.isdir(path_random)"
      ],
      "metadata": {
        "colab": {
          "base_uri": "https://localhost:8080/"
        },
        "id": "_DKW6LXmae_Q",
        "outputId": "7a8106eb-4e97-432d-a09d-4fac58a5fc28"
      },
      "execution_count": null,
      "outputs": [
        {
          "output_type": "execute_result",
          "data": {
            "text/plain": [
              "False"
            ]
          },
          "metadata": {},
          "execution_count": 3
        }
      ]
    },
    {
      "cell_type": "code",
      "source": [
        "#isfile\n",
        "#対象のパスがファイルかどうか\n",
        "os.path.isfile(path_random)"
      ],
      "metadata": {
        "colab": {
          "base_uri": "https://localhost:8080/"
        },
        "id": "pMLbYudfazCU",
        "outputId": "93c454aa-56e9-4fa2-d9c5-6bf55dcad7df"
      },
      "execution_count": null,
      "outputs": [
        {
          "output_type": "execute_result",
          "data": {
            "text/plain": [
              "True"
            ]
          },
          "metadata": {},
          "execution_count": 4
        }
      ]
    },
    {
      "cell_type": "code",
      "source": [
        "#dirname\n",
        "#最後のファイル名(ディレクトリ名)を除いたパスを返す\n",
        "path_name = os.path.dirname(path_random)\n",
        "path_name"
      ],
      "metadata": {
        "id": "NDPUzvndbhnv",
        "outputId": "0acaa05e-2f5f-45a5-88a4-0d1678d00580",
        "colab": {
          "base_uri": "https://localhost:8080/",
          "height": 36
        }
      },
      "execution_count": 7,
      "outputs": [
        {
          "output_type": "execute_result",
          "data": {
            "text/plain": [
              "'/usr/lib/python3.10'"
            ],
            "application/vnd.google.colaboratory.intrinsic+json": {
              "type": "string"
            }
          },
          "metadata": {},
          "execution_count": 7
        }
      ]
    },
    {
      "cell_type": "code",
      "source": [
        "#basename\n",
        "#最後のファイル名(ディレクトリ名を)を返す\n",
        "os.path.basename(path_random)"
      ],
      "metadata": {
        "id": "45vapUlp_rFM",
        "outputId": "a4e43fcb-2727-4bda-ab49-1881247545c1",
        "colab": {
          "base_uri": "https://localhost:8080/",
          "height": 36
        }
      },
      "execution_count": 6,
      "outputs": [
        {
          "output_type": "execute_result",
          "data": {
            "text/plain": [
              "'random.py'"
            ],
            "application/vnd.google.colaboratory.intrinsic+json": {
              "type": "string"
            }
          },
          "metadata": {},
          "execution_count": 6
        }
      ]
    },
    {
      "cell_type": "code",
      "source": [
        "#split\n",
        "#パスとファイル名を分割\n",
        "dir_path_name, file_name = os.path.split(path_random)\n",
        "dir_path_name, file_name"
      ],
      "metadata": {
        "id": "B2dAL9PYAYDN",
        "outputId": "7ba1d2c1-00ef-4ff7-d23c-8595b6e8181a",
        "colab": {
          "base_uri": "https://localhost:8080/"
        }
      },
      "execution_count": 8,
      "outputs": [
        {
          "output_type": "execute_result",
          "data": {
            "text/plain": [
              "('/usr/lib/python3.10', 'random.py')"
            ]
          },
          "metadata": {},
          "execution_count": 8
        }
      ]
    },
    {
      "cell_type": "code",
      "source": [
        "#join\n",
        "#パスとファイル名をつなげる\n",
        "os.path.join(dir_path_name, file_name)"
      ],
      "metadata": {
        "id": "mbdh6IfKBah7",
        "outputId": "fedb2486-52d2-498c-df62-9b8642e5f948",
        "colab": {
          "base_uri": "https://localhost:8080/",
          "height": 36
        }
      },
      "execution_count": 9,
      "outputs": [
        {
          "output_type": "execute_result",
          "data": {
            "text/plain": [
              "'/usr/lib/python3.10/random.py'"
            ],
            "application/vnd.google.colaboratory.intrinsic+json": {
              "type": "string"
            }
          },
          "metadata": {},
          "execution_count": 9
        }
      ]
    },
    {
      "cell_type": "code",
      "source": [
        "#getsize\n",
        "#パスのサイズを返す\n",
        "os.path.getsize(path_random)"
      ],
      "metadata": {
        "id": "zDm_MsCXBsGV",
        "outputId": "f749ec0d-0ed0-4eeb-818d-0df4c9274def",
        "colab": {
          "base_uri": "https://localhost:8080/"
        }
      },
      "execution_count": 10,
      "outputs": [
        {
          "output_type": "execute_result",
          "data": {
            "text/plain": [
              "33221"
            ]
          },
          "metadata": {},
          "execution_count": 10
        }
      ]
    }
  ]
}