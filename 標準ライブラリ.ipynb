{
  "nbformat": 4,
  "nbformat_minor": 0,
  "metadata": {
    "colab": {
      "provenance": [],
      "authorship_tag": "ABX9TyP0KSTtrZd5dMwtW0SSTepF",
      "include_colab_link": true
    },
    "kernelspec": {
      "name": "python3",
      "display_name": "Python 3"
    },
    "language_info": {
      "name": "python"
    }
  },
  "cells": [
    {
      "cell_type": "markdown",
      "metadata": {
        "id": "view-in-github",
        "colab_type": "text"
      },
      "source": [
        "<a href=\"https://colab.research.google.com/github/4kang/python/blob/main/%E6%A8%99%E6%BA%96%E3%83%A9%E3%82%A4%E3%83%96%E3%83%A9%E3%83%AA.ipynb\" target=\"_parent\"><img src=\"https://colab.research.google.com/assets/colab-badge.svg\" alt=\"Open In Colab\"/></a>"
      ]
    },
    {
      "cell_type": "markdown",
      "source": [
        "#globモジュール\n",
        "引数に指定されたパターンにマッチするファイルパス名を取得する"
      ],
      "metadata": {
        "id": "wc5CXs8pPajj"
      }
    },
    {
      "cell_type": "code",
      "source": [
        "import glob\n",
        "\n",
        "#カレントディレクトリ内に4つのjpgファイルがあるとする\n",
        "glob.glob(\"*.jpg\")\n",
        "#[picture1.jpg, picture2.jpg, picture4.jpg]"
      ],
      "metadata": {
        "id": "knlw7NPSPk2L"
      },
      "execution_count": null,
      "outputs": []
    },
    {
      "cell_type": "code",
      "source": [
        "#ディレクトリ内のファイルを全て返したい場合\n",
        "glob.glob(\"*\")"
      ],
      "metadata": {
        "id": "3Gkt3epuTGZT"
      },
      "execution_count": null,
      "outputs": []
    },
    {
      "cell_type": "markdown",
      "source": [
        "#shutlモジュール\n",
        "高水準ファイル・フォルダ操作（コピー・削除・移動）"
      ],
      "metadata": {
        "id": "_zw2BynjFVOO"
      }
    },
    {
      "cell_type": "code",
      "source": [
        "import shutil\n",
        "#ファイルのコピー\n",
        "shutil.copyfile(\"コピー元\", \"コピー先\")"
      ],
      "metadata": {
        "id": "EjNdvSdcFYwY"
      },
      "execution_count": null,
      "outputs": []
    },
    {
      "cell_type": "code",
      "source": [
        "#ファイルもしくはディレクトリ下へコピー\n",
        "shutil.copy(src, dst)"
      ],
      "metadata": {
        "id": "qqWVy9T0KHxr"
      },
      "execution_count": null,
      "outputs": []
    },
    {
      "cell_type": "code",
      "source": [
        "#ファイルのコピーもしくはディレクトリ下へコピー(メタデータ含む)\n",
        "shutil.copy2(src, dst)"
      ],
      "metadata": {
        "id": "GAKw57h_K03Z"
      },
      "execution_count": null,
      "outputs": []
    },
    {
      "cell_type": "code",
      "source": [
        "#ディレクトリツリーのコピー(メタデータ含む)\n",
        "shutil.copytree(src, dst)"
      ],
      "metadata": {
        "id": "jE5eXO7hMtOC"
      },
      "execution_count": null,
      "outputs": []
    },
    {
      "cell_type": "code",
      "source": [
        "#ディレクトリツリーの削除\n",
        "shutil.rmtree(src)"
      ],
      "metadata": {
        "id": "PcCynzvRNuqy"
      },
      "execution_count": null,
      "outputs": []
    },
    {
      "cell_type": "code",
      "source": [
        "#ディレクトリツリーの移動（メタデータ含む）\n",
        "shutil.move(src, dst)"
      ],
      "metadata": {
        "id": "APwDAY7UOBw_"
      },
      "execution_count": null,
      "outputs": []
    },
    {
      "cell_type": "markdown",
      "source": [
        "#ファイルやディレクトリの操作"
      ],
      "metadata": {
        "id": "8qwDcrziB5ZX"
      }
    },
    {
      "cell_type": "code",
      "source": [],
      "metadata": {
        "id": "NJTpSnevD6uE"
      },
      "execution_count": null,
      "outputs": []
    },
    {
      "cell_type": "code",
      "source": [
        "#getcwd\n",
        "#カレントディレクトリのパスを返す\n",
        "initial_dir = os.getcwd()\n",
        "print(\"os.getcwd():\", initial_dir)"
      ],
      "metadata": {
        "id": "kgXi5mw_B9C9",
        "outputId": "2baf4a7a-8a3d-473e-bb71-8a56e8657095",
        "colab": {
          "base_uri": "https://localhost:8080/"
        }
      },
      "execution_count": null,
      "outputs": [
        {
          "output_type": "stream",
          "name": "stdout",
          "text": [
            "os.getcwd(): /content\n"
          ]
        }
      ]
    },
    {
      "cell_type": "code",
      "source": [
        "#mkdir\n",
        "#ディレクトリを作成\n",
        "my_dir = \"os_pracice\"\n",
        "os.mkdir(my_dir)"
      ],
      "metadata": {
        "id": "JgMFAGQpQxkc"
      },
      "execution_count": null,
      "outputs": []
    },
    {
      "cell_type": "markdown",
      "source": [
        "#osモジュール"
      ],
      "metadata": {
        "id": "Law8qFZOZQ-g"
      }
    },
    {
      "cell_type": "code",
      "source": [
        "import os\n",
        "os.getcwd() #カレントディレクトリを取得します"
      ],
      "metadata": {
        "id": "Egxw7YC47Nsc",
        "outputId": "c1cc525f-51fa-4be4-9329-d12940534048",
        "colab": {
          "base_uri": "https://localhost:8080/",
          "height": 36
        }
      },
      "execution_count": 1,
      "outputs": [
        {
          "output_type": "execute_result",
          "data": {
            "text/plain": [
              "'/content'"
            ],
            "application/vnd.google.colaboratory.intrinsic+json": {
              "type": "string"
            }
          },
          "metadata": {},
          "execution_count": 1
        }
      ]
    },
    {
      "cell_type": "code",
      "source": [
        "#環境変数を取得します\n",
        "os.environ"
      ],
      "metadata": {
        "id": "8vIZRR-mELi0"
      },
      "execution_count": null,
      "outputs": []
    },
    {
      "cell_type": "code",
      "source": [
        "#現在の作業ディレクトリを移動する\n",
        "os.chdir(\"/server/accesslogs\")"
      ],
      "metadata": {
        "id": "o9wMXgYP7teZ"
      },
      "execution_count": null,
      "outputs": []
    },
    {
      "cell_type": "code",
      "source": [
        "#システムシェルでコマンド mkdir を実行します\n",
        "os.system(\"mkdir today\")"
      ],
      "metadata": {
        "id": "s6koXSnC7zyE"
      },
      "execution_count": null,
      "outputs": []
    },
    {
      "cell_type": "code",
      "source": [
        "#実行環境のプロセスIDを取得する\n",
        "os.getpid()"
      ],
      "metadata": {
        "id": "jQCfTkI6lpU5"
      },
      "execution_count": null,
      "outputs": []
    },
    {
      "cell_type": "code",
      "source": [
        "#osを識別する情報を取得\n",
        "os.uname()"
      ],
      "metadata": {
        "id": "IahS54P6l2Cl"
      },
      "execution_count": null,
      "outputs": []
    },
    {
      "cell_type": "code",
      "source": [
        "#ディレクトリを作成\n",
        "os.mkdir()"
      ],
      "metadata": {
        "id": "qf8Z-NHbmEp_"
      },
      "execution_count": null,
      "outputs": []
    },
    {
      "cell_type": "code",
      "source": [
        "#再帰的に中間のディレクトリも含めて、ディレクトリを作成\n",
        "os.makedirs()"
      ],
      "metadata": {
        "id": "oMmOsdmZmqOO"
      },
      "execution_count": null,
      "outputs": []
    },
    {
      "cell_type": "code",
      "source": [
        "#ファイルの削除\n",
        "os.remove()"
      ],
      "metadata": {
        "id": "Uz5I_-1Pnwvw"
      },
      "execution_count": null,
      "outputs": []
    },
    {
      "cell_type": "code",
      "source": [
        "#ファイルやディレクトリの名前を変更する\n",
        "os.rename()\n",
        "os.rename(\"変更前のファイル名\", \"変更後のファイル名\")"
      ],
      "metadata": {
        "id": "TKRct5O6n9tQ"
      },
      "execution_count": null,
      "outputs": []
    }
  ]
}