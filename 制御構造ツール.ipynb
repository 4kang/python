{
  "nbformat": 4,
  "nbformat_minor": 0,
  "metadata": {
    "colab": {
      "provenance": [],
      "authorship_tag": "ABX9TyN5rXLmb6enqk0Fcz9n83bF",
      "include_colab_link": true
    },
    "kernelspec": {
      "name": "python3",
      "display_name": "Python 3"
    },
    "language_info": {
      "name": "python"
    }
  },
  "cells": [
    {
      "cell_type": "markdown",
      "metadata": {
        "id": "view-in-github",
        "colab_type": "text"
      },
      "source": [
        "<a href=\"https://colab.research.google.com/github/4kang/python/blob/main/%E5%88%B6%E5%BE%A1%E6%A7%8B%E9%80%A0%E3%83%84%E3%83%BC%E3%83%AB.ipynb\" target=\"_parent\"><img src=\"https://colab.research.google.com/assets/colab-badge.svg\" alt=\"Open In Colab\"/></a>"
      ]
    },
    {
      "cell_type": "markdown",
      "source": [
        "#if文"
      ],
      "metadata": {
        "id": "76OvRuywKmHz"
      }
    },
    {
      "cell_type": "code",
      "source": [
        "x = int(input(\"入力してください：\"))\n",
        "\n",
        "if x < 0:\n",
        "  x = 0\n",
        "  print(\"0より大きい\")\n",
        "elif x == 0:\n",
        "  print(\"ゼロ\")\n",
        "elif x == 1:\n",
        "  print(\"いち\")\n",
        "else:\n",
        "  print(\"他\")"
      ],
      "metadata": {
        "colab": {
          "base_uri": "https://localhost:8080/"
        },
        "id": "yAykiLiuKnVt",
        "outputId": "825ce221-7531-4e31-980b-f6e95043e2e7"
      },
      "execution_count": 5,
      "outputs": [
        {
          "output_type": "stream",
          "name": "stdout",
          "text": [
            "入力してください：-1\n",
            "0より大きい\n"
          ]
        }
      ]
    },
    {
      "cell_type": "markdown",
      "source": [
        "#for文"
      ],
      "metadata": {
        "id": "a2Fbp5eLMmgb"
      }
    },
    {
      "cell_type": "code",
      "source": [
        "list = [\"cat\", \"window\", \"defenestrate\"]\n",
        "\n",
        "for w in list:\n",
        "  print(w, len(w))"
      ],
      "metadata": {
        "colab": {
          "base_uri": "https://localhost:8080/"
        },
        "id": "YnbSiCp2Mx9S",
        "outputId": "41ae27ec-ab24-4e9e-d060-968df15860f5"
      },
      "execution_count": 6,
      "outputs": [
        {
          "output_type": "stream",
          "name": "stdout",
          "text": [
            "cat 3\n",
            "window 6\n",
            "defenestrate 12\n"
          ]
        }
      ]
    },
    {
      "cell_type": "code",
      "source": [
        "# サンプルコレクションを作成する\n",
        "users = {\"イオ\": \"active\", \"エレノア\": \"inactive\",\"コレイ\":\"active\"}\n",
        "\n",
        "# 戦略: コピーを反復処理する\n",
        "for user, status in users.copy().items():\n",
        "  if status == \"inactive\":\n",
        "    del users[user]\n",
        "\n",
        "# 戦略: 新しいコレクションを作成する\n",
        "active_users = {}\n",
        "for user, status in users.items():\n",
        "  if status == \"active\":\n",
        "    active_users[user] = status"
      ],
      "metadata": {
        "id": "w1XTM0GkL7Sr"
      },
      "execution_count": 9,
      "outputs": []
    },
    {
      "cell_type": "markdown",
      "source": [
        "#range()関数"
      ],
      "metadata": {
        "id": "2PObyxW9dazF"
      }
    },
    {
      "cell_type": "code",
      "source": [
        "for i in range(5):\n",
        "  print(i)"
      ],
      "metadata": {
        "colab": {
          "base_uri": "https://localhost:8080/"
        },
        "id": "KI4rxSwXddQY",
        "outputId": "45f5770b-8280-4d8a-eb29-3ef877809a75"
      },
      "execution_count": 7,
      "outputs": [
        {
          "output_type": "stream",
          "name": "stdout",
          "text": [
            "0\n",
            "1\n",
            "2\n",
            "3\n",
            "4\n"
          ]
        }
      ]
    },
    {
      "cell_type": "markdown",
      "source": [
        "#break"
      ],
      "metadata": {
        "id": "IAKTP21VfQyq"
      }
    },
    {
      "cell_type": "code",
      "source": [
        "for n in range(2, 10): #n...2～9\n",
        "  for x in range(2, n):\n",
        "    if n % x == 0: # xで割ったときの余りが 0 かどうかを確認\n",
        "      print(n, \"等しい\", x, \"*\", n//x)\n",
        "      break\n",
        "  else:\n",
        "    # 因子が見つからずにループが失敗した場合\n",
        "    print(n, \"は素数です\")"
      ],
      "metadata": {
        "colab": {
          "base_uri": "https://localhost:8080/"
        },
        "id": "I6i0RYsofSpV",
        "outputId": "ba7eab89-640c-4ec0-b906-6bac4b58526e"
      },
      "execution_count": 10,
      "outputs": [
        {
          "output_type": "stream",
          "name": "stdout",
          "text": [
            "2 は素数です\n",
            "3 は素数です\n",
            "4 等しい 2 * 2\n",
            "5 は素数です\n",
            "6 等しい 2 * 3\n",
            "7 は素数です\n",
            "8 等しい 2 * 4\n",
            "9 等しい 3 * 3\n"
          ]
        }
      ]
    }
  ]
}