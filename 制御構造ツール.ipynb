{
  "nbformat": 4,
  "nbformat_minor": 0,
  "metadata": {
    "colab": {
      "provenance": [],
      "authorship_tag": "ABX9TyM0eFIH0zVDmg4Gkn84KN7H",
      "include_colab_link": true
    },
    "kernelspec": {
      "name": "python3",
      "display_name": "Python 3"
    },
    "language_info": {
      "name": "python"
    }
  },
  "cells": [
    {
      "cell_type": "markdown",
      "metadata": {
        "id": "view-in-github",
        "colab_type": "text"
      },
      "source": [
        "<a href=\"https://colab.research.google.com/github/4kang/python/blob/main/%E5%88%B6%E5%BE%A1%E6%A7%8B%E9%80%A0%E3%83%84%E3%83%BC%E3%83%AB.ipynb\" target=\"_parent\"><img src=\"https://colab.research.google.com/assets/colab-badge.svg\" alt=\"Open In Colab\"/></a>"
      ]
    },
    {
      "cell_type": "markdown",
      "source": [
        "#if文"
      ],
      "metadata": {
        "id": "76OvRuywKmHz"
      }
    },
    {
      "cell_type": "code",
      "source": [
        "x = int(input(\"入力してください：\"))\n",
        "\n",
        "if x < 0: #コロンで閉める\n",
        "  #条件内のブロックはインデントさせる\n",
        "  x = 0\n",
        "  print(\"0より大きい\")\n",
        "elif x == 0: #elifは複数記述ができる。\n",
        "  print(\"ゼロ\")\n",
        "elif x == 1:\n",
        "  print(\"いち\")\n",
        "else:\n",
        "  print(\"他\")"
      ],
      "metadata": {
        "colab": {
          "base_uri": "https://localhost:8080/"
        },
        "id": "yAykiLiuKnVt",
        "outputId": "7244ad83-33a4-4633-c25a-c865b29f2e0f"
      },
      "execution_count": null,
      "outputs": [
        {
          "output_type": "stream",
          "name": "stdout",
          "text": [
            "入力してください：０\n",
            "ゼロ\n"
          ]
        }
      ]
    },
    {
      "cell_type": "markdown",
      "source": [
        "pythonにはswitch文はない。"
      ],
      "metadata": {
        "id": "sbN5fJkppkP7"
      }
    },
    {
      "cell_type": "markdown",
      "source": [
        "#for文"
      ],
      "metadata": {
        "id": "a2Fbp5eLMmgb"
      }
    },
    {
      "cell_type": "code",
      "source": [
        "list = [\"cat\", \"window\", \"defenestrate\"]\n",
        "\n",
        "'''シーケンス(リストや文字列)の\n",
        "アイテムとインデックス順に処理する'''\n",
        "for w in list:\n",
        "  print(w, len(w)) #ボディ部分はインデントさせる\n"
      ],
      "metadata": {
        "colab": {
          "base_uri": "https://localhost:8080/"
        },
        "id": "YnbSiCp2Mx9S",
        "outputId": "8dc738e4-04d8-489a-f3e1-57749b43442a"
      },
      "execution_count": null,
      "outputs": [
        {
          "output_type": "stream",
          "name": "stdout",
          "text": [
            "cat 3\n",
            "window 6\n",
            "defenestrate 12\n"
          ]
        }
      ]
    },
    {
      "cell_type": "code",
      "source": [
        "# サンプルコレクションを作成する\n",
        "users = {\"イオ\": \"active\", \"エレノア\": \"inactive\",\"コレイ\":\"active\"}\n",
        "\n",
        "# 戦略: コピーを反復処理する\n",
        "for user, status in users.copy().items():\n",
        "  if status == \"inactive\":\n",
        "    del users[user]\n",
        "\n",
        "# 戦略: 新しいコレクションを作成する\n",
        "active_users = {}\n",
        "for user, status in users.items():\n",
        "  if status == \"active\":\n",
        "    active_users[user] = status"
      ],
      "metadata": {
        "id": "w1XTM0GkL7Sr"
      },
      "execution_count": null,
      "outputs": []
    },
    {
      "cell_type": "markdown",
      "source": [
        "#range()関数"
      ],
      "metadata": {
        "id": "2PObyxW9dazF"
      }
    },
    {
      "cell_type": "code",
      "source": [
        "range(10)\n",
        "#この様なオブジェクトはイテラブル(反復可能体)という"
      ],
      "metadata": {
        "colab": {
          "base_uri": "https://localhost:8080/"
        },
        "id": "HXHBBJbVWq1-",
        "outputId": "06b8effd-08c8-4f5f-eb79-32ee8efbd237"
      },
      "execution_count": 5,
      "outputs": [
        {
          "output_type": "execute_result",
          "data": {
            "text/plain": [
              "range(0, 10)"
            ]
          },
          "metadata": {},
          "execution_count": 5
        }
      ]
    },
    {
      "cell_type": "code",
      "source": [
        "#数値にあたって反復を行う\n",
        "for i in range(5): #0～4の間処理を繰り返す\n",
        "#forのように、反復可能体(range())をターゲットとする構造や関数を反復子(イテレーター)という\n",
        "  print(i)"
      ],
      "metadata": {
        "colab": {
          "base_uri": "https://localhost:8080/"
        },
        "id": "KI4rxSwXddQY",
        "outputId": "e3a7d623-e77d-434b-c505-232a7dd25bec"
      },
      "execution_count": 2,
      "outputs": [
        {
          "output_type": "stream",
          "name": "stdout",
          "text": [
            "0\n",
            "1\n",
            "2\n",
            "3\n",
            "4\n"
          ]
        }
      ]
    },
    {
      "cell_type": "code",
      "source": [
        "#list()を使うと、反復可能体からリストを作成できる\n",
        "list(range(5, 10))\n",
        "\n",
        "#list()も反復子である。"
      ],
      "metadata": {
        "colab": {
          "base_uri": "https://localhost:8080/"
        },
        "id": "g0Dcior8TIjL",
        "outputId": "97eac8e3-00fc-4d5a-eb49-445d329dc20d"
      },
      "execution_count": 1,
      "outputs": [
        {
          "output_type": "execute_result",
          "data": {
            "text/plain": [
              "[5, 6, 7, 8, 9]"
            ]
          },
          "metadata": {},
          "execution_count": 1
        }
      ]
    },
    {
      "cell_type": "code",
      "source": [
        "list(range(0, 10, 3))"
      ],
      "metadata": {
        "colab": {
          "base_uri": "https://localhost:8080/"
        },
        "id": "Ngbg4LK3UtnL",
        "outputId": "bc13a0fa-d70d-410f-d0e1-18bf7977d07d"
      },
      "execution_count": 3,
      "outputs": [
        {
          "output_type": "execute_result",
          "data": {
            "text/plain": [
              "[0, 3, 6, 9]"
            ]
          },
          "metadata": {},
          "execution_count": 3
        }
      ]
    },
    {
      "cell_type": "code",
      "source": [
        "test = list(range(5))\n",
        "test"
      ],
      "metadata": {
        "id": "q3lFprL-oy2N",
        "outputId": "081d1762-1f25-4b22-9989-4e16a61232be",
        "colab": {
          "base_uri": "https://localhost:8080/"
        }
      },
      "execution_count": 14,
      "outputs": [
        {
          "output_type": "execute_result",
          "data": {
            "text/plain": [
              "[0, 1, 2, 3, 4]"
            ]
          },
          "metadata": {},
          "execution_count": 14
        }
      ]
    },
    {
      "cell_type": "code",
      "source": [
        "list(range(-10, -100, -30))"
      ],
      "metadata": {
        "colab": {
          "base_uri": "https://localhost:8080/"
        },
        "id": "h_95mpQ6UzOd",
        "outputId": "996837f0-ec02-4e22-af0a-2e960eff2f57"
      },
      "execution_count": 4,
      "outputs": [
        {
          "output_type": "execute_result",
          "data": {
            "text/plain": [
              "[-10, -40, -70]"
            ]
          },
          "metadata": {},
          "execution_count": 4
        }
      ]
    },
    {
      "cell_type": "code",
      "source": [
        "#イテラブルを受け取る関数の例、sum()\n",
        "sum(range(4)) #0 + 1 + 2 + 3"
      ],
      "metadata": {
        "colab": {
          "base_uri": "https://localhost:8080/"
        },
        "id": "FFnR2OJTXL05",
        "outputId": "c3bcf63e-8e4b-4b6b-c271-ba7326ce6dd1"
      },
      "execution_count": 6,
      "outputs": [
        {
          "output_type": "execute_result",
          "data": {
            "text/plain": [
              "6"
            ]
          },
          "metadata": {},
          "execution_count": 6
        }
      ]
    },
    {
      "cell_type": "code",
      "source": [
        "sum(range(10))"
      ],
      "metadata": {
        "colab": {
          "base_uri": "https://localhost:8080/"
        },
        "id": "LyykmbESXZQI",
        "outputId": "eb6b496c-ccd4-432c-c252-21f8360e9840"
      },
      "execution_count": 7,
      "outputs": [
        {
          "output_type": "execute_result",
          "data": {
            "text/plain": [
              "45"
            ]
          },
          "metadata": {},
          "execution_count": 7
        }
      ]
    },
    {
      "cell_type": "markdown",
      "source": [
        "len()関数との組み合わせ"
      ],
      "metadata": {
        "id": "NfZnYsx51_2G"
      }
    },
    {
      "cell_type": "code",
      "source": [
        "#aのリストを作成\n",
        "a = [\"メアリー\", \"ありさ\", \"リリィ\",\"キアナ\",\"メイ\"]\n",
        "\n",
        "#aリストのインデックスを繰り返し処理\n",
        "for i in range(len(a)):\n",
        "  print(i, a[i])"
      ],
      "metadata": {
        "id": "0VIkCi6j0Vbu",
        "outputId": "52343707-2267-4ee1-aecd-bdc34e592dea",
        "colab": {
          "base_uri": "https://localhost:8080/"
        }
      },
      "execution_count": null,
      "outputs": [
        {
          "output_type": "stream",
          "name": "stdout",
          "text": [
            "0 メアリー\n",
            "1 ありさ\n",
            "2 リリィ\n",
            "3 キアナ\n",
            "4 メイ\n"
          ]
        }
      ]
    },
    {
      "cell_type": "markdown",
      "source": [
        "#break"
      ],
      "metadata": {
        "id": "IAKTP21VfQyq"
      }
    },
    {
      "cell_type": "code",
      "source": [
        "for n in range(2, 10): #n...2～9\n",
        "  for x in range(2, n):\n",
        "    if n % x == 0: # xで割ったときの余りが 0 かどうかを確認\n",
        "      print(n, \"等しい\", x, \"*\", n//x)\n",
        "      break\n",
        "      #ここで終了し、また繰り返しが行われる\n",
        "  else:\n",
        "    # ループ内でbreakが実装されなかった場合に起きる\n",
        "    print(n, \"は素数です\")"
      ],
      "metadata": {
        "colab": {
          "base_uri": "https://localhost:8080/"
        },
        "id": "I6i0RYsofSpV",
        "outputId": "ba7eab89-640c-4ec0-b906-6bac4b58526e"
      },
      "execution_count": null,
      "outputs": [
        {
          "output_type": "stream",
          "name": "stdout",
          "text": [
            "2 は素数です\n",
            "3 は素数です\n",
            "4 等しい 2 * 2\n",
            "5 は素数です\n",
            "6 等しい 2 * 3\n",
            "7 は素数です\n",
            "8 等しい 2 * 4\n",
            "9 等しい 3 * 3\n"
          ]
        }
      ]
    },
    {
      "cell_type": "markdown",
      "source": [
        "#continue"
      ],
      "metadata": {
        "id": "tszuCvmi7kCF"
      }
    },
    {
      "cell_type": "code",
      "source": [
        "for num in range(2, 10):\n",
        "  if num % 2 == 0: #2,4,6,8 = True\n",
        "    print(\"Found an even number\", num)\n",
        "    continue #↑の処理をスキップして↓の処理が行われる(elseは不要)\n",
        "  print(\"Found an odd number\", num)"
      ],
      "metadata": {
        "id": "tJvpQYaX7z-n",
        "outputId": "0296d479-e53e-4f42-c8c0-84cde3cbf008",
        "colab": {
          "base_uri": "https://localhost:8080/"
        }
      },
      "execution_count": null,
      "outputs": [
        {
          "output_type": "stream",
          "name": "stdout",
          "text": [
            "Found an even number 2\n",
            "Found an odd number 3\n",
            "Found an even number 4\n",
            "Found an odd number 5\n",
            "Found an even number 6\n",
            "Found an odd number 7\n",
            "Found an even number 8\n",
            "Found an odd number 9\n"
          ]
        }
      ]
    },
    {
      "cell_type": "markdown",
      "source": [
        "#pass"
      ],
      "metadata": {
        "id": "O0Cemg3OZNjO"
      }
    },
    {
      "cell_type": "code",
      "source": [
        "while True:\n",
        "  #なにもしない\n",
        "  pass"
      ],
      "metadata": {
        "id": "591grbOJYcmV"
      },
      "execution_count": null,
      "outputs": []
    },
    {
      "cell_type": "markdown",
      "source": [
        "#match文"
      ],
      "metadata": {
        "id": "drkZa_I9dBv4"
      }
    },
    {
      "cell_type": "code",
      "source": [
        "#一つの式を指定する(def関数)\n",
        "def error(status):\n",
        "  match status: #その値(status)を次に続く\n",
        "    case 400: #case 変数…として表示\n",
        "      #caseブロックに指定されたパターンを比較\n",
        "      return \"リクエストなし\"\n",
        "    case 404:\n",
        "      return \"何もない\"\n",
        "    case 418:\n",
        "      return \"I'm a teapot\"\n",
        "    case _: #ワイルドカード\n",
        "      return \"Something's wrong with the internet\""
      ],
      "metadata": {
        "id": "Hghq7_hldBG1"
      },
      "execution_count": 10,
      "outputs": []
    },
    {
      "cell_type": "code",
      "source": [
        "def error(status):\n",
        "  match status:\n",
        "    case 410 | 403 | 404:\n",
        "      return \"Not allowed\""
      ],
      "metadata": {
        "id": "i9Y7OkUQgTwB"
      },
      "execution_count": null,
      "outputs": []
    },
    {
      "cell_type": "markdown",
      "source": [
        "#関数を定義"
      ],
      "metadata": {
        "id": "ejnuOmZFz8YB"
      }
    },
    {
      "cell_type": "code",
      "source": [
        "#フィボナッチ数列の関数版\n",
        "def fib(n):\n",
        "  '''n までのフィボナッチ数列を出力します。'''\n",
        "  a, b = 0, 1\n",
        "  while a < n:\n",
        "    print(a, end = \" \")\n",
        "    a, b = b, a+b\n",
        "  print()\n",
        "\n",
        "# 次に、定義したばかりの関数を呼び出します。\n",
        "fib(1000)"
      ],
      "metadata": {
        "colab": {
          "base_uri": "https://localhost:8080/"
        },
        "id": "ooWJqBTNhDK6",
        "outputId": "7467af37-d347-40f5-ecdd-a45375af042d"
      },
      "execution_count": 12,
      "outputs": [
        {
          "output_type": "stream",
          "name": "stdout",
          "text": [
            "0 1 1 2 3 5 8 13 21 34 55 89 144 233 377 610 987 \n"
          ]
        }
      ]
    },
    {
      "cell_type": "code",
      "source": [
        "fib #関数名\n",
        "f = fib\n",
        "f(100)"
      ],
      "metadata": {
        "id": "PBvfJdGWs8AE",
        "outputId": "e31580a0-adc8-4828-9da1-9dc121482a69",
        "colab": {
          "base_uri": "https://localhost:8080/"
        }
      },
      "execution_count": 15,
      "outputs": [
        {
          "output_type": "stream",
          "name": "stdout",
          "text": [
            "0 1 1 2 3 5 8 13 21 34 55 89 \n"
          ]
        }
      ]
    },
    {
      "cell_type": "code",
      "source": [
        "fib(0)\n",
        "print(fib(0))"
      ],
      "metadata": {
        "id": "iEC3gP7m8ijd",
        "outputId": "f92930a2-7284-46e5-f45d-cc360766382b",
        "colab": {
          "base_uri": "https://localhost:8080/"
        }
      },
      "execution_count": 16,
      "outputs": [
        {
          "output_type": "stream",
          "name": "stdout",
          "text": [
            "\n",
            "\n",
            "None\n"
          ]
        }
      ]
    },
    {
      "cell_type": "code",
      "source": [
        "def fib2(n):\n",
        "  a,b = 0,1\n",
        "  result = []\n",
        "  while a < n:\n",
        "    result.append(a)\n",
        "    a,b = b, a+b\n",
        "  return result\n",
        "\n",
        "f100 = fib2(100)\n",
        "f100"
      ],
      "metadata": {
        "id": "HQyXb4TL-fGp",
        "outputId": "a10671ec-8c17-4e1c-b863-99cb856dfc6b",
        "colab": {
          "base_uri": "https://localhost:8080/"
        }
      },
      "execution_count": 17,
      "outputs": [
        {
          "output_type": "execute_result",
          "data": {
            "text/plain": [
              "[0, 1, 1, 2, 3, 5, 8, 13, 21, 34, 55, 89]"
            ]
          },
          "metadata": {},
          "execution_count": 17
        }
      ]
    }
  ]
}