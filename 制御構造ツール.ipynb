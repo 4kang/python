{
  "nbformat": 4,
  "nbformat_minor": 0,
  "metadata": {
    "colab": {
      "provenance": [],
      "authorship_tag": "ABX9TyOU7OUU2bWhwYGqI1mqMfq/",
      "include_colab_link": true
    },
    "kernelspec": {
      "name": "python3",
      "display_name": "Python 3"
    },
    "language_info": {
      "name": "python"
    }
  },
  "cells": [
    {
      "cell_type": "markdown",
      "metadata": {
        "id": "view-in-github",
        "colab_type": "text"
      },
      "source": [
        "<a href=\"https://colab.research.google.com/github/4kang/python/blob/main/%E5%88%B6%E5%BE%A1%E6%A7%8B%E9%80%A0%E3%83%84%E3%83%BC%E3%83%AB.ipynb\" target=\"_parent\"><img src=\"https://colab.research.google.com/assets/colab-badge.svg\" alt=\"Open In Colab\"/></a>"
      ]
    },
    {
      "cell_type": "markdown",
      "source": [
        "#if文"
      ],
      "metadata": {
        "id": "76OvRuywKmHz"
      }
    },
    {
      "cell_type": "code",
      "source": [
        "x = int(input(\"入力してください：\"))\n",
        "\n",
        "if x < 0: #コロンで閉める\n",
        "  #条件内のブロックはインデントさせる\n",
        "  x = 0\n",
        "  print(\"0より大きい\")\n",
        "elif x == 0: #elifは複数記述ができる。\n",
        "  print(\"ゼロ\")\n",
        "elif x == 1:\n",
        "  print(\"いち\")\n",
        "else:\n",
        "  print(\"他\")"
      ],
      "metadata": {
        "colab": {
          "base_uri": "https://localhost:8080/"
        },
        "id": "yAykiLiuKnVt",
        "outputId": "7244ad83-33a4-4633-c25a-c865b29f2e0f"
      },
      "execution_count": 1,
      "outputs": [
        {
          "output_type": "stream",
          "name": "stdout",
          "text": [
            "入力してください：０\n",
            "ゼロ\n"
          ]
        }
      ]
    },
    {
      "cell_type": "markdown",
      "source": [
        "pythonにはswitch文はない。"
      ],
      "metadata": {
        "id": "sbN5fJkppkP7"
      }
    },
    {
      "cell_type": "markdown",
      "source": [
        "#for文"
      ],
      "metadata": {
        "id": "a2Fbp5eLMmgb"
      }
    },
    {
      "cell_type": "code",
      "source": [
        "list = [\"cat\", \"window\", \"defenestrate\"]\n",
        "\n",
        "'''シーケンス(リストや文字列)の\n",
        "アイテムとインデックス順に処理する'''\n",
        "for w in list:\n",
        "  print(w, len(w)) #ボディ部分はインデントさせる\n"
      ],
      "metadata": {
        "colab": {
          "base_uri": "https://localhost:8080/"
        },
        "id": "YnbSiCp2Mx9S",
        "outputId": "8dc738e4-04d8-489a-f3e1-57749b43442a"
      },
      "execution_count": 3,
      "outputs": [
        {
          "output_type": "stream",
          "name": "stdout",
          "text": [
            "cat 3\n",
            "window 6\n",
            "defenestrate 12\n"
          ]
        }
      ]
    },
    {
      "cell_type": "code",
      "source": [
        "# サンプルコレクションを作成する\n",
        "users = {\"イオ\": \"active\", \"エレノア\": \"inactive\",\"コレイ\":\"active\"}\n",
        "\n",
        "# 戦略: コピーを反復処理する\n",
        "for user, status in users.copy().items():\n",
        "  if status == \"inactive\":\n",
        "    del users[user]\n",
        "\n",
        "# 戦略: 新しいコレクションを作成する\n",
        "active_users = {}\n",
        "for user, status in users.items():\n",
        "  if status == \"active\":\n",
        "    active_users[user] = status"
      ],
      "metadata": {
        "id": "w1XTM0GkL7Sr"
      },
      "execution_count": null,
      "outputs": []
    },
    {
      "cell_type": "markdown",
      "source": [
        "#range()関数"
      ],
      "metadata": {
        "id": "2PObyxW9dazF"
      }
    },
    {
      "cell_type": "code",
      "source": [
        "#数値にあたって反復を行う\n",
        "for i in range(5): #0～4の間処理を繰り返す\n",
        "  print(i)"
      ],
      "metadata": {
        "colab": {
          "base_uri": "https://localhost:8080/"
        },
        "id": "KI4rxSwXddQY",
        "outputId": "45f5770b-8280-4d8a-eb29-3ef877809a75"
      },
      "execution_count": null,
      "outputs": [
        {
          "output_type": "stream",
          "name": "stdout",
          "text": [
            "0\n",
            "1\n",
            "2\n",
            "3\n",
            "4\n"
          ]
        }
      ]
    },
    {
      "cell_type": "markdown",
      "source": [
        "len()関数との組み合わせ"
      ],
      "metadata": {
        "id": "NfZnYsx51_2G"
      }
    },
    {
      "cell_type": "code",
      "source": [
        "#aのリストを作成\n",
        "a = [\"メアリー\", \"ありさ\", \"リリィ\",\"キアナ\",\"メイ\"]\n",
        "\n",
        "#aリストのインデックスを反復\n",
        "for i in range(len(a)):\n",
        "  print(i, a[i])"
      ],
      "metadata": {
        "id": "0VIkCi6j0Vbu",
        "outputId": "52343707-2267-4ee1-aecd-bdc34e592dea",
        "colab": {
          "base_uri": "https://localhost:8080/"
        }
      },
      "execution_count": 5,
      "outputs": [
        {
          "output_type": "stream",
          "name": "stdout",
          "text": [
            "0 メアリー\n",
            "1 ありさ\n",
            "2 リリィ\n",
            "3 キアナ\n",
            "4 メイ\n"
          ]
        }
      ]
    },
    {
      "cell_type": "markdown",
      "source": [
        "#break"
      ],
      "metadata": {
        "id": "IAKTP21VfQyq"
      }
    },
    {
      "cell_type": "code",
      "source": [
        "for n in range(2, 10): #n...2～9\n",
        "  for x in range(2, n):\n",
        "    if n % x == 0: # xで割ったときの余りが 0 かどうかを確認\n",
        "      print(n, \"等しい\", x, \"*\", n//x)\n",
        "      break\n",
        "  else:\n",
        "    # 因子が見つからずにループが失敗した場合\n",
        "    print(n, \"は素数です\")"
      ],
      "metadata": {
        "colab": {
          "base_uri": "https://localhost:8080/"
        },
        "id": "I6i0RYsofSpV",
        "outputId": "ba7eab89-640c-4ec0-b906-6bac4b58526e"
      },
      "execution_count": null,
      "outputs": [
        {
          "output_type": "stream",
          "name": "stdout",
          "text": [
            "2 は素数です\n",
            "3 は素数です\n",
            "4 等しい 2 * 2\n",
            "5 は素数です\n",
            "6 等しい 2 * 3\n",
            "7 は素数です\n",
            "8 等しい 2 * 4\n",
            "9 等しい 3 * 3\n"
          ]
        }
      ]
    },
    {
      "cell_type": "markdown",
      "source": [
        "#continue"
      ],
      "metadata": {
        "id": "tszuCvmi7kCF"
      }
    },
    {
      "cell_type": "code",
      "source": [
        "for num in range(2, 10):\n",
        "  if num % 2 == 0: #2,4,6,8 = True\n",
        "    print(\"Found an even number\", num)\n",
        "    continue\n",
        "  print(\"Found an odd number\", num)"
      ],
      "metadata": {
        "id": "tJvpQYaX7z-n",
        "outputId": "0296d479-e53e-4f42-c8c0-84cde3cbf008",
        "colab": {
          "base_uri": "https://localhost:8080/"
        }
      },
      "execution_count": 6,
      "outputs": [
        {
          "output_type": "stream",
          "name": "stdout",
          "text": [
            "Found an even number 2\n",
            "Found an odd number 3\n",
            "Found an even number 4\n",
            "Found an odd number 5\n",
            "Found an even number 6\n",
            "Found an odd number 7\n",
            "Found an even number 8\n",
            "Found an odd number 9\n"
          ]
        }
      ]
    }
  ]
}