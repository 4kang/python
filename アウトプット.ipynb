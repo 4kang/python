{
  "nbformat": 4,
  "nbformat_minor": 0,
  "metadata": {
    "colab": {
      "provenance": [],
      "gpuType": "T4",
      "authorship_tag": "ABX9TyMtHjMPfQPxHbfnwTKE39v7",
      "include_colab_link": true
    },
    "kernelspec": {
      "name": "python3",
      "display_name": "Python 3"
    },
    "language_info": {
      "name": "python"
    },
    "accelerator": "GPU"
  },
  "cells": [
    {
      "cell_type": "markdown",
      "metadata": {
        "id": "view-in-github",
        "colab_type": "text"
      },
      "source": [
        "<a href=\"https://colab.research.google.com/github/4kang/python/blob/main/%E3%82%A2%E3%82%A6%E3%83%88%E3%83%97%E3%83%83%E3%83%88.ipynb\" target=\"_parent\"><img src=\"https://colab.research.google.com/assets/colab-badge.svg\" alt=\"Open In Colab\"/></a>"
      ]
    },
    {
      "cell_type": "code",
      "source": [
        "name1,name2,name3,name4= 'kono', 'suzuki','tanaka','sato'\n",
        "selected_name = name1 or name2 or name3 or name4\n",
        "print(selected_name)\n",
        "#　正解: kono"
      ],
      "metadata": {
        "id": "gnUQgByUGrPg",
        "outputId": "6968bf10-4c03-4070-e299-a8affad27ff6",
        "colab": {
          "base_uri": "https://localhost:8080/"
        }
      },
      "execution_count": 1,
      "outputs": [
        {
          "output_type": "stream",
          "name": "stdout",
          "text": [
            "kono\n"
          ]
        }
      ]
    },
    {
      "cell_type": "code",
      "source": [
        "name1,name2,name3,name4= '', 'suzuki','tanaka','sato'\n",
        "selected_name = name1 or name2 or name3 or name4\n",
        "print(selected_name)\n",
        "#　正解: suzuki"
      ],
      "metadata": {
        "id": "-6szqacVGxMd",
        "outputId": "7de6e487-7a4b-4509-81e7-3677fddc4399",
        "colab": {
          "base_uri": "https://localhost:8080/"
        }
      },
      "execution_count": 2,
      "outputs": [
        {
          "output_type": "stream",
          "name": "stdout",
          "text": [
            "suzuki\n"
          ]
        }
      ]
    },
    {
      "cell_type": "code",
      "source": [
        "name1,name2,name3,name4= '', '','tanaka','sato'\n",
        "selected_name = name1 or name2 or name3 or name4\n",
        "print(selected_name)\n",
        "#　正解: suzuki"
      ],
      "metadata": {
        "id": "OmJFwZWgGzlF",
        "outputId": "2312cf36-4433-4789-d482-ad8a0ac15ad0",
        "colab": {
          "base_uri": "https://localhost:8080/"
        }
      },
      "execution_count": 3,
      "outputs": [
        {
          "output_type": "stream",
          "name": "stdout",
          "text": [
            "tanaka\n"
          ]
        }
      ]
    },
    {
      "cell_type": "code",
      "source": [
        "dic = [[\"nara\", 3],[\"kanagawa\",4],[\"toukyo\",1],[\"oosaka\",2]]\n",
        "print(dic)\n",
        "\n",
        "#x[1]でdicの第二要素を指定することで昇順させる\n",
        "sortDic = sorted(dic, key=lambda x: x[1])\n",
        "print(sortDic)"
      ],
      "metadata": {
        "id": "wXjzKAp_CQHX",
        "outputId": "6ad6c030-50cf-43c2-f968-e474f35a530a",
        "colab": {
          "base_uri": "https://localhost:8080/"
        }
      },
      "execution_count": 10,
      "outputs": [
        {
          "output_type": "stream",
          "name": "stdout",
          "text": [
            "[['nara', 3], ['kanagawa', 4], ['toukyo', 1], ['oosaka', 2]]\n",
            "[['toukyo', 1], ['oosaka', 2], ['nara', 3], ['kanagawa', 4]]\n"
          ]
        }
      ]
    },
    {
      "cell_type": "code",
      "source": [
        "dic = [[\"nara\", 1],[\"kanagawa\",2],[\"toukyo\",3],[\"oosaka\",4]]\n",
        "print(dic)\n",
        "dic.sort(key=lambda dic: dic[0])\n",
        "print(dic)"
      ],
      "metadata": {
        "id": "IxL7ABsPDHOf",
        "outputId": "6cb78d51-62c4-4959-e769-1974b8ff5147",
        "colab": {
          "base_uri": "https://localhost:8080/"
        }
      },
      "execution_count": 8,
      "outputs": [
        {
          "output_type": "stream",
          "name": "stdout",
          "text": [
            "[['nara', 1], ['kanagawa', 2], ['toukyo', 3], ['oosaka', 4]]\n",
            "[['kanagawa', 2], ['nara', 1], ['oosaka', 4], ['toukyo', 3]]\n"
          ]
        }
      ]
    },
    {
      "cell_type": "code",
      "source": [
        "n = [1, 2, 3, 4, 5]\n",
        "s = [\"A\", \"B\", \"C\", \"D\", \"E\"]\n",
        "\n",
        "m = (n, s)\n",
        "print(list(zip(*m)))"
      ],
      "metadata": {
        "id": "C8yA_T-P-9do",
        "outputId": "49b2763e-f550-4046-ac1a-6023e494bda5",
        "colab": {
          "base_uri": "https://localhost:8080/"
        }
      },
      "execution_count": 3,
      "outputs": [
        {
          "output_type": "stream",
          "name": "stdout",
          "text": [
            "[(1, 'A'), (2, 'B'), (3, 'C'), (4, 'D'), (5, 'E')]\n"
          ]
        }
      ]
    },
    {
      "cell_type": "code",
      "source": [
        "year = 2023 #変数yearを宣言\n",
        "event = \"Referendum\"\n",
        "f\"Results of the {year} {event}\""
      ],
      "metadata": {
        "id": "kiuurpX8Dx9o",
        "outputId": "0655388e-e355-40b2-adfe-77b585a6d03a",
        "colab": {
          "base_uri": "https://localhost:8080/",
          "height": 36
        }
      },
      "execution_count": null,
      "outputs": [
        {
          "output_type": "execute_result",
          "data": {
            "text/plain": [
              "'Results of the 2023 Referendum'"
            ],
            "application/vnd.google.colaboratory.intrinsic+json": {
              "type": "string"
            }
          },
          "metadata": {},
          "execution_count": 2
        }
      ]
    },
    {
      "cell_type": "code",
      "source": [
        "yes_votes = 42_572_654\n",
        "no_votes = 43_132_495\n",
        "percentage = yes_votes / (yes_votes + no_votes)\n",
        "\"{:-9} Yes votes  {:2.2%}\".format(yes_votes, percentage)"
      ],
      "metadata": {
        "id": "uCUtjQAcEcaf",
        "outputId": "83e21e6b-5063-4a8e-fb7a-3384e9546902",
        "colab": {
          "base_uri": "https://localhost:8080/",
          "height": 36
        }
      },
      "execution_count": null,
      "outputs": [
        {
          "output_type": "execute_result",
          "data": {
            "text/plain": [
              "' 42572654 Yes votes  49.67%'"
            ],
            "application/vnd.google.colaboratory.intrinsic+json": {
              "type": "string"
            }
          },
          "metadata": {},
          "execution_count": 3
        }
      ]
    },
    {
      "cell_type": "code",
      "source": [
        "i = 1\n",
        "i = 2\n",
        "\n",
        "def f(arg):\n",
        "    i = 3\n",
        "    print(arg)\n",
        "\n",
        "i = 4\n",
        "i = 5\n",
        "\n",
        "f(i)"
      ],
      "metadata": {
        "id": "oUWH80qVVlBi",
        "outputId": "afa9f5e6-52f6-4d61-bc46-2926bf1daf8e",
        "colab": {
          "base_uri": "https://localhost:8080/"
        }
      },
      "execution_count": null,
      "outputs": [
        {
          "output_type": "stream",
          "name": "stdout",
          "text": [
            "5\n"
          ]
        }
      ]
    },
    {
      "cell_type": "code",
      "source": [
        "words = [\"cat\", \"windows\", \"defenestrate\"]\n",
        "\n",
        "for w in words:\n",
        "  print(w, len(w))"
      ],
      "metadata": {
        "id": "G1fG6QPT4NyR",
        "outputId": "7fd9e696-6f17-45df-a750-488b65e8eff9",
        "colab": {
          "base_uri": "https://localhost:8080/"
        }
      },
      "execution_count": null,
      "outputs": [
        {
          "output_type": "stream",
          "name": "stdout",
          "text": [
            "cat 3\n",
            "windows 7\n",
            "defenestrate 12\n"
          ]
        }
      ]
    },
    {
      "cell_type": "code",
      "source": [
        "x = int(input(\"Please enter an integer: \"))\n",
        "\n",
        "if x < 0:\n",
        "  x = 0\n",
        "  print(\"Negative changed to zero\")\n",
        "elif x == 0:\n",
        "  print(\"Zero\")\n",
        "elif x == 1:\n",
        "  print(\"Single\")\n",
        "else:\n",
        "  print(\"More\")\n"
      ],
      "metadata": {
        "id": "IzD3qUB23QG4",
        "outputId": "0e29158f-d53e-4c8f-d13a-646ec158a09c",
        "colab": {
          "base_uri": "https://localhost:8080/"
        }
      },
      "execution_count": null,
      "outputs": [
        {
          "output_type": "stream",
          "name": "stdout",
          "text": [
            "Please enter an integer: 0\n",
            "Zero\n"
          ]
        }
      ]
    },
    {
      "cell_type": "code",
      "source": [
        "a, b = 0, 1\n",
        "while a < 10:\n",
        "  print(a, end = \",\")\n",
        "  a, b = b, a+b"
      ],
      "metadata": {
        "id": "Dzb0p27l2djR",
        "outputId": "c088e46d-7324-4c08-9d9f-35c31c540171",
        "colab": {
          "base_uri": "https://localhost:8080/"
        }
      },
      "execution_count": null,
      "outputs": [
        {
          "output_type": "stream",
          "name": "stdout",
          "text": [
            "0,1,1,2,3,5,8,"
          ]
        }
      ]
    },
    {
      "cell_type": "code",
      "source": [
        "#リストの入れ子\n",
        "a = [\"a\", \"b\", \"c\"]\n",
        "n = [1,2,3]\n",
        "x = [a, n]\n",
        "x"
      ],
      "metadata": {
        "id": "1lK71R9U19dh",
        "outputId": "99b7f9ae-7063-4dbf-acf5-5774aeeb7cab",
        "colab": {
          "base_uri": "https://localhost:8080/"
        }
      },
      "execution_count": null,
      "outputs": [
        {
          "output_type": "execute_result",
          "data": {
            "text/plain": [
              "[['a', 'b', 'c'], [1, 2, 3]]"
            ]
          },
          "metadata": {},
          "execution_count": 2
        }
      ]
    },
    {
      "cell_type": "code",
      "source": [
        "x[0]"
      ],
      "metadata": {
        "id": "rjoNsHmz2Okg",
        "outputId": "a53afd32-37bf-4445-b71d-f91789cdc00e",
        "colab": {
          "base_uri": "https://localhost:8080/"
        }
      },
      "execution_count": null,
      "outputs": [
        {
          "output_type": "execute_result",
          "data": {
            "text/plain": [
              "['a', 'b', 'c']"
            ]
          },
          "metadata": {},
          "execution_count": 3
        }
      ]
    },
    {
      "cell_type": "code",
      "source": [
        "x[1]"
      ],
      "metadata": {
        "id": "tNA7TGkx2Soy",
        "outputId": "432bc352-9070-4a69-fead-f685b9e88397",
        "colab": {
          "base_uri": "https://localhost:8080/"
        }
      },
      "execution_count": null,
      "outputs": [
        {
          "output_type": "execute_result",
          "data": {
            "text/plain": [
              "[1, 2, 3]"
            ]
          },
          "metadata": {},
          "execution_count": 4
        }
      ]
    },
    {
      "cell_type": "code",
      "source": [
        "x[1][0]"
      ],
      "metadata": {
        "id": "EqFEF3Cw2Xq-",
        "outputId": "d2e8b7a1-6b9a-4649-dc72-d013074b0ff6",
        "colab": {
          "base_uri": "https://localhost:8080/"
        }
      },
      "execution_count": null,
      "outputs": [
        {
          "output_type": "execute_result",
          "data": {
            "text/plain": [
              "1"
            ]
          },
          "metadata": {},
          "execution_count": 6
        }
      ]
    },
    {
      "cell_type": "code",
      "source": [
        "def http_error(status):\n",
        "    match status:\n",
        "        case 400:\n",
        "            return \"Bad request\"\n",
        "        case 404:\n",
        "            return \"Not found\"\n",
        "        case 418:\n",
        "            return \"I'm a teapot\"\n",
        "        case _:\n",
        "            return \"Something's wrong with the internet\""
      ],
      "metadata": {
        "id": "UHL-IDjpLN9p"
      },
      "execution_count": null,
      "outputs": []
    },
    {
      "cell_type": "code",
      "source": [
        "for n in range(2, 10):\n",
        "  for x in range(2, n):\n",
        "    if n % x == 0:\n",
        "      print(n, \"equals\", x, \"*\", n//x)\n",
        "      break\n",
        "  else:\n",
        "    print(n, \"is a prime number\")"
      ],
      "metadata": {
        "id": "9fL8NzMrO_Wx",
        "outputId": "81a5329b-d54d-44ed-8b86-4a1a87b9c481",
        "colab": {
          "base_uri": "https://localhost:8080/"
        }
      },
      "execution_count": null,
      "outputs": [
        {
          "output_type": "stream",
          "name": "stdout",
          "text": [
            "2 is a prime number\n",
            "3 is a prime number\n",
            "4 equals 2 * 2\n",
            "5 is a prime number\n",
            "6 equals 2 * 3\n",
            "7 is a prime number\n",
            "8 equals 2 * 4\n",
            "9 equals 3 * 3\n"
          ]
        }
      ]
    },
    {
      "cell_type": "code",
      "source": [
        "for n in range(2, 10):\n",
        "  for x in range(2, n):\n",
        "    if n % x == 0:\n",
        "      print(n, \"equals\", x, \"*\", n//x)\n",
        "  else:\n",
        "    print(n, \"is a prime number\")"
      ],
      "metadata": {
        "id": "2zQJ3NQwmINp",
        "outputId": "df729481-f639-4697-81b4-e3c233e8414d",
        "colab": {
          "base_uri": "https://localhost:8080/"
        }
      },
      "execution_count": null,
      "outputs": [
        {
          "output_type": "stream",
          "name": "stdout",
          "text": [
            "2 is a prime number\n",
            "3 is a prime number\n",
            "4 equals 2 * 2\n",
            "4 is a prime number\n",
            "5 is a prime number\n",
            "6 equals 2 * 3\n",
            "6 equals 3 * 2\n",
            "6 is a prime number\n",
            "7 is a prime number\n",
            "8 equals 2 * 4\n",
            "8 equals 4 * 2\n",
            "8 is a prime number\n",
            "9 equals 3 * 3\n",
            "9 is a prime number\n"
          ]
        }
      ]
    },
    {
      "cell_type": "code",
      "source": [
        "#enumerate関数は要素のインデックスと要素を同時に取り出せる\n",
        "for i, v in enumerate([\"tic\", \"tac\",\"toe\"]):\n",
        "  print(i, v)"
      ],
      "metadata": {
        "id": "ewe2KvW59Fhf",
        "outputId": "b1080a8a-5bda-46e0-d695-0feda0d8c567",
        "colab": {
          "base_uri": "https://localhost:8080/"
        }
      },
      "execution_count": null,
      "outputs": [
        {
          "output_type": "stream",
          "name": "stdout",
          "text": [
            "0 tic\n",
            "1 tac\n",
            "2 toe\n"
          ]
        }
      ]
    },
    {
      "cell_type": "code",
      "source": [
        "a = [\"Mary\", \"had\", \"a\", \"little\", \"lamb\"]\n",
        "len(a)"
      ],
      "metadata": {
        "id": "HR3ShJJA7mOg",
        "outputId": "3fdcef4c-3aca-4068-959b-b236676e171a",
        "colab": {
          "base_uri": "https://localhost:8080/"
        }
      },
      "execution_count": null,
      "outputs": [
        {
          "output_type": "execute_result",
          "data": {
            "text/plain": [
              "5"
            ]
          },
          "metadata": {},
          "execution_count": 9
        }
      ]
    },
    {
      "cell_type": "code",
      "source": [
        "for i in range(len(a)):\n",
        "  print(i, a[i])"
      ],
      "metadata": {
        "id": "zbe3mqwx8Iek",
        "outputId": "2164171b-0cd0-41f8-cd5c-ad89c7c286ea",
        "colab": {
          "base_uri": "https://localhost:8080/"
        }
      },
      "execution_count": null,
      "outputs": [
        {
          "output_type": "stream",
          "name": "stdout",
          "text": [
            "0 Mary\n",
            "1 Lili\n",
            "2 a\n",
            "3 lamb\n",
            "4 hada\n"
          ]
        }
      ]
    },
    {
      "cell_type": "code",
      "source": [
        "users = {\"Hans\": \"active\", \"Eleonore\": \"inactive\", \"啓太郎\": \"active\"}\n",
        "\n",
        "for user, status in users.copy().items():\n",
        "  if status == \"inactive\":\n",
        "    del users[user]\n",
        "    print(users)"
      ],
      "metadata": {
        "colab": {
          "base_uri": "https://localhost:8080/"
        },
        "id": "slafMOYUyvWj",
        "outputId": "e04d4414-2684-4e1a-97ad-00164e33d1a7"
      },
      "execution_count": null,
      "outputs": [
        {
          "output_type": "stream",
          "name": "stdout",
          "text": [
            "{'Hans': 'active', '啓太郎': 'active'}\n"
          ]
        }
      ]
    },
    {
      "cell_type": "code",
      "source": [
        "active_users = {}\n",
        "for user, status in users.items():\n",
        "  if status == \"active\":\n",
        "    active_users[user] = status\n",
        "    print(users)"
      ],
      "metadata": {
        "colab": {
          "base_uri": "https://localhost:8080/"
        },
        "id": "3W6E5slWzxIF",
        "outputId": "9e653a01-a692-4ed0-8364-961106c32401"
      },
      "execution_count": null,
      "outputs": [
        {
          "output_type": "stream",
          "name": "stdout",
          "text": [
            "{'Hans': 'active', '啓太郎': 'active'}\n",
            "{'Hans': 'active', '啓太郎': 'active'}\n"
          ]
        }
      ]
    },
    {
      "cell_type": "code",
      "source": [
        "a = set(\"abracadabra\")\n",
        "b = set(\"alacazam\")\n",
        "a"
      ],
      "metadata": {
        "id": "C56KoLlpbFWq",
        "outputId": "3d86040f-528b-4535-a474-0e702fabeaef",
        "colab": {
          "base_uri": "https://localhost:8080/"
        }
      },
      "execution_count": null,
      "outputs": [
        {
          "output_type": "execute_result",
          "data": {
            "text/plain": [
              "{'a', 'b', 'c', 'd', 'r'}"
            ]
          },
          "metadata": {},
          "execution_count": 4
        }
      ]
    },
    {
      "cell_type": "code",
      "source": [
        "a - b"
      ],
      "metadata": {
        "id": "yZi5fTNhbQVJ",
        "outputId": "f4c3ab44-cb93-492c-9710-0ca832d9c703",
        "colab": {
          "base_uri": "https://localhost:8080/"
        }
      },
      "execution_count": null,
      "outputs": [
        {
          "output_type": "execute_result",
          "data": {
            "text/plain": [
              "{'b', 'd', 'r'}"
            ]
          },
          "metadata": {},
          "execution_count": 5
        }
      ]
    },
    {
      "cell_type": "code",
      "source": [
        "a | b"
      ],
      "metadata": {
        "id": "B1pPqSdibdKH",
        "outputId": "4698a597-6c30-4a06-a34a-57c06e17d71b",
        "colab": {
          "base_uri": "https://localhost:8080/"
        }
      },
      "execution_count": null,
      "outputs": [
        {
          "output_type": "execute_result",
          "data": {
            "text/plain": [
              "{'a', 'b', 'c', 'd', 'l', 'm', 'r', 'z'}"
            ]
          },
          "metadata": {},
          "execution_count": 6
        }
      ]
    },
    {
      "cell_type": "code",
      "source": [
        "a & b"
      ],
      "metadata": {
        "id": "Hhz70pHEbgj3",
        "outputId": "2db5b50c-896f-4c75-a716-9f65fc90d69a",
        "colab": {
          "base_uri": "https://localhost:8080/"
        }
      },
      "execution_count": null,
      "outputs": [
        {
          "output_type": "execute_result",
          "data": {
            "text/plain": [
              "{'a', 'c'}"
            ]
          },
          "metadata": {},
          "execution_count": 7
        }
      ]
    },
    {
      "cell_type": "code",
      "source": [
        "a ^ b"
      ],
      "metadata": {
        "id": "oUVKcDXsbjPq",
        "outputId": "5ee4db8f-77df-44e1-a12d-770037608075",
        "colab": {
          "base_uri": "https://localhost:8080/"
        }
      },
      "execution_count": null,
      "outputs": [
        {
          "output_type": "execute_result",
          "data": {
            "text/plain": [
              "{'b', 'd', 'l', 'm', 'r', 'z'}"
            ]
          },
          "metadata": {},
          "execution_count": 8
        }
      ]
    },
    {
      "cell_type": "code",
      "source": [
        "#集合型で重複する値を1つにまとめるデータ型\n",
        "basket = {\"apple\", \"orange\", \"apple\", \"pear\", \"orange\", \"banana\"}\n",
        "print(basket)"
      ],
      "metadata": {
        "id": "6fteOmv9akkG",
        "outputId": "1f44c671-bb84-4003-c582-8d8cdec5c4eb",
        "colab": {
          "base_uri": "https://localhost:8080/"
        }
      },
      "execution_count": null,
      "outputs": [
        {
          "output_type": "stream",
          "name": "stdout",
          "text": [
            "{'apple', 'banana', 'orange', 'pear'}\n"
          ]
        }
      ]
    },
    {
      "cell_type": "code",
      "source": [
        "\"orange\" in basket"
      ],
      "metadata": {
        "id": "KjpUe93Fa8HW",
        "outputId": "849b3255-57ed-4d91-fb63-3cf025383797",
        "colab": {
          "base_uri": "https://localhost:8080/"
        }
      },
      "execution_count": null,
      "outputs": [
        {
          "output_type": "execute_result",
          "data": {
            "text/plain": [
              "True"
            ]
          },
          "metadata": {},
          "execution_count": 2
        }
      ]
    },
    {
      "cell_type": "code",
      "source": [
        "\"budou\" in basket"
      ],
      "metadata": {
        "id": "uKC60Z1Wa_Us",
        "outputId": "aae5fbad-fd56-42dd-fb04-bd35e673ccdc",
        "colab": {
          "base_uri": "https://localhost:8080/"
        }
      },
      "execution_count": null,
      "outputs": [
        {
          "output_type": "execute_result",
          "data": {
            "text/plain": [
              "False"
            ]
          },
          "metadata": {},
          "execution_count": 3
        }
      ]
    },
    {
      "cell_type": "code",
      "source": [
        "empty = () #空のタプル\n",
        "singleton = \"hello\", #値の後ろにコンマ必須\n",
        "\n",
        "len(empty)"
      ],
      "metadata": {
        "id": "FlqCRF5YK0d1",
        "outputId": "642e7431-0ca5-445b-e038-bbabf9316553",
        "colab": {
          "base_uri": "https://localhost:8080/"
        }
      },
      "execution_count": null,
      "outputs": [
        {
          "output_type": "execute_result",
          "data": {
            "text/plain": [
              "0"
            ]
          },
          "metadata": {},
          "execution_count": 1
        }
      ]
    },
    {
      "cell_type": "code",
      "source": [
        "len(singleton)"
      ],
      "metadata": {
        "id": "la_iCC64LDHR",
        "outputId": "96aef85a-1063-4d09-e2c3-342d6048f601",
        "colab": {
          "base_uri": "https://localhost:8080/"
        }
      },
      "execution_count": null,
      "outputs": [
        {
          "output_type": "execute_result",
          "data": {
            "text/plain": [
              "1"
            ]
          },
          "metadata": {},
          "execution_count": 2
        }
      ]
    },
    {
      "cell_type": "code",
      "source": [
        "singleton"
      ],
      "metadata": {
        "id": "Jsko8kVgLPJE",
        "outputId": "3775840e-50d7-4b66-c5dd-5be770bbb0b3",
        "colab": {
          "base_uri": "https://localhost:8080/"
        }
      },
      "execution_count": null,
      "outputs": [
        {
          "output_type": "execute_result",
          "data": {
            "text/plain": [
              "('hello',)"
            ]
          },
          "metadata": {},
          "execution_count": 3
        }
      ]
    },
    {
      "cell_type": "code",
      "source": [
        "t = 12345, 54321, \"hello!\"\n",
        "t[0]"
      ],
      "metadata": {
        "colab": {
          "base_uri": "https://localhost:8080/"
        },
        "id": "85P9F5y98jgu",
        "outputId": "4f657fdb-6f2a-437b-d773-e039730fd38c"
      },
      "execution_count": null,
      "outputs": [
        {
          "output_type": "execute_result",
          "data": {
            "text/plain": [
              "12345"
            ]
          },
          "metadata": {},
          "execution_count": 1
        }
      ]
    },
    {
      "cell_type": "code",
      "source": [
        "t"
      ],
      "metadata": {
        "colab": {
          "base_uri": "https://localhost:8080/"
        },
        "id": "joi-2pvz8p4I",
        "outputId": "becd3151-6c71-41a7-d5b9-caefef10a686"
      },
      "execution_count": null,
      "outputs": [
        {
          "output_type": "execute_result",
          "data": {
            "text/plain": [
              "(12345, 54321, 'hello!')"
            ]
          },
          "metadata": {},
          "execution_count": 2
        }
      ]
    },
    {
      "cell_type": "code",
      "source": [
        "x, y, z = t"
      ],
      "metadata": {
        "id": "f4tbvp92LVi1"
      },
      "execution_count": null,
      "outputs": []
    },
    {
      "cell_type": "code",
      "source": [
        "u = t, (1,2,3,4,5)\n",
        "u"
      ],
      "metadata": {
        "colab": {
          "base_uri": "https://localhost:8080/"
        },
        "id": "zIuwVCDc8uTb",
        "outputId": "0bd8fea9-30c9-43db-cfdc-157221cb1d92"
      },
      "execution_count": null,
      "outputs": [
        {
          "output_type": "execute_result",
          "data": {
            "text/plain": [
              "((12345, 54321, 'hello!'), (1, 2, 3, 4, 5))"
            ]
          },
          "metadata": {},
          "execution_count": 3
        }
      ]
    },
    {
      "cell_type": "code",
      "source": [
        "u[0]"
      ],
      "metadata": {
        "colab": {
          "base_uri": "https://localhost:8080/"
        },
        "id": "SHV1k-vR84Jj",
        "outputId": "86c79d66-8382-4cbb-bb43-a3440978ed63"
      },
      "execution_count": null,
      "outputs": [
        {
          "output_type": "execute_result",
          "data": {
            "text/plain": [
              "(12345, 54321, 'hello!')"
            ]
          },
          "metadata": {},
          "execution_count": 4
        }
      ]
    },
    {
      "cell_type": "code",
      "source": [
        "v = ([1,2,3],[3,2,1])\n",
        "v"
      ],
      "metadata": {
        "colab": {
          "base_uri": "https://localhost:8080/"
        },
        "id": "yunfhMYr9C5g",
        "outputId": "5c36b788-851e-4292-b31b-8690b5feb48e"
      },
      "execution_count": null,
      "outputs": [
        {
          "output_type": "execute_result",
          "data": {
            "text/plain": [
              "([1, 2, 3], [3, 2, 1])"
            ]
          },
          "metadata": {},
          "execution_count": 6
        }
      ]
    },
    {
      "cell_type": "code",
      "source": [
        "t[0] = 88888"
      ],
      "metadata": {
        "colab": {
          "base_uri": "https://localhost:8080/",
          "height": 183
        },
        "id": "wI__XKna87B9",
        "outputId": "00667517-b3f8-4239-b93a-d620ffcb3e9a"
      },
      "execution_count": null,
      "outputs": [
        {
          "output_type": "error",
          "ename": "TypeError",
          "evalue": "ignored",
          "traceback": [
            "\u001b[0;31m---------------------------------------------------------------------------\u001b[0m",
            "\u001b[0;31mTypeError\u001b[0m                                 Traceback (most recent call last)",
            "\u001b[0;32m<ipython-input-5-d739abe3b757>\u001b[0m in \u001b[0;36m<cell line: 1>\u001b[0;34m()\u001b[0m\n\u001b[0;32m----> 1\u001b[0;31m \u001b[0mt\u001b[0m\u001b[0;34m[\u001b[0m\u001b[0;36m0\u001b[0m\u001b[0;34m]\u001b[0m \u001b[0;34m=\u001b[0m \u001b[0;36m88888\u001b[0m\u001b[0;34m\u001b[0m\u001b[0;34m\u001b[0m\u001b[0m\n\u001b[0m",
            "\u001b[0;31mTypeError\u001b[0m: 'tuple' object does not support item assignment"
          ]
        }
      ]
    },
    {
      "cell_type": "code",
      "source": [
        "i = [1,2,3,4,5,6,7]\n",
        "i.index(3)"
      ],
      "metadata": {
        "colab": {
          "base_uri": "https://localhost:8080/"
        },
        "id": "GsWYJOo1Ti3E",
        "outputId": "1299d83b-1df1-44bf-d86b-4dc1ac828e46"
      },
      "execution_count": null,
      "outputs": [
        {
          "output_type": "execute_result",
          "data": {
            "text/plain": [
              "2"
            ]
          },
          "metadata": {},
          "execution_count": 11
        }
      ]
    },
    {
      "cell_type": "code",
      "source": [
        "l = [1,2,3,4,5,6]\n",
        "l.pop()\n",
        "\n",
        "print(l)"
      ],
      "metadata": {
        "colab": {
          "base_uri": "https://localhost:8080/"
        },
        "id": "_gWT62DaS_tN",
        "outputId": "c49de321-f24e-4657-a9b5-ee0e3927028b"
      },
      "execution_count": null,
      "outputs": [
        {
          "output_type": "stream",
          "name": "stdout",
          "text": [
            "[1, 2, 3, 4, 5]\n"
          ]
        }
      ]
    },
    {
      "cell_type": "code",
      "source": [
        "r = [1,2,3,4,5,6,7,8,9,0]\n",
        "r.pop(3)\n",
        "\n",
        "print(r)"
      ],
      "metadata": {
        "colab": {
          "base_uri": "https://localhost:8080/"
        },
        "id": "1m1u_t8bTMgt",
        "outputId": "d65afbe8-ba1b-490c-e548-65873b0447f0"
      },
      "execution_count": null,
      "outputs": [
        {
          "output_type": "stream",
          "name": "stdout",
          "text": [
            "[1, 2, 3, 5, 6, 7, 8, 9, 0]\n"
          ]
        }
      ]
    },
    {
      "cell_type": "markdown",
      "source": [
        "#デコレータ"
      ],
      "metadata": {
        "id": "C-cVw5Qdioe4"
      }
    },
    {
      "cell_type": "code",
      "source": [],
      "metadata": {
        "id": "RO8jxU0GvHuD"
      },
      "execution_count": null,
      "outputs": []
    },
    {
      "cell_type": "code",
      "source": [
        "glbl = \"グローバル変数\"\n",
        "print(glbl + \"の定義\")\n",
        "\n",
        "def locl():\n",
        "  '''関数の中でグローバル変数を書き換えたいとき'''\n",
        "  global glbl\n",
        "  glbl = \"ローカル変数\"\n",
        "  print(glbl + \"の定義\")\n",
        "\n",
        "locl()\n",
        "\n",
        "print(\"これはグローバル変数ではなく\" + glbl + \"を定義\")"
      ],
      "metadata": {
        "id": "HXeaCZ_ltO-K",
        "outputId": "a6cd840b-7ed3-41d4-c47d-eac3f856c5f8",
        "colab": {
          "base_uri": "https://localhost:8080/"
        }
      },
      "execution_count": null,
      "outputs": [
        {
          "output_type": "stream",
          "name": "stdout",
          "text": [
            "グローバル変数の定義\n",
            "ローカル変数の定義\n",
            "これはグローバル変数ではなくローカル変数を定義\n"
          ]
        }
      ]
    },
    {
      "cell_type": "code",
      "source": [
        "glbl = \"グローバル変数\"\n",
        "print(glbl + \"の定義\")\n",
        "\n",
        "def locl():\n",
        "  glbl = \"ローカル変数\"\n",
        "  print(glbl + \"の定義\")\n",
        "\n",
        "locl()\n",
        "\n",
        "print(\"これは結局\" + glbl + \"を定義\")\n",
        "locl()"
      ],
      "metadata": {
        "id": "vQLMA5f-r3yR",
        "outputId": "2b53a560-b60b-413e-aa3d-5a078f9b6b43",
        "colab": {
          "base_uri": "https://localhost:8080/"
        }
      },
      "execution_count": null,
      "outputs": [
        {
          "output_type": "stream",
          "name": "stdout",
          "text": [
            "グローバル変数の定義\n",
            "ローカル変数の定義\n",
            "これは結局グローバル変数を定義\n",
            "ローカル変数の定義\n"
          ]
        }
      ]
    },
    {
      "cell_type": "code",
      "source": [
        "a = \"cat\"\n",
        "print(\"animal:\", a)\n",
        "\n",
        "def func():\n",
        "  a = \"dog\"\n",
        "  print(\"animal in func :\", a)\n",
        "\n",
        "func()\n",
        "\n",
        "print(\"animal global after func:\", a)"
      ],
      "metadata": {
        "id": "KEU-2l38isAo",
        "outputId": "288e57cc-fa66-4b5d-f650-902ad56f3fff",
        "colab": {
          "base_uri": "https://localhost:8080/"
        }
      },
      "execution_count": null,
      "outputs": [
        {
          "output_type": "stream",
          "name": "stdout",
          "text": [
            "animal: cat\n",
            "animal in func : dog\n",
            "animal global after func: cat\n"
          ]
        }
      ]
    },
    {
      "cell_type": "markdown",
      "source": [
        "#関数"
      ],
      "metadata": {
        "id": "3j2_jgqhijrC"
      }
    },
    {
      "cell_type": "code",
      "source": [
        "def ans(*args, separator=\".\"):\n",
        "  return separator.join(args)\n",
        "\n",
        "ans(\"a\",\"b\",\"c\",\"d\",separator=\"_\")"
      ],
      "metadata": {
        "colab": {
          "base_uri": "https://localhost:8080/",
          "height": 36
        },
        "id": "GBmAP1ppFOAr",
        "outputId": "90ab118c-d31d-4e45-9cb7-0b164f5d0ce4"
      },
      "execution_count": null,
      "outputs": [
        {
          "output_type": "execute_result",
          "data": {
            "text/plain": [
              "'a_b_c_d'"
            ],
            "application/vnd.google.colaboratory.intrinsic+json": {
              "type": "string"
            }
          },
          "metadata": {},
          "execution_count": 13
        }
      ]
    },
    {
      "cell_type": "code",
      "source": [
        "def mon(*args):\n",
        "  x = \"_\"\n",
        "  print(x.join(args))\n",
        "\n",
        "\n",
        "mon(\"a\",\"b\",\"c\",\"d\")"
      ],
      "metadata": {
        "colab": {
          "base_uri": "https://localhost:8080/"
        },
        "id": "G1KIoKuVEoBf",
        "outputId": "e273e08e-9972-482f-cb04-ac9bf2c2a01e"
      },
      "execution_count": null,
      "outputs": [
        {
          "output_type": "stream",
          "name": "stdout",
          "text": [
            "a_b_c_d\n"
          ]
        }
      ]
    },
    {
      "cell_type": "code",
      "source": [
        "ans(\"kokoha\",\"ninniku\",\"kenko\",\"kazoku\",separator=\" \")"
      ],
      "metadata": {
        "colab": {
          "base_uri": "https://localhost:8080/",
          "height": 36
        },
        "id": "2iYlceKSIJ22",
        "outputId": "85ef90b3-1465-4394-bcc6-86fa845ac04e"
      },
      "execution_count": null,
      "outputs": [
        {
          "output_type": "execute_result",
          "data": {
            "text/plain": [
              "'kokoha ninniku kenko kazoku'"
            ],
            "application/vnd.google.colaboratory.intrinsic+json": {
              "type": "string"
            }
          },
          "metadata": {},
          "execution_count": 14
        }
      ]
    },
    {
      "cell_type": "code",
      "source": [
        "def func_squae(*args):\n",
        "  results = []\n",
        "  for n in args:\n",
        "    results.append(n * n)\n",
        "  return results\n",
        "\n",
        "num = [1,2,3,4]\n",
        "func_squae(*num)"
      ],
      "metadata": {
        "colab": {
          "base_uri": "https://localhost:8080/"
        },
        "id": "5fdQXu0hF6Zh",
        "outputId": "d04742aa-288e-4d1a-aae9-edca892aee33"
      },
      "execution_count": null,
      "outputs": [
        {
          "output_type": "execute_result",
          "data": {
            "text/plain": [
              "[1, 4, 9, 16]"
            ]
          },
          "metadata": {},
          "execution_count": 1
        }
      ]
    },
    {
      "cell_type": "code",
      "source": [
        "many_num = list(range(100))\n",
        "print(func_squae(*many_num))"
      ],
      "metadata": {
        "id": "zK_zKkP_nIXT",
        "outputId": "1566cbc6-76e9-4120-a142-381b9f86610f",
        "colab": {
          "base_uri": "https://localhost:8080/"
        }
      },
      "execution_count": null,
      "outputs": [
        {
          "output_type": "stream",
          "name": "stdout",
          "text": [
            "[0, 1, 4, 9, 16, 25, 36, 49, 64, 81, 100, 121, 144, 169, 196, 225, 256, 289, 324, 361, 400, 441, 484, 529, 576, 625, 676, 729, 784, 841, 900, 961, 1024, 1089, 1156, 1225, 1296, 1369, 1444, 1521, 1600, 1681, 1764, 1849, 1936, 2025, 2116, 2209, 2304, 2401, 2500, 2601, 2704, 2809, 2916, 3025, 3136, 3249, 3364, 3481, 3600, 3721, 3844, 3969, 4096, 4225, 4356, 4489, 4624, 4761, 4900, 5041, 5184, 5329, 5476, 5625, 5776, 5929, 6084, 6241, 6400, 6561, 6724, 6889, 7056, 7225, 7396, 7569, 7744, 7921, 8100, 8281, 8464, 8649, 8836, 9025, 9216, 9409, 9604, 9801]\n"
          ]
        }
      ]
    },
    {
      "cell_type": "code",
      "source": [
        "def show_args(*args):\n",
        "  '''与えられた複数の位置引数をタプルにまとめて受け取りそのタプルを表示して返す'''\n",
        "  print(\"以下位置引数の出力\", args)\n",
        "  return args\n",
        "\n",
        "#与えられた複数の位置引数を代入\n",
        "show_args(1, 2, 3, \"da!\")"
      ],
      "metadata": {
        "colab": {
          "base_uri": "https://localhost:8080/"
        },
        "id": "kz0mRlIBslhx",
        "outputId": "c1db9f6b-9367-4a2f-cfc0-434dbc7f4a0e"
      },
      "execution_count": null,
      "outputs": [
        {
          "output_type": "stream",
          "name": "stdout",
          "text": [
            "以下位置引数の出力 (1, 2, 3, 'da!')\n"
          ]
        },
        {
          "output_type": "execute_result",
          "data": {
            "text/plain": [
              "(1, 2, 3, 'da!')"
            ]
          },
          "metadata": {},
          "execution_count": 6
        }
      ]
    },
    {
      "cell_type": "code",
      "source": [
        "def to_ren(*ren):\n",
        "  print(\"以下位置引数の出力\", ren)\n",
        "  return ren\n",
        "\n",
        "to_ren(1,56,\"クレー\")"
      ],
      "metadata": {
        "colab": {
          "base_uri": "https://localhost:8080/"
        },
        "id": "Ub4ae6V_urQ7",
        "outputId": "a51b3193-1295-44d6-ec40-0d789897f55f"
      },
      "execution_count": null,
      "outputs": [
        {
          "output_type": "stream",
          "name": "stdout",
          "text": [
            "以下位置引数の出力 (1, 56, 'クレー')\n"
          ]
        },
        {
          "output_type": "execute_result",
          "data": {
            "text/plain": [
              "(1, 56, 'クレー')"
            ]
          },
          "metadata": {},
          "execution_count": 4
        }
      ]
    },
    {
      "cell_type": "code",
      "source": [
        "def show_kw(**kwargs):\n",
        "  print(\"以下キーワード引数の出力\", kwargs)\n",
        "  return kwargs\n",
        "\n",
        "show_kw(pasta=\"カルボナーラ\",drink=\"オレンジジュース\",count=1)"
      ],
      "metadata": {
        "colab": {
          "base_uri": "https://localhost:8080/"
        },
        "id": "cSQT3Jx61Kzo",
        "outputId": "6f7620ff-2073-48c1-e930-48b61f0023bd"
      },
      "execution_count": null,
      "outputs": [
        {
          "output_type": "stream",
          "name": "stdout",
          "text": [
            "以下キーワード引数の出力 {'pasta': 'カルボナーラ', 'drink': 'オレンジジュース', 'count': 1}\n"
          ]
        },
        {
          "output_type": "execute_result",
          "data": {
            "text/plain": [
              "{'pasta': 'カルボナーラ', 'drink': 'オレンジジュース', 'count': 1}"
            ]
          },
          "metadata": {},
          "execution_count": 5
        }
      ]
    },
    {
      "cell_type": "code",
      "source": [
        "anpac_args = (4,5,6,\"ya!\")\n",
        "show_args(*anpac_args)"
      ],
      "metadata": {
        "colab": {
          "base_uri": "https://localhost:8080/"
        },
        "id": "Nd7pBEVXA0oQ",
        "outputId": "28956435-b1d3-4351-e6d7-81d44e585a33"
      },
      "execution_count": null,
      "outputs": [
        {
          "output_type": "stream",
          "name": "stdout",
          "text": [
            "以下位置引数の出力 (4, 5, 6, 'ya!')\n"
          ]
        },
        {
          "output_type": "execute_result",
          "data": {
            "text/plain": [
              "(4, 5, 6, 'ya!')"
            ]
          },
          "metadata": {},
          "execution_count": 8
        }
      ]
    },
    {
      "cell_type": "markdown",
      "source": [
        "#format()"
      ],
      "metadata": {
        "id": "FoyW8D27A2CP"
      }
    },
    {
      "cell_type": "code",
      "source": [
        "a = \"abc\"\n",
        "b = \"xyz\"\n",
        "'{} {}'.format(a, b)"
      ],
      "metadata": {
        "id": "maha-L3VONNV",
        "outputId": "db26058a-c718-406e-ad0a-54c2945f4d34",
        "colab": {
          "base_uri": "https://localhost:8080/",
          "height": 36
        }
      },
      "execution_count": null,
      "outputs": [
        {
          "output_type": "execute_result",
          "data": {
            "text/plain": [
              "'abc xyz'"
            ],
            "application/vnd.google.colaboratory.intrinsic+json": {
              "type": "string"
            }
          },
          "metadata": {},
          "execution_count": 8
        }
      ]
    },
    {
      "cell_type": "code",
      "source": [
        "title = \"name\"\n",
        "chara = \"Hu Tao\"\n",
        "print(\"My {} is {}.\".format(title, chara))"
      ],
      "metadata": {
        "id": "b3xg7Wpjac4Y",
        "outputId": "225522e1-b4ae-40f3-b27c-56334953ec95",
        "colab": {
          "base_uri": "https://localhost:8080/"
        }
      },
      "execution_count": null,
      "outputs": [
        {
          "output_type": "stream",
          "name": "stdout",
          "text": [
            "My name is Hu Tao.\n"
          ]
        }
      ]
    },
    {
      "cell_type": "markdown",
      "source": [
        "#range()"
      ],
      "metadata": {
        "id": "fkx7Ch5zA6oW"
      }
    },
    {
      "cell_type": "code",
      "source": [
        "list(range(3))"
      ],
      "metadata": {
        "id": "CPcsBLDjMCm4",
        "outputId": "89c660a5-acf8-4471-c0ac-64504927494e",
        "colab": {
          "base_uri": "https://localhost:8080/"
        }
      },
      "execution_count": null,
      "outputs": [
        {
          "output_type": "execute_result",
          "data": {
            "text/plain": [
              "[0, 1, 2]"
            ]
          },
          "metadata": {},
          "execution_count": 4
        }
      ]
    },
    {
      "cell_type": "code",
      "source": [
        "list(range(1, 10))"
      ],
      "metadata": {
        "id": "qtg6oq_BMmQ1",
        "outputId": "94aeec61-d98e-4e20-cab0-93f04f0e0c29",
        "colab": {
          "base_uri": "https://localhost:8080/"
        }
      },
      "execution_count": null,
      "outputs": [
        {
          "output_type": "execute_result",
          "data": {
            "text/plain": [
              "[1, 2, 3, 4, 5, 6, 7, 8, 9]"
            ]
          },
          "metadata": {},
          "execution_count": 5
        }
      ]
    },
    {
      "cell_type": "code",
      "source": [
        "list(range(2, 11, 2))"
      ],
      "metadata": {
        "id": "XRyLsiw8NIIK",
        "outputId": "a08d8897-41bd-4f47-9d69-1b08fed68629",
        "colab": {
          "base_uri": "https://localhost:8080/"
        }
      },
      "execution_count": null,
      "outputs": [
        {
          "output_type": "execute_result",
          "data": {
            "text/plain": [
              "[2, 4, 6, 8, 10]"
            ]
          },
          "metadata": {},
          "execution_count": 6
        }
      ]
    },
    {
      "cell_type": "code",
      "source": [
        "list(range(9, 0, -2))"
      ],
      "metadata": {
        "id": "8CpAq0jQNbWL",
        "outputId": "527b0744-4de9-47ce-8274-f3c2a439c8b1",
        "colab": {
          "base_uri": "https://localhost:8080/"
        }
      },
      "execution_count": null,
      "outputs": [
        {
          "output_type": "execute_result",
          "data": {
            "text/plain": [
              "[9, 7, 5, 3, 1]"
            ]
          },
          "metadata": {},
          "execution_count": 7
        }
      ]
    },
    {
      "cell_type": "code",
      "source": [
        "type(2)"
      ],
      "metadata": {
        "id": "nONRMVdh5dD-",
        "outputId": "919d7e5e-4cda-4c27-ce9a-938f383643b6",
        "colab": {
          "base_uri": "https://localhost:8080/"
        }
      },
      "execution_count": null,
      "outputs": [
        {
          "output_type": "execute_result",
          "data": {
            "text/plain": [
              "int"
            ]
          },
          "metadata": {},
          "execution_count": 1
        }
      ]
    },
    {
      "cell_type": "code",
      "source": [
        "type(3.7)"
      ],
      "metadata": {
        "id": "0MhSfaZ45l-P",
        "outputId": "72781f21-430f-42d6-e9ba-94ff196ae298",
        "colab": {
          "base_uri": "https://localhost:8080/"
        }
      },
      "execution_count": null,
      "outputs": [
        {
          "output_type": "execute_result",
          "data": {
            "text/plain": [
              "float"
            ]
          },
          "metadata": {},
          "execution_count": 2
        }
      ]
    },
    {
      "cell_type": "code",
      "source": [
        "a = \"A\"\n",
        "type(a)"
      ],
      "metadata": {
        "id": "6JXUi1HC5odG",
        "outputId": "98d15789-7622-4170-c44b-6713b3d9b397",
        "colab": {
          "base_uri": "https://localhost:8080/"
        }
      },
      "execution_count": null,
      "outputs": [
        {
          "output_type": "execute_result",
          "data": {
            "text/plain": [
              "str"
            ]
          },
          "metadata": {},
          "execution_count": 3
        }
      ]
    },
    {
      "cell_type": "code",
      "source": [
        "b = 2\n",
        "type(b) is int"
      ],
      "metadata": {
        "id": "99QWoGfjJVyG",
        "outputId": "aaf5aca9-f524-4637-a8af-83d140edb23a",
        "colab": {
          "base_uri": "https://localhost:8080/"
        }
      },
      "execution_count": null,
      "outputs": [
        {
          "output_type": "execute_result",
          "data": {
            "text/plain": [
              "True"
            ]
          },
          "metadata": {},
          "execution_count": 2
        }
      ]
    },
    {
      "cell_type": "code",
      "source": [
        "round(2.3)"
      ],
      "metadata": {
        "id": "NfyChApaKtQl",
        "outputId": "c02e760b-3c9a-4578-a8f1-bd4d6c7520e8",
        "colab": {
          "base_uri": "https://localhost:8080/"
        }
      },
      "execution_count": null,
      "outputs": [
        {
          "output_type": "execute_result",
          "data": {
            "text/plain": [
              "2"
            ]
          },
          "metadata": {},
          "execution_count": 3
        }
      ]
    },
    {
      "cell_type": "code",
      "source": [
        "\"Python\""
      ],
      "metadata": {
        "colab": {
          "base_uri": "https://localhost:8080/",
          "height": 36
        },
        "id": "iOOua2ymd53y",
        "outputId": "af077592-595d-4b7d-8502-3407a7f221b5"
      },
      "execution_count": null,
      "outputs": [
        {
          "output_type": "execute_result",
          "data": {
            "text/plain": [
              "'Python'"
            ],
            "application/vnd.google.colaboratory.intrinsic+json": {
              "type": "string"
            }
          },
          "metadata": {},
          "execution_count": 1
        }
      ]
    },
    {
      "cell_type": "code",
      "source": [
        "print(\"Python\")"
      ],
      "metadata": {
        "colab": {
          "base_uri": "https://localhost:8080/"
        },
        "id": "4Fex1HkIeAUs",
        "outputId": "01b6ae1e-a431-4982-f594-1e39b99c9e71"
      },
      "execution_count": null,
      "outputs": [
        {
          "output_type": "stream",
          "name": "stdout",
          "text": [
            "Python\n"
          ]
        }
      ]
    },
    {
      "cell_type": "code",
      "source": [
        "l = [1,2,3,4,5,6,6]\n",
        "l.append(7)\n",
        "l"
      ],
      "metadata": {
        "colab": {
          "base_uri": "https://localhost:8080/"
        },
        "id": "bodl2bPAeM9q",
        "outputId": "533a656f-b165-483e-c711-88404c3f0427"
      },
      "execution_count": null,
      "outputs": [
        {
          "output_type": "execute_result",
          "data": {
            "text/plain": [
              "[1, 2, 3, 4, 5, 6, 6, 7]"
            ]
          },
          "metadata": {},
          "execution_count": 3
        }
      ]
    },
    {
      "cell_type": "code",
      "source": [
        "l.insert(5,6)\n",
        "l"
      ],
      "metadata": {
        "colab": {
          "base_uri": "https://localhost:8080/"
        },
        "id": "xstQOzJmeaIj",
        "outputId": "43b26e01-34ad-44b2-c7c7-9a1351a73da8"
      },
      "execution_count": null,
      "outputs": [
        {
          "output_type": "execute_result",
          "data": {
            "text/plain": [
              "[1, 2, 3, 4, 5, 6, 6, 6, 7]"
            ]
          },
          "metadata": {},
          "execution_count": 5
        }
      ]
    },
    {
      "cell_type": "code",
      "source": [
        "l.remove(6)\n",
        "l"
      ],
      "metadata": {
        "colab": {
          "base_uri": "https://localhost:8080/"
        },
        "id": "P6rIzVkAenbU",
        "outputId": "7094bf88-64b2-457a-d2db-ab44bedad0b8"
      },
      "execution_count": null,
      "outputs": [
        {
          "output_type": "execute_result",
          "data": {
            "text/plain": [
              "[1, 2, 3, 4, 5, 6, 6, 7]"
            ]
          },
          "metadata": {},
          "execution_count": 7
        }
      ]
    },
    {
      "cell_type": "code",
      "source": [
        "l.pop(5)\n",
        "l"
      ],
      "metadata": {
        "colab": {
          "base_uri": "https://localhost:8080/"
        },
        "id": "iHLlomZ3e5bb",
        "outputId": "d61e994c-096b-4097-d587-c75e993a18d9"
      },
      "execution_count": null,
      "outputs": [
        {
          "output_type": "execute_result",
          "data": {
            "text/plain": [
              "[1, 2, 3, 4, 5, 6, 7]"
            ]
          },
          "metadata": {},
          "execution_count": 8
        }
      ]
    },
    {
      "cell_type": "code",
      "source": [
        "l.clear()\n",
        "l"
      ],
      "metadata": {
        "colab": {
          "base_uri": "https://localhost:8080/"
        },
        "id": "TdBgLAgUfBcy",
        "outputId": "077b424e-355e-420a-a186-da1e10290c35"
      },
      "execution_count": null,
      "outputs": [
        {
          "output_type": "execute_result",
          "data": {
            "text/plain": [
              "[]"
            ]
          },
          "metadata": {},
          "execution_count": 9
        }
      ]
    }
  ]
}