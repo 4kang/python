{
  "nbformat": 4,
  "nbformat_minor": 0,
  "metadata": {
    "colab": {
      "provenance": [],
      "gpuType": "T4",
      "authorship_tag": "ABX9TyNOG4OGAiDFhv5xkahdr3x7",
      "include_colab_link": true
    },
    "kernelspec": {
      "name": "python3",
      "display_name": "Python 3"
    },
    "language_info": {
      "name": "python"
    },
    "accelerator": "GPU"
  },
  "cells": [
    {
      "cell_type": "markdown",
      "metadata": {
        "id": "view-in-github",
        "colab_type": "text"
      },
      "source": [
        "<a href=\"https://colab.research.google.com/github/4kang/python/blob/main/%E3%82%A2%E3%82%A6%E3%83%88%E3%83%97%E3%83%83%E3%83%88.ipynb\" target=\"_parent\"><img src=\"https://colab.research.google.com/assets/colab-badge.svg\" alt=\"Open In Colab\"/></a>"
      ]
    },
    {
      "cell_type": "code",
      "source": [
        "def mon(*args):\n",
        "  x = \"_\"\n",
        "  print(x.join(args))\n",
        "\n",
        "\n",
        "mon(\"a\",\"b\",\"c\",\"d\")"
      ],
      "metadata": {
        "id": "G1KIoKuVEoBf",
        "outputId": "e273e08e-9972-482f-cb04-ac9bf2c2a01e",
        "colab": {
          "base_uri": "https://localhost:8080/"
        }
      },
      "execution_count": 12,
      "outputs": [
        {
          "output_type": "stream",
          "name": "stdout",
          "text": [
            "a_b_c_d\n"
          ]
        }
      ]
    },
    {
      "cell_type": "code",
      "source": [
        "def ans(*args, separator=\".\"):\n",
        "  return separator.join(args)\n",
        "\n",
        "ans(\"a\",\"b\",\"c\",\"d\",separator=\"_\")"
      ],
      "metadata": {
        "id": "GBmAP1ppFOAr",
        "outputId": "90ab118c-d31d-4e45-9cb7-0b164f5d0ce4",
        "colab": {
          "base_uri": "https://localhost:8080/",
          "height": 36
        }
      },
      "execution_count": 13,
      "outputs": [
        {
          "output_type": "execute_result",
          "data": {
            "text/plain": [
              "'a_b_c_d'"
            ],
            "application/vnd.google.colaboratory.intrinsic+json": {
              "type": "string"
            }
          },
          "metadata": {},
          "execution_count": 13
        }
      ]
    },
    {
      "cell_type": "code",
      "source": [
        "ans(\"kokoha\",\"ninniku\",\"kenko\",\"kazoku\",separator=\" \")"
      ],
      "metadata": {
        "id": "2iYlceKSIJ22",
        "outputId": "85ef90b3-1465-4394-bcc6-86fa845ac04e",
        "colab": {
          "base_uri": "https://localhost:8080/",
          "height": 36
        }
      },
      "execution_count": 14,
      "outputs": [
        {
          "output_type": "execute_result",
          "data": {
            "text/plain": [
              "'kokoha ninniku kenko kazoku'"
            ],
            "application/vnd.google.colaboratory.intrinsic+json": {
              "type": "string"
            }
          },
          "metadata": {},
          "execution_count": 14
        }
      ]
    },
    {
      "cell_type": "code",
      "source": [],
      "metadata": {
        "id": "5fdQXu0hF6Zh"
      },
      "execution_count": null,
      "outputs": []
    },
    {
      "cell_type": "code",
      "source": [
        "def show_args(*args):\n",
        "  '''与えられた複数の位置引数をタプルにまとめて受け取りそのタプルを表示して返す'''\n",
        "  print(\"以下位置引数の出力\", args)\n",
        "  return args\n",
        "\n",
        "#与えられた複数の位置引数を代入\n",
        "show_args(1, 2, 3, \"da!\")"
      ],
      "metadata": {
        "id": "kz0mRlIBslhx",
        "outputId": "c1db9f6b-9367-4a2f-cfc0-434dbc7f4a0e",
        "colab": {
          "base_uri": "https://localhost:8080/"
        }
      },
      "execution_count": 6,
      "outputs": [
        {
          "output_type": "stream",
          "name": "stdout",
          "text": [
            "以下位置引数の出力 (1, 2, 3, 'da!')\n"
          ]
        },
        {
          "output_type": "execute_result",
          "data": {
            "text/plain": [
              "(1, 2, 3, 'da!')"
            ]
          },
          "metadata": {},
          "execution_count": 6
        }
      ]
    },
    {
      "cell_type": "code",
      "source": [
        "def to_ren(*ren):\n",
        "  print(\"以下位置引数の出力\", ren)\n",
        "  return ren\n",
        "\n",
        "to_ren(1,56,\"クレー\")"
      ],
      "metadata": {
        "id": "Ub4ae6V_urQ7",
        "outputId": "a51b3193-1295-44d6-ec40-0d789897f55f",
        "colab": {
          "base_uri": "https://localhost:8080/"
        }
      },
      "execution_count": 4,
      "outputs": [
        {
          "output_type": "stream",
          "name": "stdout",
          "text": [
            "以下位置引数の出力 (1, 56, 'クレー')\n"
          ]
        },
        {
          "output_type": "execute_result",
          "data": {
            "text/plain": [
              "(1, 56, 'クレー')"
            ]
          },
          "metadata": {},
          "execution_count": 4
        }
      ]
    },
    {
      "cell_type": "code",
      "source": [
        "def show_kw(**kwargs):\n",
        "  print(\"以下キーワード引数の出力\", kwargs)\n",
        "  return kwargs\n",
        "\n",
        "show_kw(pasta=\"カルボナーラ\",drink=\"オレンジジュース\",count=1)"
      ],
      "metadata": {
        "id": "cSQT3Jx61Kzo",
        "outputId": "6f7620ff-2073-48c1-e930-48b61f0023bd",
        "colab": {
          "base_uri": "https://localhost:8080/"
        }
      },
      "execution_count": 5,
      "outputs": [
        {
          "output_type": "stream",
          "name": "stdout",
          "text": [
            "以下キーワード引数の出力 {'pasta': 'カルボナーラ', 'drink': 'オレンジジュース', 'count': 1}\n"
          ]
        },
        {
          "output_type": "execute_result",
          "data": {
            "text/plain": [
              "{'pasta': 'カルボナーラ', 'drink': 'オレンジジュース', 'count': 1}"
            ]
          },
          "metadata": {},
          "execution_count": 5
        }
      ]
    },
    {
      "cell_type": "code",
      "source": [
        "anpac_args = (4,5,6,\"ya!\")\n",
        "show_args(*anpac_args)"
      ],
      "metadata": {
        "id": "Nd7pBEVXA0oQ",
        "outputId": "28956435-b1d3-4351-e6d7-81d44e585a33",
        "colab": {
          "base_uri": "https://localhost:8080/"
        }
      },
      "execution_count": 8,
      "outputs": [
        {
          "output_type": "stream",
          "name": "stdout",
          "text": [
            "以下位置引数の出力 (4, 5, 6, 'ya!')\n"
          ]
        },
        {
          "output_type": "execute_result",
          "data": {
            "text/plain": [
              "(4, 5, 6, 'ya!')"
            ]
          },
          "metadata": {},
          "execution_count": 8
        }
      ]
    },
    {
      "cell_type": "markdown",
      "source": [
        "#format()"
      ],
      "metadata": {
        "id": "FoyW8D27A2CP"
      }
    },
    {
      "cell_type": "code",
      "source": [
        "a = \"abc\"\n",
        "b = \"xyz\"\n",
        "'{} {}'.format(a, b)"
      ],
      "metadata": {
        "id": "maha-L3VONNV",
        "outputId": "db26058a-c718-406e-ad0a-54c2945f4d34",
        "colab": {
          "base_uri": "https://localhost:8080/",
          "height": 36
        }
      },
      "execution_count": null,
      "outputs": [
        {
          "output_type": "execute_result",
          "data": {
            "text/plain": [
              "'abc xyz'"
            ],
            "application/vnd.google.colaboratory.intrinsic+json": {
              "type": "string"
            }
          },
          "metadata": {},
          "execution_count": 8
        }
      ]
    },
    {
      "cell_type": "code",
      "source": [
        "title = \"name\"\n",
        "chara = \"Hu Tao\"\n",
        "print(\"My {} is {}.\".format(title, chara))"
      ],
      "metadata": {
        "id": "b3xg7Wpjac4Y",
        "outputId": "225522e1-b4ae-40f3-b27c-56334953ec95",
        "colab": {
          "base_uri": "https://localhost:8080/"
        }
      },
      "execution_count": null,
      "outputs": [
        {
          "output_type": "stream",
          "name": "stdout",
          "text": [
            "My name is Hu Tao.\n"
          ]
        }
      ]
    },
    {
      "cell_type": "markdown",
      "source": [
        "#range()"
      ],
      "metadata": {
        "id": "fkx7Ch5zA6oW"
      }
    },
    {
      "cell_type": "code",
      "source": [
        "list(range(3))"
      ],
      "metadata": {
        "id": "CPcsBLDjMCm4",
        "outputId": "89c660a5-acf8-4471-c0ac-64504927494e",
        "colab": {
          "base_uri": "https://localhost:8080/"
        }
      },
      "execution_count": null,
      "outputs": [
        {
          "output_type": "execute_result",
          "data": {
            "text/plain": [
              "[0, 1, 2]"
            ]
          },
          "metadata": {},
          "execution_count": 4
        }
      ]
    },
    {
      "cell_type": "code",
      "source": [
        "list(range(1, 10))"
      ],
      "metadata": {
        "id": "qtg6oq_BMmQ1",
        "outputId": "94aeec61-d98e-4e20-cab0-93f04f0e0c29",
        "colab": {
          "base_uri": "https://localhost:8080/"
        }
      },
      "execution_count": null,
      "outputs": [
        {
          "output_type": "execute_result",
          "data": {
            "text/plain": [
              "[1, 2, 3, 4, 5, 6, 7, 8, 9]"
            ]
          },
          "metadata": {},
          "execution_count": 5
        }
      ]
    },
    {
      "cell_type": "code",
      "source": [
        "list(range(2, 11, 2))"
      ],
      "metadata": {
        "id": "XRyLsiw8NIIK",
        "outputId": "a08d8897-41bd-4f47-9d69-1b08fed68629",
        "colab": {
          "base_uri": "https://localhost:8080/"
        }
      },
      "execution_count": null,
      "outputs": [
        {
          "output_type": "execute_result",
          "data": {
            "text/plain": [
              "[2, 4, 6, 8, 10]"
            ]
          },
          "metadata": {},
          "execution_count": 6
        }
      ]
    },
    {
      "cell_type": "code",
      "source": [
        "list(range(9, 0, -2))"
      ],
      "metadata": {
        "id": "8CpAq0jQNbWL",
        "outputId": "527b0744-4de9-47ce-8274-f3c2a439c8b1",
        "colab": {
          "base_uri": "https://localhost:8080/"
        }
      },
      "execution_count": null,
      "outputs": [
        {
          "output_type": "execute_result",
          "data": {
            "text/plain": [
              "[9, 7, 5, 3, 1]"
            ]
          },
          "metadata": {},
          "execution_count": 7
        }
      ]
    },
    {
      "cell_type": "code",
      "source": [
        "type(2)"
      ],
      "metadata": {
        "id": "nONRMVdh5dD-",
        "outputId": "919d7e5e-4cda-4c27-ce9a-938f383643b6",
        "colab": {
          "base_uri": "https://localhost:8080/"
        }
      },
      "execution_count": null,
      "outputs": [
        {
          "output_type": "execute_result",
          "data": {
            "text/plain": [
              "int"
            ]
          },
          "metadata": {},
          "execution_count": 1
        }
      ]
    },
    {
      "cell_type": "code",
      "source": [
        "type(3.7)"
      ],
      "metadata": {
        "id": "0MhSfaZ45l-P",
        "outputId": "72781f21-430f-42d6-e9ba-94ff196ae298",
        "colab": {
          "base_uri": "https://localhost:8080/"
        }
      },
      "execution_count": null,
      "outputs": [
        {
          "output_type": "execute_result",
          "data": {
            "text/plain": [
              "float"
            ]
          },
          "metadata": {},
          "execution_count": 2
        }
      ]
    },
    {
      "cell_type": "code",
      "source": [
        "a = \"A\"\n",
        "type(a)"
      ],
      "metadata": {
        "id": "6JXUi1HC5odG",
        "outputId": "98d15789-7622-4170-c44b-6713b3d9b397",
        "colab": {
          "base_uri": "https://localhost:8080/"
        }
      },
      "execution_count": null,
      "outputs": [
        {
          "output_type": "execute_result",
          "data": {
            "text/plain": [
              "str"
            ]
          },
          "metadata": {},
          "execution_count": 3
        }
      ]
    },
    {
      "cell_type": "code",
      "source": [
        "b = 2\n",
        "type(b) is int"
      ],
      "metadata": {
        "id": "99QWoGfjJVyG",
        "outputId": "aaf5aca9-f524-4637-a8af-83d140edb23a",
        "colab": {
          "base_uri": "https://localhost:8080/"
        }
      },
      "execution_count": null,
      "outputs": [
        {
          "output_type": "execute_result",
          "data": {
            "text/plain": [
              "True"
            ]
          },
          "metadata": {},
          "execution_count": 2
        }
      ]
    },
    {
      "cell_type": "code",
      "source": [
        "round(2.3)"
      ],
      "metadata": {
        "id": "NfyChApaKtQl",
        "outputId": "c02e760b-3c9a-4578-a8f1-bd4d6c7520e8",
        "colab": {
          "base_uri": "https://localhost:8080/"
        }
      },
      "execution_count": null,
      "outputs": [
        {
          "output_type": "execute_result",
          "data": {
            "text/plain": [
              "2"
            ]
          },
          "metadata": {},
          "execution_count": 3
        }
      ]
    },
    {
      "cell_type": "code",
      "source": [
        "\"Python\""
      ],
      "metadata": {
        "colab": {
          "base_uri": "https://localhost:8080/",
          "height": 36
        },
        "id": "iOOua2ymd53y",
        "outputId": "af077592-595d-4b7d-8502-3407a7f221b5"
      },
      "execution_count": null,
      "outputs": [
        {
          "output_type": "execute_result",
          "data": {
            "text/plain": [
              "'Python'"
            ],
            "application/vnd.google.colaboratory.intrinsic+json": {
              "type": "string"
            }
          },
          "metadata": {},
          "execution_count": 1
        }
      ]
    },
    {
      "cell_type": "code",
      "source": [
        "print(\"Python\")"
      ],
      "metadata": {
        "colab": {
          "base_uri": "https://localhost:8080/"
        },
        "id": "4Fex1HkIeAUs",
        "outputId": "01b6ae1e-a431-4982-f594-1e39b99c9e71"
      },
      "execution_count": null,
      "outputs": [
        {
          "output_type": "stream",
          "name": "stdout",
          "text": [
            "Python\n"
          ]
        }
      ]
    },
    {
      "cell_type": "code",
      "source": [
        "l = [1,2,3,4,5,6,6]\n",
        "l.append(7)\n",
        "l"
      ],
      "metadata": {
        "colab": {
          "base_uri": "https://localhost:8080/"
        },
        "id": "bodl2bPAeM9q",
        "outputId": "533a656f-b165-483e-c711-88404c3f0427"
      },
      "execution_count": null,
      "outputs": [
        {
          "output_type": "execute_result",
          "data": {
            "text/plain": [
              "[1, 2, 3, 4, 5, 6, 6, 7]"
            ]
          },
          "metadata": {},
          "execution_count": 3
        }
      ]
    },
    {
      "cell_type": "code",
      "source": [
        "l.insert(5,6)\n",
        "l"
      ],
      "metadata": {
        "colab": {
          "base_uri": "https://localhost:8080/"
        },
        "id": "xstQOzJmeaIj",
        "outputId": "43b26e01-34ad-44b2-c7c7-9a1351a73da8"
      },
      "execution_count": null,
      "outputs": [
        {
          "output_type": "execute_result",
          "data": {
            "text/plain": [
              "[1, 2, 3, 4, 5, 6, 6, 6, 7]"
            ]
          },
          "metadata": {},
          "execution_count": 5
        }
      ]
    },
    {
      "cell_type": "code",
      "source": [
        "l.remove(6)\n",
        "l"
      ],
      "metadata": {
        "colab": {
          "base_uri": "https://localhost:8080/"
        },
        "id": "P6rIzVkAenbU",
        "outputId": "7094bf88-64b2-457a-d2db-ab44bedad0b8"
      },
      "execution_count": null,
      "outputs": [
        {
          "output_type": "execute_result",
          "data": {
            "text/plain": [
              "[1, 2, 3, 4, 5, 6, 6, 7]"
            ]
          },
          "metadata": {},
          "execution_count": 7
        }
      ]
    },
    {
      "cell_type": "code",
      "source": [
        "l.pop(5)\n",
        "l"
      ],
      "metadata": {
        "colab": {
          "base_uri": "https://localhost:8080/"
        },
        "id": "iHLlomZ3e5bb",
        "outputId": "d61e994c-096b-4097-d587-c75e993a18d9"
      },
      "execution_count": null,
      "outputs": [
        {
          "output_type": "execute_result",
          "data": {
            "text/plain": [
              "[1, 2, 3, 4, 5, 6, 7]"
            ]
          },
          "metadata": {},
          "execution_count": 8
        }
      ]
    },
    {
      "cell_type": "code",
      "source": [
        "l.clear()\n",
        "l"
      ],
      "metadata": {
        "colab": {
          "base_uri": "https://localhost:8080/"
        },
        "id": "TdBgLAgUfBcy",
        "outputId": "077b424e-355e-420a-a186-da1e10290c35"
      },
      "execution_count": null,
      "outputs": [
        {
          "output_type": "execute_result",
          "data": {
            "text/plain": [
              "[]"
            ]
          },
          "metadata": {},
          "execution_count": 9
        }
      ]
    }
  ]
}