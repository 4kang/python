{
  "nbformat": 4,
  "nbformat_minor": 0,
  "metadata": {
    "colab": {
      "provenance": [],
      "authorship_tag": "ABX9TyOqWYzDchpXt/chDhWMCX3i",
      "include_colab_link": true
    },
    "kernelspec": {
      "name": "python3",
      "display_name": "Python 3"
    },
    "language_info": {
      "name": "python"
    }
  },
  "cells": [
    {
      "cell_type": "markdown",
      "metadata": {
        "id": "view-in-github",
        "colab_type": "text"
      },
      "source": [
        "<a href=\"https://colab.research.google.com/github/4kang/python/blob/main/%E3%82%A2%E3%82%A6%E3%83%88%E3%83%97%E3%83%83%E3%83%88.ipynb\" target=\"_parent\"><img src=\"https://colab.research.google.com/assets/colab-badge.svg\" alt=\"Open In Colab\"/></a>"
      ]
    },
    {
      "cell_type": "code",
      "execution_count": 1,
      "metadata": {
        "id": "K7IcKRCqDKtj",
        "colab": {
          "base_uri": "https://localhost:8080/"
        },
        "outputId": "0392b4e9-2172-4b50-9960-472c61d50c45"
      },
      "outputs": [
        {
          "output_type": "execute_result",
          "data": {
            "text/plain": [
              "9"
            ]
          },
          "metadata": {},
          "execution_count": 1
        }
      ],
      "source": [
        "27 // 3"
      ]
    },
    {
      "cell_type": "code",
      "source": [
        "27 / 3"
      ],
      "metadata": {
        "colab": {
          "base_uri": "https://localhost:8080/"
        },
        "id": "XnwljKGnrUOm",
        "outputId": "15f196fa-09e3-49cd-b705-8d2efc056b3b"
      },
      "execution_count": 2,
      "outputs": [
        {
          "output_type": "execute_result",
          "data": {
            "text/plain": [
              "9.0"
            ]
          },
          "metadata": {},
          "execution_count": 2
        }
      ]
    },
    {
      "cell_type": "code",
      "source": [
        "2 ** 2"
      ],
      "metadata": {
        "colab": {
          "base_uri": "https://localhost:8080/"
        },
        "id": "uMC8UN-6rZHc",
        "outputId": "08ee3ee2-4ea3-4466-f738-85ae674741ed"
      },
      "execution_count": 3,
      "outputs": [
        {
          "output_type": "execute_result",
          "data": {
            "text/plain": [
              "4"
            ]
          },
          "metadata": {},
          "execution_count": 3
        }
      ]
    },
    {
      "cell_type": "code",
      "source": [
        "dic = [[\"蛍\",\"空\",\"パイモン\"],\n",
        "       [\"アンバー\",\"ガイア\",\"リサ\"],\n",
        "       [\"タルタリヤ\",\"しょうり\",\"魈\"]\n",
        "       ]\n",
        "\n",
        "print(list(zip(*dic)))"
      ],
      "metadata": {
        "colab": {
          "base_uri": "https://localhost:8080/"
        },
        "id": "9VgCptKhrbLK",
        "outputId": "1525cd20-a147-4aad-cc89-871cbedf4182"
      },
      "execution_count": 4,
      "outputs": [
        {
          "output_type": "stream",
          "name": "stdout",
          "text": [
            "[('蛍', 'アンバー', 'タルタリヤ'), ('空', 'ガイア', 'しょうり'), ('パイモン', 'リサ', '魈')]\n"
          ]
        }
      ]
    },
    {
      "cell_type": "code",
      "source": [
        "range(0,10)"
      ],
      "metadata": {
        "colab": {
          "base_uri": "https://localhost:8080/"
        },
        "id": "H2HWZC_VsQz5",
        "outputId": "363f597a-dd49-40c0-da8e-2698f314a10a"
      },
      "execution_count": 5,
      "outputs": [
        {
          "output_type": "execute_result",
          "data": {
            "text/plain": [
              "range(0, 10)"
            ]
          },
          "metadata": {},
          "execution_count": 5
        }
      ]
    },
    {
      "cell_type": "code",
      "source": [
        "a = 23 / 4\n",
        "b = 4 ** 3\n",
        "\n",
        "c = a + b\n",
        "c * _\n",
        "round(_, 2)"
      ],
      "metadata": {
        "colab": {
          "base_uri": "https://localhost:8080/"
        },
        "id": "QmxPdkE4sTeR",
        "outputId": "3b3bd720-ec1e-4279-850e-03f3f4b3489a"
      },
      "execution_count": 23,
      "outputs": [
        {
          "output_type": "execute_result",
          "data": {
            "text/plain": [
              "12"
            ]
          },
          "metadata": {},
          "execution_count": 23
        }
      ]
    },
    {
      "cell_type": "code",
      "source": [
        "k = lambda x: x + 10\n",
        "\n",
        "k(2)"
      ],
      "metadata": {
        "colab": {
          "base_uri": "https://localhost:8080/"
        },
        "id": "ZtV5Ua4JtOhG",
        "outputId": "18a2b6e3-8eed-417c-80f2-432bd2b5f992"
      },
      "execution_count": 22,
      "outputs": [
        {
          "output_type": "execute_result",
          "data": {
            "text/plain": [
              "12"
            ]
          },
          "metadata": {},
          "execution_count": 22
        }
      ]
    },
    {
      "cell_type": "code",
      "source": [
        "dive_into_code = [(1, 'Noro'), (2, 'Nakao'), (3, 'Miyaoka'), (4, 'Aimura')]\n",
        "dic = dive_into_code\n",
        "dic.sort(key=lambda dic: dic[1])\n",
        "#1は第二要素の名前を昇順にする。0の場合、第一要素の数字に対し昇順にする\n",
        "\n",
        "print(dic)"
      ],
      "metadata": {
        "colab": {
          "base_uri": "https://localhost:8080/"
        },
        "id": "Ji9PworptmC1",
        "outputId": "e61ad6d1-df04-4eed-90c1-7547fbc47125"
      },
      "execution_count": 28,
      "outputs": [
        {
          "output_type": "stream",
          "name": "stdout",
          "text": [
            "[(1, 'Noro'), (2, 'Nakao'), (3, 'Miyaoka'), (4, 'Aimura')]\n"
          ]
        }
      ]
    }
  ]
}